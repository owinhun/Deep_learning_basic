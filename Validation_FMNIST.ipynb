{
 "cells": [
  {
   "cell_type": "markdown",
   "metadata": {},
   "source": [
    "# Classifying Fashion-MNIST\n",
    "\n",
    "* 이번 실습에서는 지난 시간과 거의 유사한 작업을 Fashion-MNIST dataset에 대해서 수행하겠습니다\n",
    "\n",
    "* Fashion-MNIST 는 28x28 흑백으로 된 의류 image입니다\n",
    "* 숫자를 표현한 MNIST 보다는 더 복잡한 image가 되어, NN의 성능을 시험해보기 조금 더 난해한 dataset 입니다 (물론 지금 시대에는 여전히 쉬운 작업입니다)\n",
    "\n",
    "* dataset에 대한 그림은 아래와 같습니다\n",
    "\n",
    "\n",
    "![Classnote](https://drive.google.com/uc?export=download&id=1jS383QGptWGFyDrVO0i8Eo7BwXqV5epq)\n",
    "\n",
    "* 작업은 여러분이 처음부터 끝까지 코딩을 하시면 됩니다\n",
    "* 전체적인 흐름은 지난 주 숙제와 동일하기 때문에 (결국 10개의 의상 종류로 분류합니다) 지난 주 숙제 solution이나 본인이 짠 부분을 대부분 가져와서 해보시면 됩니다.\n",
    "\n",
    "* 아래는 dataset을 준비하는 과정입니다"
   ]
  },
  {
   "cell_type": "code",
   "execution_count": 1,
   "metadata": {},
   "outputs": [],
   "source": [
    "import torch\n",
    "from torchvision import datasets, transforms\n",
    "import helper"
   ]
  },
  {
   "cell_type": "code",
   "execution_count": 2,
   "metadata": {},
   "outputs": [
    {
     "name": "stdout",
     "output_type": "stream",
     "text": [
      "Downloading http://fashion-mnist.s3-website.eu-central-1.amazonaws.com/train-images-idx3-ubyte.gz\n",
      "Downloading http://fashion-mnist.s3-website.eu-central-1.amazonaws.com/train-images-idx3-ubyte.gz to C:\\Users\\hallym/.pytorch/F_MNIST_data/FashionMNIST\\raw\\train-images-idx3-ubyte.gz\n"
     ]
    },
    {
     "data": {
      "application/vnd.jupyter.widget-view+json": {
       "model_id": "0b636a7af6994044845f724150822539",
       "version_major": 2,
       "version_minor": 0
      },
      "text/plain": [
       "  0%|          | 0/26421880 [00:00<?, ?it/s]"
      ]
     },
     "metadata": {},
     "output_type": "display_data"
    },
    {
     "name": "stdout",
     "output_type": "stream",
     "text": [
      "Extracting C:\\Users\\hallym/.pytorch/F_MNIST_data/FashionMNIST\\raw\\train-images-idx3-ubyte.gz to C:\\Users\\hallym/.pytorch/F_MNIST_data/FashionMNIST\\raw\n",
      "\n",
      "Downloading http://fashion-mnist.s3-website.eu-central-1.amazonaws.com/train-labels-idx1-ubyte.gz\n",
      "Downloading http://fashion-mnist.s3-website.eu-central-1.amazonaws.com/train-labels-idx1-ubyte.gz to C:\\Users\\hallym/.pytorch/F_MNIST_data/FashionMNIST\\raw\\train-labels-idx1-ubyte.gz\n"
     ]
    },
    {
     "data": {
      "application/vnd.jupyter.widget-view+json": {
       "model_id": "147cbab6744f4b3da147dcb7910790cc",
       "version_major": 2,
       "version_minor": 0
      },
      "text/plain": [
       "  0%|          | 0/29515 [00:00<?, ?it/s]"
      ]
     },
     "metadata": {},
     "output_type": "display_data"
    },
    {
     "name": "stdout",
     "output_type": "stream",
     "text": [
      "Extracting C:\\Users\\hallym/.pytorch/F_MNIST_data/FashionMNIST\\raw\\train-labels-idx1-ubyte.gz to C:\\Users\\hallym/.pytorch/F_MNIST_data/FashionMNIST\\raw\n",
      "\n",
      "Downloading http://fashion-mnist.s3-website.eu-central-1.amazonaws.com/t10k-images-idx3-ubyte.gz\n",
      "Downloading http://fashion-mnist.s3-website.eu-central-1.amazonaws.com/t10k-images-idx3-ubyte.gz to C:\\Users\\hallym/.pytorch/F_MNIST_data/FashionMNIST\\raw\\t10k-images-idx3-ubyte.gz\n"
     ]
    },
    {
     "data": {
      "application/vnd.jupyter.widget-view+json": {
       "model_id": "9b74801277ef40488aabb83345b0de40",
       "version_major": 2,
       "version_minor": 0
      },
      "text/plain": [
       "  0%|          | 0/4422102 [00:00<?, ?it/s]"
      ]
     },
     "metadata": {},
     "output_type": "display_data"
    },
    {
     "name": "stdout",
     "output_type": "stream",
     "text": [
      "Extracting C:\\Users\\hallym/.pytorch/F_MNIST_data/FashionMNIST\\raw\\t10k-images-idx3-ubyte.gz to C:\\Users\\hallym/.pytorch/F_MNIST_data/FashionMNIST\\raw\n",
      "\n",
      "Downloading http://fashion-mnist.s3-website.eu-central-1.amazonaws.com/t10k-labels-idx1-ubyte.gz\n",
      "Downloading http://fashion-mnist.s3-website.eu-central-1.amazonaws.com/t10k-labels-idx1-ubyte.gz to C:\\Users\\hallym/.pytorch/F_MNIST_data/FashionMNIST\\raw\\t10k-labels-idx1-ubyte.gz\n"
     ]
    },
    {
     "data": {
      "application/vnd.jupyter.widget-view+json": {
       "model_id": "b71df5dcea6648f4a3393e58367c9c7a",
       "version_major": 2,
       "version_minor": 0
      },
      "text/plain": [
       "  0%|          | 0/5148 [00:00<?, ?it/s]"
      ]
     },
     "metadata": {},
     "output_type": "display_data"
    },
    {
     "name": "stdout",
     "output_type": "stream",
     "text": [
      "Extracting C:\\Users\\hallym/.pytorch/F_MNIST_data/FashionMNIST\\raw\\t10k-labels-idx1-ubyte.gz to C:\\Users\\hallym/.pytorch/F_MNIST_data/FashionMNIST\\raw\n",
      "\n"
     ]
    }
   ],
   "source": [
    "transform = transforms.Compose([transforms.ToTensor()])\n",
    "trainset = datasets.FashionMNIST('~/.pytorch/F_MNIST_data/', download=True, train=True, transform=transform)\n",
    "trainloader = torch.utils.data.DataLoader(trainset, batch_size=2000, shuffle=True)"
   ]
  },
  {
   "cell_type": "code",
   "execution_count": 3,
   "metadata": {},
   "outputs": [],
   "source": [
    "images, labels = next(iter(trainloader))"
   ]
  },
  {
   "cell_type": "code",
   "execution_count": 4,
   "metadata": {},
   "outputs": [
    {
     "data": {
      "text/plain": [
       "torch.Size([2000, 1, 28, 28])"
      ]
     },
     "execution_count": 4,
     "metadata": {},
     "output_type": "execute_result"
    }
   ],
   "source": [
    "images.shape"
   ]
  },
  {
   "cell_type": "code",
   "execution_count": 5,
   "metadata": {},
   "outputs": [
    {
     "data": {
      "text/plain": [
       "tensor(0.2812)"
      ]
     },
     "execution_count": 5,
     "metadata": {},
     "output_type": "execute_result"
    }
   ],
   "source": [
    "torch.mean(images)"
   ]
  },
  {
   "cell_type": "code",
   "execution_count": 6,
   "metadata": {},
   "outputs": [
    {
     "data": {
      "text/plain": [
       "tensor(0.3508)"
      ]
     },
     "execution_count": 6,
     "metadata": {},
     "output_type": "execute_result"
    }
   ],
   "source": [
    "torch.std(images)"
   ]
  },
  {
   "cell_type": "code",
   "execution_count": 12,
   "metadata": {},
   "outputs": [],
   "source": [
    "# pytorch에서 device를 cpu로 사용할건지 cuda로 사용할건지.\n",
    "# cuda가 있으면 cuda에서 연산.\n",
    "# ndivia의 GPU\n",
    "device = 'cpu'\n",
    "if torch.cuda.is_available():\n",
    "    device = 'cuda'"
   ]
  },
  {
   "cell_type": "code",
   "execution_count": 13,
   "metadata": {},
   "outputs": [
    {
     "data": {
      "text/plain": [
       "True"
      ]
     },
     "execution_count": 13,
     "metadata": {},
     "output_type": "execute_result"
    }
   ],
   "source": [
    "torch.cuda.is_available()"
   ]
  },
  {
   "cell_type": "markdown",
   "metadata": {},
   "source": [
    "- 기본적으로 제공해주는 Test data를 valset으로 사용."
   ]
  },
  {
   "cell_type": "code",
   "execution_count": 15,
   "metadata": {},
   "outputs": [],
   "source": [
    "# Define a transform to normalize the data\n",
    "transform = transforms.Compose([transforms.ToTensor(),\n",
    "                                # 3차원일 경우 배치사이즈(ex 2000)에 대해 채널별 평균, 표준편차 구해서 튜플 형태로 넣기.\n",
    "                                transforms.Normalize((0.28,), (0.35,))])\n",
    "\n",
    "# Download and load the training data\n",
    "trainset = datasets.FashionMNIST('~/.pytorch/F_MNIST_data/', download=True, train=True, transform=transform)\n",
    "trainloader = torch.utils.data.DataLoader(trainset, batch_size=64, shuffle=True)\n",
    "\n",
    "# Download and load the test data\n",
    "valset = datasets.FashionMNIST('~/.pytorch/F_MNIST_data/', download=True, train=False, transform=transform)\n",
    "valloader = torch.utils.data.DataLoader(valset, batch_size=64, shuffle=True)"
   ]
  },
  {
   "cell_type": "markdown",
   "metadata": {},
   "source": [
    "* 아래 명령으로 이미지 중에 한개를 살펴봐서 준비가 되었는지 확인해 봅시다"
   ]
  },
  {
   "cell_type": "code",
   "execution_count": 11,
   "metadata": {
    "scrolled": true
   },
   "outputs": [
    {
     "data": {
      "image/png": "[encoded data removed]",
      "text/plain": [
       "<Figure size 432x288 with 1 Axes>"
      ]
     },
     "metadata": {
      "needs_background": "light"
     },
     "output_type": "display_data"
    }
   ],
   "source": [
    "image, label = next(iter(trainloader))\n",
    "helper.imshow(image[0,:]);"
   ]
  },
  {
   "cell_type": "markdown",
   "metadata": {},
   "source": [
    "### Problem 1\n",
    "\n",
    "* 이미지가 28x28인 점을 고려하여 지난주에 벡터로 변환하는 작업을 수행하고\n",
    "* fc1,...,fc4 까지 linear layer를 만드시고\n",
    "* 최종 output layer fc4는 10개 분류 작업을 할 수 있도록 구성\n",
    "\n",
    "* Activation 함수는 ReLU, 최종 layer는 linear layer 만 연산\n",
    "* Cost function 정의\n",
    "* autograd, optimizer를 사용하여 training 수행 \n",
    "* fc1 는 256의 크기로 구성\n",
    "* fc2 는 128의 크기로 구성\n",
    "* fc3 는 64의 크기로 구성\n",
    "* epoch수는 5"
   ]
  },
  {
   "cell_type": "code",
   "execution_count": 16,
   "metadata": {},
   "outputs": [
    {
     "data": {
      "text/plain": [
       "torch.Size([64, 784])"
      ]
     },
     "execution_count": 16,
     "metadata": {},
     "output_type": "execute_result"
    }
   ],
   "source": [
    "image = image.reshape(image.shape[0], -1)\n",
    "image.shape"
   ]
  },
  {
   "cell_type": "code",
   "execution_count": 17,
   "metadata": {},
   "outputs": [],
   "source": [
    "from torch import nn, optim\n",
    "import torch.nn.functional as F\n",
    "\n",
    "class Classifier(nn.Module):\n",
    "    def __init__(self):\n",
    "        super().__init__()\n",
    "        \n",
    "        # self.fc = nn.Sequential(\n",
    "        #             nn.Linear(image.shape[1], 256),\n",
    "        #             nn.ReLU(True),\n",
    "        #             nn.Linear(256,128),\n",
    "        #             nn.ReLU(True),\n",
    "        #             nn.Linear(128,64),\n",
    "        #             nn.ReLU(True) ,\n",
    "        #             nn.Linear(64, 10)\n",
    "        # )\n",
    "        \n",
    "        self.fc1 = nn.Linear(image.shape[1], 256)\n",
    "        self.fc2 = nn.Linear(256, 128)\n",
    "        self.fc3 = nn.Linear(128, 64)\n",
    "        self.fc4 = nn.Linear(64, 10)\n",
    "\n",
    "    def forward(self, x):\n",
    "        \n",
    "        x = F.relu(self.fc1(x))\n",
    "        x = F.relu(self.fc2(x))\n",
    "        x = F.relu(self.fc3(x))\n",
    "        x = self.fc4(x)\n",
    "        return x\n",
    "    ###############"
   ]
  },
  {
   "cell_type": "markdown",
   "metadata": {},
   "source": [
    "### Problem 2: Training the network"
   ]
  },
  {
   "cell_type": "code",
   "execution_count": 19,
   "metadata": {},
   "outputs": [
    {
     "name": "stdout",
     "output_type": "stream",
     "text": [
      "Training loss: 0.474887062396322\n",
      "Training loss: 0.3675859835801094\n",
      "Training loss: 0.3324651117327371\n",
      "Training loss: 0.31218018054739755\n",
      "Training loss: 0.29746042052184596\n"
     ]
    }
   ],
   "source": [
    "# TODO: 네트워크를 training 하세요 (epoch는 5번으로 하죠)\n",
    "model = Classifier()\n",
    "model.to(device) #내 deivce는 cuda, 따라서 cuda메모리에 올림.\n",
    "criterion = nn.CrossEntropyLoss()\n",
    "# optim.SGD() -> optim을 Adam으로 , SGD의 단점을 보완한 알고리즘. 가볍게는 Adam, 넓은곳으로 가면 SGD\n",
    "optimizer = optim.Adam(model.parameters(), lr=0.003)\n",
    "\n",
    "epochs = 5\n",
    "\n",
    "for e in range(epochs):\n",
    "    running_loss = 0\n",
    "    for images, labels in trainloader: # 첫 epoch에서 trainloader를 불러오기 때문에 젤 오래걸림.\n",
    "        images = images.reshape(images.shape[0],-1).to(device) #이미지를 텐서로 핀 다음 to(device)를 통해 GPU에서 연산.\n",
    "        labels = labels.to(device) # cpu에 있는 친구와 gpu에 있는 친구가 연산을 하면 오류가 나욤\n",
    "        \n",
    "        #### 답 작성\n",
    "        logit = model(images) # images가 gpu에 있으니 모델도 gpu에 있어야함.\n",
    "        loss = criterion(logit, labels)\n",
    "\n",
    "        optimizer.zero_grad()\n",
    "        loss.backward()\n",
    "        optimizer.step()\n",
    "        \n",
    "        #### \n",
    "        \n",
    "        running_loss += loss.item()\n",
    "    \n",
    "    print(f\"Training loss: {running_loss/len(trainloader)}\")"
   ]
  },
  {
   "cell_type": "code",
   "execution_count": 28,
   "metadata": {},
   "outputs": [
    {
     "data": {
      "image/png": "[encoded data removed]",
      "text/plain": [
       "<Figure size 432x648 with 2 Axes>"
      ]
     },
     "metadata": {
      "image/png": {
       "height": 216,
       "width": 424
      },
      "needs_background": "light"
     },
     "output_type": "display_data"
    }
   ],
   "source": [
    "%matplotlib inline\n",
    "%config InlineBackend.figure_format = 'retina'\n",
    "\n",
    "# Test out your network!\n",
    "\n",
    "images, labels = next(iter(valloader))\n",
    "img = images[1].reshape(1,-1)\n",
    "img = img.to(device) # 항상 to(device) 하는 습관을 가지자.\n",
    "\n",
    "# log softmax 값을 softmax로 변환하여 확률값을 저장\n",
    "logits = model(img)\n",
    "sm = nn.Softmax(dim=1) # row단위로!! nn.Softmax(dim = 1)을 통해 row 단위로 확률값을 구함.\n",
    "ps = sm(logits)\n",
    "\n",
    "# Plot the image and probabilities\n",
    "helper.view_classify(img.to('cpu'), ps.cpu(), version='Fashion') #matplotlib은 cpu에 있어야지만 연산이 가능해짐."
   ]
  },
  {
   "cell_type": "markdown",
   "metadata": {
    "tags": []
   },
   "source": [
    "# Part 2: Inference and Validation\n",
    "\n",
    "* 지금까지는 network를 training하는 방법에 대해서 알아보았습니다\n",
    "* Training 된 network를 활용하여 예측 (prediction)을 하는 것을 ML 용어로 inference라고 합니다\n",
    "* Training된 network를 새로운 데이터에 대해서도 좋은 성능을 갖게하는 것을 generalization 이라고 합니다 \n",
    "* 하지만, neural network (또는 모든 ML)은  training 된 데이터에 너무 최적화되어, 새로운 데이터에대해서 성능이 떨어지는 (generalization 이 안되는) 문제가 발생합니다. 이런 현상을  **overfitting** 이라고 합니다\n",
    "* **Generalization** 이 잘되어서 **overfitting** 안일어났는지 확인하는 작업을 **validation** set으로 data를 분리하여 수행합니다\n",
    "* Overfitting이 일어나지 않도록 처리하는 여러 기법을 **regularization** 이라고 하며, 대표적으로 **dropout**과 같은것이 있습니다\n",
    "* 이번 실습에서는 **validation**에 대해서 알아보겠습니다\n",
    "<br><br>\n",
    "* dataset 은 torchvision을 통해서 load하겠습니다\n",
    "* Torchvision에 대한 자세한 기능은 차차 배우기로 학고, 우선은 테스트 세트를 load하기 위해서 `train=False` 로 설정합니다\n",
    "\n",
    "```python\n",
    "valset = datasets.FashionMNIST('~/.pytorch/F_MNIST_data/', download=True, train=False, transform=transform)\n",
    "```\n",
    "\n",
    "* validation set은 trainging set과 비슷한 구조를 갖습니다"
   ]
  },
  {
   "cell_type": "markdown",
   "metadata": {},
   "source": [
    "- regularization : Generalization 과정에서 validation 과정에서 overfitting 이 발견되었을 때 이 오버피팅을 막기위한 방법을 regularization이라 하는데 대표적인 예시로는 Dropout이있다.\n"
   ]
  },
  {
   "cell_type": "markdown",
   "metadata": {},
   "source": [
    "* 본 작업에 목적은 training set에 포함하지 않은 data에 대해서 성능을 측정하는 것입니다\n",
    "* 여기서 성능은 개발자에 의해서 용도에 맞게 설정합니다 \n",
    "* 본 과제에서는 정확도 관점에서 성능을 측정학겠습니다\n",
    "  - 즉 분류를 성공과 실패로 보고 성공의 비율을 측정합니다\n",
    "* 기타 성능 측정을 위한 방법은 [precision and recall](https://en.wikipedia.org/wiki/Precision_and_recall#Definition_(classification_context)) 과 top-5 error rate 등이 있습니다\n",
    "* 시작으로, 한개에 batch에 대한 forward pass를 실행합니다"
   ]
  },
  {
   "cell_type": "code",
   "execution_count": 29,
   "metadata": {},
   "outputs": [
    {
     "name": "stdout",
     "output_type": "stream",
     "text": [
      "torch.Size([64, 10])\n"
     ]
    }
   ],
   "source": [
    "model = Classifier()\n",
    "\n",
    "images, labels = next(iter(valloader))\n",
    "\n",
    "# Get the class probabilities\n",
    "images = images.reshape(images.shape[0],-1)\n",
    "logits = model(images)\n",
    "ps = sm(logits)\n",
    "# Make sure the shape is appropriate, we should get 10 class probabilities for 64 examples\n",
    "print(ps.shape)"
   ]
  },
  {
   "cell_type": "markdown",
   "metadata": {},
   "source": [
    "* 출력은 각 classification 항목에 대한 확률 분포로 출력됩니다\n",
    "* `ps.topk` method로 $k$개의 활률 값이 가장 높은 value와 index를 tuple로 받습니다\n",
    "* 가장 높은 가능성으로 분류를 하고자하니, `ps.topk(1)`를 사용합니다\n",
    "* 예를 들어서 가장 높은 value가 5번째이면 index 4를 받습니다"
   ]
  },
  {
   "cell_type": "code",
   "execution_count": 32,
   "metadata": {},
   "outputs": [
    {
     "name": "stdout",
     "output_type": "stream",
     "text": [
      "tensor([[3],\n",
      "        [0],\n",
      "        [0],\n",
      "        [0],\n",
      "        [0],\n",
      "        [2],\n",
      "        [0],\n",
      "        [0],\n",
      "        [0],\n",
      "        [0]])\n",
      "tensor([[0.1107],\n",
      "        [0.1136],\n",
      "        [0.1107],\n",
      "        [0.1116],\n",
      "        [0.1102],\n",
      "        [0.1102],\n",
      "        [0.1110],\n",
      "        [0.1096],\n",
      "        [0.1136],\n",
      "        [0.1095]], grad_fn=<SliceBackward0>)\n"
     ]
    },
    {
     "data": {
      "text/plain": [
       "torch.Size([64, 1])"
      ]
     },
     "execution_count": 32,
     "metadata": {},
     "output_type": "execute_result"
    }
   ],
   "source": [
    "top_p, top_class = ps.topk(1, dim=1) # 가장 높은값 하나만 필요하니까. topk는 가장 높은값 n개를 return해줌.\n",
    "# Look at the most likely classes for the first 10 examples\n",
    "print(top_class[:10,:]) # 가장 높은 인덱스를 반환해줌.\n",
    "print(top_p[:10,:]) # 값을 반환 해줌\n",
    "top_class.shape"
   ]
  },
  {
   "cell_type": "code",
   "execution_count": 31,
   "metadata": {},
   "outputs": [
    {
     "data": {
      "text/plain": [
       "tensor([[0.1097, 0.0885, 0.1010, 0.1107, 0.1062, 0.0956, 0.0977, 0.1063, 0.0900,\n",
       "         0.0942],\n",
       "        [0.1136, 0.0860, 0.1042, 0.1069, 0.1058, 0.0945, 0.1009, 0.1020, 0.0917,\n",
       "         0.0944],\n",
       "        [0.1107, 0.0887, 0.1056, 0.1063, 0.1049, 0.0910, 0.0987, 0.1030, 0.0968,\n",
       "         0.0942],\n",
       "        [0.1116, 0.0893, 0.1048, 0.1059, 0.1061, 0.0921, 0.0984, 0.1032, 0.0934,\n",
       "         0.0952],\n",
       "        [0.1102, 0.0898, 0.1048, 0.1058, 0.1021, 0.0940, 0.1008, 0.1041, 0.0945,\n",
       "         0.0939],\n",
       "        [0.1073, 0.0854, 0.1102, 0.1063, 0.1033, 0.0908, 0.0997, 0.1033, 0.0989,\n",
       "         0.0947],\n",
       "        [0.1110, 0.0866, 0.1089, 0.1019, 0.1036, 0.0919, 0.1021, 0.1037, 0.0952,\n",
       "         0.0952],\n",
       "        [0.1096, 0.0878, 0.1041, 0.1076, 0.1056, 0.0915, 0.0987, 0.1014, 0.0961,\n",
       "         0.0975],\n",
       "        [0.1136, 0.0882, 0.1011, 0.1110, 0.1063, 0.0942, 0.0966, 0.1017, 0.0907,\n",
       "         0.0966],\n",
       "        [0.1095, 0.0875, 0.1019, 0.1071, 0.1084, 0.0942, 0.1011, 0.1033, 0.0949,\n",
       "         0.0921]], grad_fn=<SliceBackward0>)"
      ]
     },
     "execution_count": 31,
     "metadata": {},
     "output_type": "execute_result"
    }
   ],
   "source": [
    "ps[:10,:]"
   ]
  },
  {
   "cell_type": "markdown",
   "metadata": {},
   "source": [
    "* 지금까지 네트워크에서 출력한 확률분포에서 가장 높은 확률값의 index를 64개 찾았습니다\n",
    "* 이제 `top_class`와 `labels`를 비교하여 몇개를 맞췄는지 확인을 해야합니다\n",
    "* 차원이 맞는 tensor 간에 `==`를 해서 비교합니다 (테스트 해보세요!)\n",
    "* 다음을 실행하면 원하는 답이 나오지 않습니다\n",
    "* `top_class`와 `labels`의 shape를 비교 해보고 싶은 생각이 드셔야합니다\n",
    "```python\n",
    "equals = top_class == labels\n",
    "```\n",
    "* (참고) broadcasting으로 `==` 연산이 일어난것이며, 우리가 원하는 연산은 아닙니다 "
   ]
  },
  {
   "cell_type": "code",
   "execution_count": 33,
   "metadata": {},
   "outputs": [
    {
     "data": {
      "text/plain": [
       "torch.Size([64])"
      ]
     },
     "execution_count": 33,
     "metadata": {},
     "output_type": "execute_result"
    }
   ],
   "source": [
    "labels.shape"
   ]
  },
  {
   "cell_type": "code",
   "execution_count": 34,
   "metadata": {},
   "outputs": [
    {
     "data": {
      "text/plain": [
       "torch.Size([64, 1])"
      ]
     },
     "execution_count": 34,
     "metadata": {},
     "output_type": "execute_result"
    }
   ],
   "source": [
    "top_class.shape"
   ]
  },
  {
   "cell_type": "code",
   "execution_count": 35,
   "metadata": {},
   "outputs": [
    {
     "data": {
      "text/plain": [
       "tensor([[False],\n",
       "        [False],\n",
       "        [False],\n",
       "        [False],\n",
       "        [False],\n",
       "        [False],\n",
       "        [False],\n",
       "        [False],\n",
       "        [False],\n",
       "        [False],\n",
       "        [False],\n",
       "        [False],\n",
       "        [False],\n",
       "        [False],\n",
       "        [False],\n",
       "        [False],\n",
       "        [False],\n",
       "        [ True],\n",
       "        [False],\n",
       "        [False],\n",
       "        [False],\n",
       "        [False],\n",
       "        [False],\n",
       "        [False],\n",
       "        [False],\n",
       "        [False],\n",
       "        [False],\n",
       "        [ True],\n",
       "        [False],\n",
       "        [False],\n",
       "        [False],\n",
       "        [False],\n",
       "        [False],\n",
       "        [ True],\n",
       "        [False],\n",
       "        [False],\n",
       "        [False],\n",
       "        [False],\n",
       "        [False],\n",
       "        [False],\n",
       "        [False],\n",
       "        [False],\n",
       "        [False],\n",
       "        [False],\n",
       "        [False],\n",
       "        [False],\n",
       "        [False],\n",
       "        [ True],\n",
       "        [False],\n",
       "        [False],\n",
       "        [ True],\n",
       "        [False],\n",
       "        [False],\n",
       "        [False],\n",
       "        [False],\n",
       "        [False],\n",
       "        [ True],\n",
       "        [False],\n",
       "        [False],\n",
       "        [False],\n",
       "        [False],\n",
       "        [False],\n",
       "        [ True],\n",
       "        [False]])"
      ]
     },
     "execution_count": 35,
     "metadata": {},
     "output_type": "execute_result"
    }
   ],
   "source": [
    "top_class == labels.reshape(top_class.shape)"
   ]
  },
  {
   "cell_type": "code",
   "execution_count": 36,
   "metadata": {},
   "outputs": [
    {
     "data": {
      "text/plain": [
       "tensor([4, 4, 7, 2, 9, 9, 8, 5, 8, 1, 0, 3, 2, 5, 6, 6, 3, 3, 8, 6, 4, 6, 0, 2,\n",
       "        0, 9, 6, 0, 7, 9, 3, 8, 7, 0, 3, 9, 4, 8, 1, 5, 2, 3, 6, 9, 7, 6, 5, 0,\n",
       "        8, 4, 0, 7, 2, 8, 7, 7, 3, 8, 2, 4, 5, 9, 0, 6])"
      ]
     },
     "execution_count": 36,
     "metadata": {},
     "output_type": "execute_result"
    }
   ],
   "source": [
    "labels"
   ]
  },
  {
   "cell_type": "code",
   "execution_count": 37,
   "metadata": {},
   "outputs": [
    {
     "data": {
      "text/plain": [
       "torch.Size([64, 1])"
      ]
     },
     "execution_count": 37,
     "metadata": {},
     "output_type": "execute_result"
    }
   ],
   "source": [
    "equals = top_class == labels.reshape(top_class.shape) #reshape을 필수로 해줘야 함.\n",
    "top_class.shape"
   ]
  },
  {
   "cell_type": "code",
   "execution_count": 40,
   "metadata": {},
   "outputs": [
    {
     "data": {
      "text/plain": [
       "tensor([[False],\n",
       "        [False],\n",
       "        [False],\n",
       "        [False],\n",
       "        [False],\n",
       "        [False],\n",
       "        [False],\n",
       "        [False],\n",
       "        [False],\n",
       "        [False],\n",
       "        [False],\n",
       "        [False],\n",
       "        [False],\n",
       "        [False],\n",
       "        [False],\n",
       "        [False],\n",
       "        [False],\n",
       "        [ True],\n",
       "        [False],\n",
       "        [False],\n",
       "        [False],\n",
       "        [False],\n",
       "        [False],\n",
       "        [False],\n",
       "        [False],\n",
       "        [False],\n",
       "        [False],\n",
       "        [ True],\n",
       "        [False],\n",
       "        [False],\n",
       "        [False],\n",
       "        [False],\n",
       "        [False],\n",
       "        [ True],\n",
       "        [False],\n",
       "        [False],\n",
       "        [False],\n",
       "        [False],\n",
       "        [False],\n",
       "        [False],\n",
       "        [False],\n",
       "        [False],\n",
       "        [False],\n",
       "        [False],\n",
       "        [False],\n",
       "        [False],\n",
       "        [False],\n",
       "        [ True],\n",
       "        [False],\n",
       "        [False],\n",
       "        [ True],\n",
       "        [False],\n",
       "        [False],\n",
       "        [False],\n",
       "        [False],\n",
       "        [False],\n",
       "        [ True],\n",
       "        [False],\n",
       "        [False],\n",
       "        [False],\n",
       "        [False],\n",
       "        [False],\n",
       "        [ True],\n",
       "        [False]])"
      ]
     },
     "execution_count": 40,
     "metadata": {},
     "output_type": "execute_result"
    }
   ],
   "source": [
    "equals #equals는 bool 타입이니까 float로 변환 필수."
   ]
  },
  {
   "cell_type": "markdown",
   "metadata": {},
   "source": [
    "* 이제 분류가 성공한 비율을 찾기위해서 전체를 더하고 총수로 나누는 (평균)을 내면됩니다\n",
    "* `torch.mean`이 유용한데 \n",
    "* `torch.mean(equals)`를 실행하면\n",
    "\n",
    "```\n",
    "RuntimeError: mean is not implemented for type torch.ByteTensor\n",
    "```\n",
    "* `equals`를 float tensor로 변환하여 적용합니다\n"
   ]
  },
  {
   "cell_type": "code",
   "execution_count": 41,
   "metadata": {},
   "outputs": [
    {
     "name": "stdout",
     "output_type": "stream",
     "text": [
      "Accuracy: 10.9375%\n"
     ]
    }
   ],
   "source": [
    "accuracy = torch.mean(equals.type(torch.float)) \n",
    "print(f'Accuracy: {accuracy*100}%')"
   ]
  },
  {
   "cell_type": "markdown",
   "metadata": {},
   "source": [
    "* 당연히 네트워크가 training이 안되었기 때문에 값이 랜덤하게 나옵니다\n",
    "* 이제 전체 test data (validation set)에 대한 loop를 완성하려 합니다 (위는 한 batch)\n",
    "* 아래 Exercise를 수행하는데 중요한 코드가 있습니다\n",
    "* `torch.no_grad():`는 tensor에 gradient 정보 없이 작업을 할때 사용합니다. 당연히 training이 없으니 network parameter를 업데이트할 필요가 없고, gradient 정보를 저장하는데 쓸데 없는 연산과 메모리 사용을 방지할 수 있습니다. Validation과정에서는 필수입니다! \n",
    "\n",
    "```python\n",
    "# turn off gradients\n",
    "with torch.no_grad():\n",
    "    # validation pass here\n",
    "    for images, labels in testloader:\n",
    "        ...\n",
    "```\n"
   ]
  },
  {
   "cell_type": "code",
   "execution_count": 46,
   "metadata": {},
   "outputs": [
    {
     "name": "stdout",
     "output_type": "stream",
     "text": [
      "Epoch: 1/30..  Training Loss: 0.486..  Validation Loss: 0.436..  Validation Accuracy: 0.843\n",
      "Epoch: 2/30..  Training Loss: 0.369..  Validation Loss: 0.398..  Validation Accuracy: 0.854\n",
      "Epoch: 3/30..  Training Loss: 0.339..  Validation Loss: 0.390..  Validation Accuracy: 0.866\n",
      "Epoch: 4/30..  Training Loss: 0.318..  Validation Loss: 0.368..  Validation Accuracy: 0.870\n",
      "Epoch: 5/30..  Training Loss: 0.300..  Validation Loss: 0.369..  Validation Accuracy: 0.868\n",
      "Epoch: 6/30..  Training Loss: 0.288..  Validation Loss: 0.363..  Validation Accuracy: 0.873\n",
      "Epoch: 7/30..  Training Loss: 0.277..  Validation Loss: 0.361..  Validation Accuracy: 0.878\n",
      "Epoch: 8/30..  Training Loss: 0.268..  Validation Loss: 0.357..  Validation Accuracy: 0.877\n",
      "Epoch: 9/30..  Training Loss: 0.256..  Validation Loss: 0.368..  Validation Accuracy: 0.876\n",
      "Epoch: 10/30..  Training Loss: 0.253..  Validation Loss: 0.350..  Validation Accuracy: 0.877\n",
      "Epoch: 11/30..  Training Loss: 0.244..  Validation Loss: 0.354..  Validation Accuracy: 0.875\n",
      "Epoch: 12/30..  Training Loss: 0.243..  Validation Loss: 0.367..  Validation Accuracy: 0.880\n",
      "Epoch: 13/30..  Training Loss: 0.233..  Validation Loss: 0.376..  Validation Accuracy: 0.878\n",
      "Epoch: 14/30..  Training Loss: 0.228..  Validation Loss: 0.370..  Validation Accuracy: 0.885\n",
      "Epoch: 15/30..  Training Loss: 0.219..  Validation Loss: 0.388..  Validation Accuracy: 0.880\n",
      "Epoch: 16/30..  Training Loss: 0.212..  Validation Loss: 0.370..  Validation Accuracy: 0.888\n",
      "Epoch: 17/30..  Training Loss: 0.217..  Validation Loss: 0.387..  Validation Accuracy: 0.886\n",
      "Epoch: 18/30..  Training Loss: 0.209..  Validation Loss: 0.376..  Validation Accuracy: 0.881\n",
      "Epoch: 19/30..  Training Loss: 0.203..  Validation Loss: 0.403..  Validation Accuracy: 0.885\n",
      "Epoch: 20/30..  Training Loss: 0.205..  Validation Loss: 0.415..  Validation Accuracy: 0.881\n",
      "Epoch: 21/30..  Training Loss: 0.200..  Validation Loss: 0.420..  Validation Accuracy: 0.886\n",
      "Epoch: 22/30..  Training Loss: 0.191..  Validation Loss: 0.404..  Validation Accuracy: 0.880\n",
      "Epoch: 23/30..  Training Loss: 0.188..  Validation Loss: 0.393..  Validation Accuracy: 0.885\n",
      "Epoch: 24/30..  Training Loss: 0.184..  Validation Loss: 0.408..  Validation Accuracy: 0.887\n",
      "Epoch: 25/30..  Training Loss: 0.186..  Validation Loss: 0.465..  Validation Accuracy: 0.883\n",
      "Epoch: 26/30..  Training Loss: 0.177..  Validation Loss: 0.401..  Validation Accuracy: 0.883\n",
      "Epoch: 27/30..  Training Loss: 0.175..  Validation Loss: 0.454..  Validation Accuracy: 0.877\n",
      "Epoch: 28/30..  Training Loss: 0.174..  Validation Loss: 0.417..  Validation Accuracy: 0.884\n",
      "Epoch: 29/30..  Training Loss: 0.171..  Validation Loss: 0.430..  Validation Accuracy: 0.886\n",
      "Epoch: 30/30..  Training Loss: 0.165..  Validation Loss: 0.425..  Validation Accuracy: 0.890\n"
     ]
    }
   ],
   "source": [
    "# 답 작성\n",
    "model = Classifier()\n",
    "model.to(device)\n",
    "criterion = nn.CrossEntropyLoss()\n",
    "optimizer = optim.Adam(model.parameters(), lr=0.003)\n",
    "\n",
    "epochs = 30\n",
    "steps = 0\n",
    "\n",
    "train_losses, val_losses = [], [] # 로스값 구하기.\n",
    "for e in range(epochs):\n",
    "    running_loss = 0\n",
    "    for images, labels in trainloader:\n",
    "        images = images.reshape(images.shape[0],-1).to(device)\n",
    "        labels = labels.to(device)\n",
    "        \n",
    "\n",
    "        # 답작성: Training 코드 \n",
    "        optimizer.zero_grad()\n",
    "\n",
    "        logit = model(images)\n",
    "        loss = criterion(logit, labels)\n",
    "        loss.backward()\n",
    "        optimizer.step()\n",
    "\n",
    "        \n",
    "        \n",
    "        #######################\n",
    "        running_loss += loss.item() # gpu 로 할경우 \n",
    "        \n",
    "    \n",
    "    val_loss = 0\n",
    "    accuracy = 0\n",
    "\n",
    "    \n",
    "    #val 과정 no_grad()를 통해 Gradient 계산 안함.\n",
    "    with torch.no_grad():\n",
    "        for images, labels in valloader:\n",
    "            # 위에서 train 후 validation 실행. train한번 당 validation 1번 실행.\n",
    "            images = images.reshape(images.shape[0], -1).to(device)\n",
    "            labels = labels.to(device)\n",
    "            logits = model(images)\n",
    "            val_loss += criterion(logits, labels).item()\n",
    "            \n",
    "            ps = sm(logits) # 확률값 구할거야.\n",
    "            top_p, top_class = ps.topk(1, dim = 1) # 가장 높은 값 하나를 고르는데 그 값과 idx가져와\n",
    "            equals = top_class == labels.reshape(top_class.shape) # 일치하는지 확인. \n",
    "            accuracy += torch.mean(equals.type(torch.float)) # 정확도 계산을 위해 float로 타입 변환 후 mean 계산.\n",
    "\n",
    "\n",
    "            #######################\n",
    "\n",
    "    train_losses.append(running_loss/len(trainloader))\n",
    "    val_losses.append(val_loss/len(valloader))\n",
    "\n",
    "    print(\"Epoch: {}/{}.. \".format(e+1, epochs),\n",
    "          \"Training Loss: {:.3f}.. \".format(running_loss/len(trainloader)),\n",
    "          \"Validation Loss: {:.3f}.. \".format(val_loss/len(valloader)),\n",
    "          \"Validation Accuracy: {:.3f}\".format(accuracy/len(valloader)))"
   ]
  },
  {
   "cell_type": "code",
   "execution_count": 47,
   "metadata": {},
   "outputs": [],
   "source": [
    "%matplotlib inline\n",
    "%config InlineBackend.figure_format = 'retina'\n",
    "\n",
    "import matplotlib.pyplot as plt"
   ]
  },
  {
   "cell_type": "code",
   "execution_count": 48,
   "metadata": {},
   "outputs": [
    {
     "data": {
      "text/plain": [
       "Text(0, 0.5, 'loss')"
      ]
     },
     "execution_count": 48,
     "metadata": {},
     "output_type": "execute_result"
    },
    {
     "data": {
      "image/png": "[encoded data removed]",
      "text/plain": [
       "<Figure size 432x288 with 1 Axes>"
      ]
     },
     "metadata": {
      "image/png": {
       "height": 264,
       "width": 393
      },
      "needs_background": "light"
     },
     "output_type": "display_data"
    }
   ],
   "source": [
    "plt.plot(train_losses, label='Training loss')\n",
    "plt.plot(val_losses, label='Validation loss')\n",
    "plt.legend(frameon=False)\n",
    "plt.xlabel('epoch')\n",
    "plt.ylabel('loss')"
   ]
  },
  {
   "cell_type": "markdown",
   "metadata": {},
   "source": [
    "## Overfitting\n",
    "\n",
    "* 위에서 수행한 결과를 살펴보면 overfitting 현상을 확인할 수 있습니다\n",
    "* 같지는 않지만, 아래와 같은 현상: -> 일반화가 제대로 되지않음.\n",
    "\n",
    "![Classnote](https://drive.google.com/uc?export=download&id=1QOvGv2H28H0X94tkUo5VU40TPeSjpI9q)\n",
    "\n",
    "- Training loss는 점점 줄어드는 반면, validation loss는 일정 줄어들다가 다시 늘어나는 현상을 확인 할 수 있습니다. \n",
    "- 궁극적인 목적은 새로운 data에 대해서 잘 동작하는 것이기 때문에 가장 낮은 validation loss를 갖도록 하는것이 목표 입니다\n",
    "- 그래프에서 착안 할 수 있는 방법중 하나는 가장 낮아지는 epoch를 찾아서 멈추는 방법입니다. 이런 방법을 *early-stopping*이라고 합니다 \n",
    "- 실제 적용하는 practice에서는 많은 training을 수행하며, 그 중에서 가장 좋은 성능(lowest validation error)의 network을 선택합니다\n",
    "- Early stopping 이외에 매우 자주 사용되는 regularization 방법은 *dropout* 입니다\n",
    "- Dropout은 네트워크의 연결을 `랜덤하게 일정 비율로 끊어버리는 방법`입니다\n",
    "    - network의 자유도를 떨어트림.\n",
    "- Dropout이 왜 효과가 있는지는 이론 수업에서 다루도록 하겠습니다\n",
    "- Pytorch에서 dropout을 수행하는 방법은 [`nn.Dropout`](https://pytorch.org/docs/stable/nn.html#torch.nn.Dropout) module 통해서 합니다\n",
    "\n",
    "```python\n",
    "class Classifier(nn.Module):\n",
    "    def __init__(self):\n",
    "        super().__init__()\n",
    "        self.fc1 = None\n",
    "        self.fc2 = None\n",
    "        self.fc3 = None\n",
    "        self.fc4 = None\n",
    "        \n",
    "        # Dropout module with 0.2 drop probability\n",
    "        self.dropout = nn.Dropout(p=0.2)\n",
    "        \n",
    "    def forward(self, x):\n",
    "        # make sure input tensor is flattened\n",
    "        x = x.view(x.shape[0], -1)\n",
    "        \n",
    "        # Now with dropout\n",
    "        x = self.dropout(F.relu(self.fc1(x)))\n",
    "        x = self.dropout(F.relu(self.fc2(x)))\n",
    "        x = self.dropout(F.relu(self.fc3(x)))\n",
    "        \n",
    "        # output so no dropout here\n",
    "        x = self.fc4(x)\n",
    "        \n",
    "        return x\n",
    "```\n",
    "\n",
    "* 여기서 Dropout은 training 단계에서만 사용하고, validation에서는 전체 네트워크를 사용해야 합니다 (Why?)\n",
    "* 즉, validation 과정에서는 dropout을 비활성화 해야하죠\n",
    "  - 이를 위해서 `model.eval()`을 사용합니다\n",
    "  - 즉, `model.eval()` 모드 하에서는 droupout 확률이 0으로 동작합니다   \n",
    "  - 다시 dropout를 수행할때는 `model.train()`으로 활성화 합니다\n",
    "  - 일반적으로 아래와 같이 동작하죠\n",
    "    1. Validation loop에서 gradient를 끄고, model을 evaluation mode로 설정\n",
    "    2. validation loss를 계산하고 \n",
    "    3. 다시 train mode로 변경 \n",
    "    \n",
    "```python\n",
    "# turn off gradients\n",
    "with torch.no_grad():\n",
    "    \n",
    "    # set model to evaluation mode\n",
    "    model.eval()\n",
    "    \n",
    "    # validation pass here\n",
    "    for images, labels in testloader:\n",
    "        ...\n",
    "\n",
    "# set model back to train mode\n",
    "model.train()\n",
    "```"
   ]
  },
  {
   "cell_type": "markdown",
   "metadata": {},
   "source": [
    "**Problem 3:** \n",
    "\n",
    "- 아래 코드에서 dropout를 사용하기 위한 필요한 곳을 수정/채워 주세요\n",
    "- model 에 dropout 적용, model.eval, model.train 등\n",
    "- 아래 코드는 위에 적용했던 코드 problem 1 부분 제외한 모음입니다\n",
    "- Template이라고 생각학고 적용하시면 됩니다"
   ]
  },
  {
   "cell_type": "code",
   "execution_count": 52,
   "metadata": {},
   "outputs": [],
   "source": [
    "class Classifier(nn.Module):\n",
    "    \n",
    "    # 앞 문제에서 작성한 network에 dropout 적용\n",
    "    def __init__(self):\n",
    "        super().__init__()\n",
    "        \n",
    "        self.fc1 = nn.Linear(image.shape[1], 256)\n",
    "        self.fc2 = nn.Linear(256, 128)\n",
    "        self.fc3 = nn.Linear(128, 64)\n",
    "        self.fc4 = nn.Linear(64, 10)\n",
    "\n",
    "        self.dropout = nn.Dropout(p = 0.2) #주로 0.2 ~ 0.5 사이 값이 결과가 좋다. 20% 에서 50% 만큼 연결 끊기.\n",
    "\n",
    "    def forward(self, x):\n",
    "        # tensor 피기\n",
    "        # x = x.view(x.shape[0], -1)\n",
    "        \n",
    "        \n",
    "        # Now with dropout\n",
    "        x = self.dropout(F.relu(self.fc1(x)))\n",
    "        x = self.dropout(F.relu(self.fc2(x)))\n",
    "        x = self.dropout(F.relu(self.fc3(x)))\n",
    "        \n",
    "        #출력\n",
    "        # 마지막 출력문에서 dropout을 적용하지 않는 이유 : 중간중간 빵꾸가 나면 일부 class에 대해서 예측을 하지 못하기 때문.\n",
    "        x = self.fc4(x)\n",
    "        return x\n",
    "    ##############################"
   ]
  },
  {
   "cell_type": "code",
   "execution_count": 55,
   "metadata": {},
   "outputs": [
    {
     "name": "stdout",
     "output_type": "stream",
     "text": [
      "Epoch: 1/30..  Training Loss: 0.569..  Validation Loss: 0.422..  Validation Accuracy: 0.845\n",
      "Epoch: 2/30..  Training Loss: 0.448..  Validation Loss: 0.430..  Validation Accuracy: 0.851\n",
      "Epoch: 3/30..  Training Loss: 0.429..  Validation Loss: 0.420..  Validation Accuracy: 0.853\n",
      "Epoch: 4/30..  Training Loss: 0.413..  Validation Loss: 0.414..  Validation Accuracy: 0.857\n",
      "Epoch: 5/30..  Training Loss: 0.397..  Validation Loss: 0.406..  Validation Accuracy: 0.858\n",
      "Epoch: 6/30..  Training Loss: 0.384..  Validation Loss: 0.387..  Validation Accuracy: 0.866\n",
      "Epoch: 7/30..  Training Loss: 0.381..  Validation Loss: 0.406..  Validation Accuracy: 0.856\n",
      "Epoch: 8/30..  Training Loss: 0.379..  Validation Loss: 0.407..  Validation Accuracy: 0.862\n",
      "Epoch: 9/30..  Training Loss: 0.366..  Validation Loss: 0.378..  Validation Accuracy: 0.868\n",
      "Epoch: 10/30..  Training Loss: 0.363..  Validation Loss: 0.392..  Validation Accuracy: 0.865\n",
      "Epoch: 11/30..  Training Loss: 0.366..  Validation Loss: 0.378..  Validation Accuracy: 0.869\n",
      "Epoch: 12/30..  Training Loss: 0.358..  Validation Loss: 0.371..  Validation Accuracy: 0.875\n",
      "Epoch: 13/30..  Training Loss: 0.352..  Validation Loss: 0.397..  Validation Accuracy: 0.868\n",
      "Epoch: 14/30..  Training Loss: 0.351..  Validation Loss: 0.387..  Validation Accuracy: 0.873\n",
      "Epoch: 15/30..  Training Loss: 0.344..  Validation Loss: 0.402..  Validation Accuracy: 0.867\n",
      "Epoch: 16/30..  Training Loss: 0.345..  Validation Loss: 0.369..  Validation Accuracy: 0.875\n",
      "Epoch: 17/30..  Training Loss: 0.348..  Validation Loss: 0.373..  Validation Accuracy: 0.874\n",
      "Epoch: 18/30..  Training Loss: 0.340..  Validation Loss: 0.370..  Validation Accuracy: 0.873\n",
      "Epoch: 19/30..  Training Loss: 0.345..  Validation Loss: 0.385..  Validation Accuracy: 0.873\n",
      "Epoch: 20/30..  Training Loss: 0.331..  Validation Loss: 0.363..  Validation Accuracy: 0.880\n",
      "Epoch: 21/30..  Training Loss: 0.332..  Validation Loss: 0.360..  Validation Accuracy: 0.880\n",
      "Epoch: 22/30..  Training Loss: 0.334..  Validation Loss: 0.363..  Validation Accuracy: 0.879\n",
      "Epoch: 23/30..  Training Loss: 0.333..  Validation Loss: 0.376..  Validation Accuracy: 0.873\n",
      "Epoch: 24/30..  Training Loss: 0.325..  Validation Loss: 0.371..  Validation Accuracy: 0.878\n",
      "Epoch: 25/30..  Training Loss: 0.323..  Validation Loss: 0.379..  Validation Accuracy: 0.874\n",
      "Epoch: 26/30..  Training Loss: 0.322..  Validation Loss: 0.369..  Validation Accuracy: 0.876\n",
      "Epoch: 27/30..  Training Loss: 0.325..  Validation Loss: 0.358..  Validation Accuracy: 0.882\n",
      "Epoch: 28/30..  Training Loss: 0.327..  Validation Loss: 0.374..  Validation Accuracy: 0.881\n",
      "Epoch: 29/30..  Training Loss: 0.316..  Validation Loss: 0.381..  Validation Accuracy: 0.877\n",
      "Epoch: 30/30..  Training Loss: 0.313..  Validation Loss: 0.366..  Validation Accuracy: 0.877\n"
     ]
    }
   ],
   "source": [
    "    model = Classifier()\n",
    "    model.to(device)\n",
    "    criterion = nn.CrossEntropyLoss()\n",
    "    optimizer = optim.Adam(model.parameters(), lr=0.003)\n",
    "\n",
    "    epochs = 30\n",
    "    steps = 0\n",
    "\n",
    "    train_losses, val_losses = [], []\n",
    "    for e in range(epochs):\n",
    "        running_loss = 0\n",
    "\n",
    "\n",
    "        for images, labels in trainloader:\n",
    "            images = images.reshape(images.shape[0],-1).to(device)\n",
    "            labels = labels.to(device)\n",
    "\n",
    "\n",
    "            # training 답 작성 \n",
    "            optimizer.zero_grad()\n",
    "\n",
    "            logit = model(images)\n",
    "            loss = criterion(logit, labels)\n",
    "            loss.backward()\n",
    "            optimizer.step()\n",
    "\n",
    "\n",
    "            #######################\n",
    "            running_loss += loss.item()\n",
    "\n",
    "\n",
    "        val_loss = 0\n",
    "        accuracy = 0\n",
    "\n",
    "        # Gradient를 계산할 필요 없으니 비활성화 \n",
    "        with torch.no_grad():\n",
    "            model.eval()\n",
    "            for images, labels in valloader:\n",
    "                images = images.reshape(images.shape[0], -1).to(device)\n",
    "                labels = labels.to(device)\n",
    "                \n",
    "                logit = model(images)\n",
    "                val_loss += criterion(logit, labels).item()\n",
    "                \n",
    "                ps = sm(logit)\n",
    "                top_p , top_class = ps.topk(1, dim = 1)\n",
    "                equals = top_class == labels.reshape(top_class.shape)\n",
    "                accuracy += torch.mean(equals.type(torch.FloatTensor))\n",
    "\n",
    "                ##################\n",
    "\n",
    "        model.train()\n",
    "        train_losses.append(running_loss/len(trainloader))\n",
    "        val_losses.append(val_loss/len(valloader))\n",
    "\n",
    "        print(\"Epoch: {}/{}.. \".format(e+1, epochs),\n",
    "              \"Training Loss: {:.3f}.. \".format(train_losses[-1]),\n",
    "              \"Validation Loss: {:.3f}.. \".format(val_losses[-1]),\n",
    "              \"Validation Accuracy: {:.3f}\".format(accuracy/len(valloader)))"
   ]
  },
  {
   "cell_type": "code",
   "execution_count": 56,
   "metadata": {},
   "outputs": [],
   "source": [
    "%matplotlib inline\n",
    "%config InlineBackend.figure_format = 'retina'\n",
    "\n",
    "import matplotlib.pyplot as plt"
   ]
  },
  {
   "cell_type": "code",
   "execution_count": 57,
   "metadata": {},
   "outputs": [
    {
     "data": {
      "text/plain": [
       "<matplotlib.legend.Legend at 0x2630fe419d0>"
      ]
     },
     "execution_count": 57,
     "metadata": {},
     "output_type": "execute_result"
    },
    {
     "data": {
      "image/png": "[encoded data removed]",
      "text/plain": [
       "<Figure size 432x288 with 1 Axes>"
      ]
     },
     "metadata": {
      "image/png": {
       "height": 248,
       "width": 380
      },
      "needs_background": "light"
     },
     "output_type": "display_data"
    }
   ],
   "source": [
    "plt.plot(train_losses[:30], label='Training loss')\n",
    "plt.plot(val_losses[:30], label='Validation loss')\n",
    "plt.legend(frameon=False)"
   ]
  },
  {
   "cell_type": "markdown",
   "metadata": {},
   "source": [
    "###### Inference\n",
    "\n",
    "* 이제 실제 적용하는 예입니다 (inference)\n",
    "* 내가 분류작업을 한다고 생각학고 traning이 끝난 네트워크에 적용합니다\n",
    "* 당연히 model.eval()과 gradient는 비활성화합니다"
   ]
  },
  {
   "cell_type": "code",
   "execution_count": 58,
   "metadata": {},
   "outputs": [
    {
     "data": {
      "image/png": "[encoded data removed]",
      "text/plain": [
       "<Figure size 432x648 with 2 Axes>"
      ]
     },
     "metadata": {
      "image/png": {
       "height": 216,
       "width": 424
      },
      "needs_background": "light"
     },
     "output_type": "display_data"
    }
   ],
   "source": [
    "# Import helper module (should be in the repo)\n",
    "import helper\n",
    "\n",
    "# Test out your network!\n",
    "\n",
    "model.eval()\n",
    "\n",
    "dataiter = iter(valloader)\n",
    "images, labels = dataiter.next()\n",
    "images = images.reshape(images.shape[0],-1).to(device)\n",
    "labels = labels.to(device)\n",
    "img = images[0]\n",
    "# Convert 2D image to 1D vector\n",
    "img = img.view(1, 784)\n",
    "\n",
    "# Calculate the class probabilities (softmax) for img\n",
    "with torch.no_grad():\n",
    "    output = model.forward(img)\n",
    "\n",
    "ps = sm(output)\n",
    "\n",
    "# Plot the image and probabilities\n",
    "img = img.cpu()\n",
    "ps = ps.cpu()\n",
    "helper.view_classify(img.view(1, 28, 28), ps, version='Fashion')"
   ]
  },
  {
   "cell_type": "code",
   "execution_count": null,
   "metadata": {},
   "outputs": [],
   "source": [
    "# helper가 안 돌아감 버전 문제 인 거 같은데 확인 해 봐야 될 듯"
   ]
  }
 ],
 "metadata": {
  "kernelspec": {
   "display_name": "Python 3 (ipykernel)",
   "language": "python",
   "name": "python3"
  },
  "language_info": {
   "codemirror_mode": {
    "name": "ipython",
    "version": 3
   },
   "file_extension": ".py",
   "mimetype": "text/x-python",
   "name": "python",
   "nbconvert_exporter": "python",
   "pygments_lexer": "ipython3",
   "version": "3.8.0"
  },
  "toc": {
   "base_numbering": 1,
   "nav_menu": {},
   "number_sections": true,
   "sideBar": true,
   "skip_h1_title": false,
   "title_cell": "Table of Contents",
   "title_sidebar": "Contents",
   "toc_cell": false,
   "toc_position": {},
   "toc_section_display": true,
   "toc_window_display": false
  }
 },
 "nbformat": 4,
 "nbformat_minor": 4
}
