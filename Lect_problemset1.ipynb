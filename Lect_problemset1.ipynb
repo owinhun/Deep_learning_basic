{
 "cells": [
  {
   "cell_type": "markdown",
   "id": "9c1339ae-e20b-4008-8070-6dedbafde32f",
   "metadata": {},
   "source": [
    "# Python & numpy review"
   ]
  },
  {
   "cell_type": "code",
   "execution_count": 1,
   "id": "84d3ea37-6241-46b8-82f1-0e4aa3259e19",
   "metadata": {},
   "outputs": [],
   "source": [
    "import numpy as np"
   ]
  },
  {
   "cell_type": "code",
   "execution_count": 2,
   "id": "46c27eb3-b9f9-464f-bf0a-bef2580db8b9",
   "metadata": {},
   "outputs": [
    {
     "data": {
      "text/plain": [
       "array([1, 2, 3])"
      ]
     },
     "execution_count": 2,
     "metadata": {},
     "output_type": "execute_result"
    }
   ],
   "source": [
    "a = np.array([1,2,3])\n",
    "a"
   ]
  },
  {
   "cell_type": "code",
   "execution_count": 3,
   "id": "61484580-ce07-45ca-88f7-9a4261a55bd4",
   "metadata": {},
   "outputs": [
    {
     "data": {
      "text/plain": [
       "dtype('int32')"
      ]
     },
     "execution_count": 3,
     "metadata": {},
     "output_type": "execute_result"
    }
   ],
   "source": [
    "a.dtype"
   ]
  },
  {
   "cell_type": "code",
   "execution_count": 4,
   "id": "868ed930-ed38-4707-94d3-23ddd1ba028a",
   "metadata": {},
   "outputs": [
    {
     "data": {
      "text/plain": [
       "(3,)"
      ]
     },
     "execution_count": 4,
     "metadata": {},
     "output_type": "execute_result"
    }
   ],
   "source": [
    "a.shape"
   ]
  },
  {
   "cell_type": "code",
   "execution_count": 5,
   "id": "015b2873-cafc-498c-935c-972c8c19bae0",
   "metadata": {},
   "outputs": [],
   "source": [
    "# numpy 특징 : n차원의 객체(ndarray)"
   ]
  },
  {
   "cell_type": "markdown",
   "id": "7eea34cd-4362-41ff-8fe7-9c9245aa605a",
   "metadata": {},
   "source": [
    "* List 와 indexing"
   ]
  },
  {
   "cell_type": "code",
   "execution_count": 6,
   "id": "74d6b3b6-a798-460d-86b1-6b22b35cd786",
   "metadata": {},
   "outputs": [],
   "source": [
    "A = [1, 'b', 'c']"
   ]
  },
  {
   "cell_type": "code",
   "execution_count": 7,
   "id": "9a20d638-d93f-4cce-9b39-b9d80231c36a",
   "metadata": {},
   "outputs": [],
   "source": [
    "B = [10,20,30,40,50,60]"
   ]
  },
  {
   "cell_type": "code",
   "execution_count": 8,
   "id": "931dfac7-2c1e-4f66-a101-b98d8ae87ab4",
   "metadata": {},
   "outputs": [
    {
     "data": {
      "text/plain": [
       "[40, 50, 60]"
      ]
     },
     "execution_count": 8,
     "metadata": {},
     "output_type": "execute_result"
    }
   ],
   "source": [
    "B[3:6]"
   ]
  },
  {
   "cell_type": "code",
   "execution_count": 9,
   "id": "1aa89c64-a4e4-4c40-a330-c36e4a6717d1",
   "metadata": {},
   "outputs": [
    {
     "data": {
      "text/plain": [
       "[40, 50, 60]"
      ]
     },
     "execution_count": 9,
     "metadata": {},
     "output_type": "execute_result"
    }
   ],
   "source": [
    "Blist = B[3:6]\n",
    "Blist"
   ]
  },
  {
   "cell_type": "code",
   "execution_count": 10,
   "id": "f65577ec-fbe1-474a-b587-ab1dbf38cf63",
   "metadata": {},
   "outputs": [
    {
     "data": {
      "text/plain": [
       "50"
      ]
     },
     "execution_count": 10,
     "metadata": {},
     "output_type": "execute_result"
    }
   ],
   "source": [
    "B[3:6][1]"
   ]
  },
  {
   "cell_type": "code",
   "execution_count": 11,
   "id": "8359d5ff-24ee-48c4-acdb-d4083b2e6b8c",
   "metadata": {},
   "outputs": [
    {
     "data": {
      "text/plain": [
       "list"
      ]
     },
     "execution_count": 11,
     "metadata": {},
     "output_type": "execute_result"
    }
   ],
   "source": [
    "type(B[3:6])"
   ]
  },
  {
   "cell_type": "markdown",
   "id": "1475fe12-2a88-4da9-a2b2-f22feb97802e",
   "metadata": {},
   "source": [
    "* List in List"
   ]
  },
  {
   "cell_type": "code",
   "execution_count": 12,
   "id": "af9798e1-a04a-4618-83f7-8af7b42f535c",
   "metadata": {},
   "outputs": [
    {
     "data": {
      "text/plain": [
       "[1, 2, 'c', [1, 3, 4]]"
      ]
     },
     "execution_count": 12,
     "metadata": {},
     "output_type": "execute_result"
    }
   ],
   "source": [
    "B = [1, 2, 'c', [1, 3, 4]]\n",
    "B"
   ]
  },
  {
   "cell_type": "code",
   "execution_count": 13,
   "id": "b381a930-c156-4b63-8f46-7108d797849b",
   "metadata": {},
   "outputs": [
    {
     "data": {
      "text/plain": [
       "3"
      ]
     },
     "execution_count": 13,
     "metadata": {},
     "output_type": "execute_result"
    }
   ],
   "source": [
    "B[3][1]"
   ]
  },
  {
   "cell_type": "code",
   "execution_count": 14,
   "id": "4b855cd0-41a9-4039-9eca-b0b7f789cbba",
   "metadata": {},
   "outputs": [
    {
     "data": {
      "text/plain": [
       "list"
      ]
     },
     "execution_count": 14,
     "metadata": {},
     "output_type": "execute_result"
    }
   ],
   "source": [
    "type(B[3])"
   ]
  },
  {
   "cell_type": "code",
   "execution_count": 15,
   "id": "53ce7314-b1f8-4986-ba40-9d7c36a3729e",
   "metadata": {},
   "outputs": [],
   "source": [
    "C = [[1,2,3,4], [3, [12, 4, 5, 65], 'c', 10], 'a']"
   ]
  },
  {
   "cell_type": "code",
   "execution_count": 16,
   "id": "602ef4dc-a347-4419-9c76-fda4429cd997",
   "metadata": {},
   "outputs": [
    {
     "data": {
      "text/plain": [
       "[3, [12, 4, 5, 65], 'c', 10]"
      ]
     },
     "execution_count": 16,
     "metadata": {},
     "output_type": "execute_result"
    }
   ],
   "source": [
    "C[1]"
   ]
  },
  {
   "cell_type": "code",
   "execution_count": 17,
   "id": "03065de2-141d-43c8-abf6-02154c675c99",
   "metadata": {},
   "outputs": [
    {
     "data": {
      "text/plain": [
       "[12, 4, 5, 65]"
      ]
     },
     "execution_count": 17,
     "metadata": {},
     "output_type": "execute_result"
    }
   ],
   "source": [
    "C[1][1]"
   ]
  },
  {
   "cell_type": "code",
   "execution_count": 18,
   "id": "1b193680-fba1-4a83-88eb-f0cc31d75082",
   "metadata": {},
   "outputs": [
    {
     "data": {
      "text/plain": [
       "65"
      ]
     },
     "execution_count": 18,
     "metadata": {},
     "output_type": "execute_result"
    }
   ],
   "source": [
    "C[1][1][3]"
   ]
  },
  {
   "cell_type": "code",
   "execution_count": 19,
   "id": "1956e70a-ff80-4970-873f-a0518b8dcd6b",
   "metadata": {},
   "outputs": [
    {
     "data": {
      "text/plain": [
       "75"
      ]
     },
     "execution_count": 19,
     "metadata": {},
     "output_type": "execute_result"
    }
   ],
   "source": [
    "C[1][1][3] + 10"
   ]
  },
  {
   "cell_type": "markdown",
   "id": "d8a38d9c-cee7-4f27-ab85-982c566431e3",
   "metadata": {},
   "source": [
    "### Vector의 표기 단위 차이"
   ]
  },
  {
   "cell_type": "code",
   "execution_count": 20,
   "id": "4ce47b0a-5a30-4eb5-a685-74d24a34f3cb",
   "metadata": {},
   "outputs": [
    {
     "data": {
      "text/plain": [
       "array([[5, 6, 8],\n",
       "       [6, 7, 4]])"
      ]
     },
     "execution_count": 20,
     "metadata": {},
     "output_type": "execute_result"
    }
   ],
   "source": [
    "X = np.array([[5, 6, 8], [6, 7, 4]])\n",
    "X"
   ]
  },
  {
   "cell_type": "code",
   "execution_count": 21,
   "id": "252f841b-c472-4bd9-ac31-439edb382674",
   "metadata": {},
   "outputs": [
    {
     "data": {
      "text/plain": [
       "array([5, 6, 7])"
      ]
     },
     "execution_count": 21,
     "metadata": {},
     "output_type": "execute_result"
    }
   ],
   "source": [
    "xr1 = np.array([5,6,7])\n",
    "xr1"
   ]
  },
  {
   "cell_type": "code",
   "execution_count": 22,
   "id": "98b4ed96-3648-492d-9c06-a9700e6d612a",
   "metadata": {},
   "outputs": [],
   "source": [
    "# ndim : 배열의 차원을 알 수 있다. 배열의 차원을 쉽게 알기 위해서는 대괄호의 한쪽 갯수를 세면 쉬움"
   ]
  },
  {
   "cell_type": "code",
   "execution_count": 23,
   "id": "d7032c32-8f34-419f-bd6a-68defeb4e4b2",
   "metadata": {},
   "outputs": [
    {
     "data": {
      "text/plain": [
       "1"
      ]
     },
     "execution_count": 23,
     "metadata": {},
     "output_type": "execute_result"
    }
   ],
   "source": [
    "xr1.ndim"
   ]
  },
  {
   "cell_type": "code",
   "execution_count": 24,
   "id": "8e4a531b-eaa2-4d26-af21-4ea35214912b",
   "metadata": {},
   "outputs": [
    {
     "data": {
      "text/plain": [
       "array([[5, 6, 7]])"
      ]
     },
     "execution_count": 24,
     "metadata": {},
     "output_type": "execute_result"
    }
   ],
   "source": [
    "XR1 = np.array([[5,6,7]])\n",
    "XR1"
   ]
  },
  {
   "cell_type": "code",
   "execution_count": 25,
   "id": "f3e8691a-1512-4676-a71d-c3679a26d3fe",
   "metadata": {},
   "outputs": [
    {
     "data": {
      "text/plain": [
       "2"
      ]
     },
     "execution_count": 25,
     "metadata": {},
     "output_type": "execute_result"
    }
   ],
   "source": [
    "XR1.ndim"
   ]
  },
  {
   "cell_type": "code",
   "execution_count": 26,
   "id": "753eb879-5faf-4d90-9994-5906b2354e49",
   "metadata": {},
   "outputs": [
    {
     "data": {
      "text/plain": [
       "array([[5],\n",
       "       [6]])"
      ]
     },
     "execution_count": 26,
     "metadata": {},
     "output_type": "execute_result"
    }
   ],
   "source": [
    "X1 = np.array([[5], [6]])\n",
    "X1"
   ]
  },
  {
   "cell_type": "code",
   "execution_count": 27,
   "id": "46d388b4-04ad-4183-af5e-2b34e803794f",
   "metadata": {},
   "outputs": [
    {
     "data": {
      "text/plain": [
       "2"
      ]
     },
     "execution_count": 27,
     "metadata": {},
     "output_type": "execute_result"
    }
   ],
   "source": [
    "X1.ndim"
   ]
  },
  {
   "cell_type": "code",
   "execution_count": 28,
   "id": "c2c314a8-9219-4023-9b02-69be42aea937",
   "metadata": {},
   "outputs": [],
   "source": [
    "a = np.array([12,3,4])"
   ]
  },
  {
   "cell_type": "code",
   "execution_count": 29,
   "id": "064ab9eb-c196-4789-9e60-1b2630e6d3d0",
   "metadata": {},
   "outputs": [],
   "source": [
    "b = np.array([[12,3,4]])"
   ]
  },
  {
   "cell_type": "code",
   "execution_count": 30,
   "id": "2cc9119e-c96c-4926-860b-930fcf8d6dbb",
   "metadata": {},
   "outputs": [
    {
     "data": {
      "text/plain": [
       "1"
      ]
     },
     "execution_count": 30,
     "metadata": {},
     "output_type": "execute_result"
    }
   ],
   "source": [
    "a.ndim # 괄호 겹수에 따라서 달라짐"
   ]
  },
  {
   "cell_type": "code",
   "execution_count": 31,
   "id": "848946b7-dcd3-437b-9c33-3ecd980fb651",
   "metadata": {},
   "outputs": [
    {
     "data": {
      "text/plain": [
       "2"
      ]
     },
     "execution_count": 31,
     "metadata": {},
     "output_type": "execute_result"
    }
   ],
   "source": [
    "b.ndim"
   ]
  },
  {
   "cell_type": "code",
   "execution_count": 32,
   "id": "3e23f5d2-a87a-457b-9e88-a706d15c43a1",
   "metadata": {},
   "outputs": [
    {
     "data": {
      "text/plain": [
       "2"
      ]
     },
     "execution_count": 32,
     "metadata": {},
     "output_type": "execute_result"
    }
   ],
   "source": [
    "X.ndim"
   ]
  },
  {
   "cell_type": "code",
   "execution_count": 33,
   "id": "4bb412c5-2ded-41de-a156-e5adbe3d89da",
   "metadata": {},
   "outputs": [
    {
     "data": {
      "text/plain": [
       "dtype('int32')"
      ]
     },
     "execution_count": 33,
     "metadata": {},
     "output_type": "execute_result"
    }
   ],
   "source": [
    "X.dtype"
   ]
  },
  {
   "cell_type": "code",
   "execution_count": 34,
   "id": "cf78f52d-ef94-4152-b0ab-98a7acc7e742",
   "metadata": {},
   "outputs": [
    {
     "data": {
      "text/plain": [
       "numpy.ndarray"
      ]
     },
     "execution_count": 34,
     "metadata": {},
     "output_type": "execute_result"
    }
   ],
   "source": [
    "type(X)"
   ]
  },
  {
   "cell_type": "code",
   "execution_count": 35,
   "id": "32008bfc-cc17-415d-b2cf-cef88c56f0a3",
   "metadata": {},
   "outputs": [],
   "source": [
    "X = np.array([[1],[2],[3]])"
   ]
  },
  {
   "cell_type": "code",
   "execution_count": 36,
   "id": "f88cd5a6-395f-4973-b606-373d46ea91fe",
   "metadata": {},
   "outputs": [
    {
     "data": {
      "text/plain": [
       "array([[1],\n",
       "       [2],\n",
       "       [3]])"
      ]
     },
     "execution_count": 36,
     "metadata": {},
     "output_type": "execute_result"
    }
   ],
   "source": [
    "X"
   ]
  },
  {
   "cell_type": "code",
   "execution_count": 37,
   "id": "dcd73615-d44f-4993-9383-a377efba649f",
   "metadata": {},
   "outputs": [
    {
     "data": {
      "text/plain": [
       "(3, 1)"
      ]
     },
     "execution_count": 37,
     "metadata": {},
     "output_type": "execute_result"
    }
   ],
   "source": [
    "X.shape"
   ]
  },
  {
   "cell_type": "code",
   "execution_count": 38,
   "id": "356f988e-851f-4a6e-8d8e-e9991af34447",
   "metadata": {},
   "outputs": [
    {
     "data": {
      "text/plain": [
       "array([[1., 2., 3.],\n",
       "       [4., 5., 6.]])"
      ]
     },
     "execution_count": 38,
     "metadata": {},
     "output_type": "execute_result"
    }
   ],
   "source": [
    "X = np.array([[1., 2., 3.], \n",
    "              [4., 5., 6.,]])\n",
    "X"
   ]
  },
  {
   "cell_type": "code",
   "execution_count": 39,
   "id": "b2074d62-f516-4e10-b9cd-e8798b8a378d",
   "metadata": {},
   "outputs": [
    {
     "data": {
      "text/plain": [
       "(2, 3)"
      ]
     },
     "execution_count": 39,
     "metadata": {},
     "output_type": "execute_result"
    }
   ],
   "source": [
    "X.shape"
   ]
  },
  {
   "cell_type": "code",
   "execution_count": 40,
   "id": "ed46aafb-81b8-4634-b07d-b4e80f72238c",
   "metadata": {},
   "outputs": [
    {
     "data": {
      "text/plain": [
       "array([[1., 4.],\n",
       "       [2., 5.],\n",
       "       [3., 6.]])"
      ]
     },
     "execution_count": 40,
     "metadata": {},
     "output_type": "execute_result"
    }
   ],
   "source": [
    "X.T"
   ]
  },
  {
   "cell_type": "code",
   "execution_count": 41,
   "id": "0cb1c214-4478-4c45-8a5c-4d9b1f2b6f91",
   "metadata": {},
   "outputs": [
    {
     "data": {
      "text/plain": [
       "array([[1., 2.],\n",
       "       [3., 4.],\n",
       "       [5., 6.]])"
      ]
     },
     "execution_count": 41,
     "metadata": {},
     "output_type": "execute_result"
    }
   ],
   "source": [
    "X.reshape(3, 2)"
   ]
  },
  {
   "cell_type": "code",
   "execution_count": 42,
   "id": "f534336a-12be-48e3-a51d-db73b4f0f8db",
   "metadata": {},
   "outputs": [
    {
     "data": {
      "text/plain": [
       "array([[1., 2., 3., 4., 5., 6.]])"
      ]
     },
     "execution_count": 42,
     "metadata": {},
     "output_type": "execute_result"
    }
   ],
   "source": [
    "X.reshape(1, 6)"
   ]
  },
  {
   "cell_type": "code",
   "execution_count": 43,
   "id": "34652c83-4bb2-4c3b-a27b-2c2256593778",
   "metadata": {},
   "outputs": [
    {
     "data": {
      "text/plain": [
       "array([[1., 2., 3., 4., 5., 6.]])"
      ]
     },
     "execution_count": 43,
     "metadata": {},
     "output_type": "execute_result"
    }
   ],
   "source": [
    "X.reshape(1, -1)"
   ]
  },
  {
   "cell_type": "code",
   "execution_count": 44,
   "id": "da5aa402-a105-4a9b-82a3-1ffe50315071",
   "metadata": {},
   "outputs": [
    {
     "data": {
      "text/plain": [
       "array([[1.],\n",
       "       [2.],\n",
       "       [3.],\n",
       "       [4.],\n",
       "       [5.],\n",
       "       [6.]])"
      ]
     },
     "execution_count": 44,
     "metadata": {},
     "output_type": "execute_result"
    }
   ],
   "source": [
    "X.reshape(6, 1)"
   ]
  },
  {
   "cell_type": "code",
   "execution_count": 45,
   "id": "2cc4d2ef-679d-4482-b8e2-9fbbc948b148",
   "metadata": {},
   "outputs": [
    {
     "data": {
      "text/plain": [
       "array([[1.],\n",
       "       [2.],\n",
       "       [3.],\n",
       "       [4.],\n",
       "       [5.],\n",
       "       [6.]])"
      ]
     },
     "execution_count": 45,
     "metadata": {},
     "output_type": "execute_result"
    }
   ],
   "source": [
    "X.reshape(-1, 1)"
   ]
  },
  {
   "cell_type": "code",
   "execution_count": 46,
   "id": "3fb219ca-3f2e-4db6-8b46-d53b20dea78e",
   "metadata": {},
   "outputs": [
    {
     "data": {
      "text/plain": [
       "array([[1.],\n",
       "       [2.],\n",
       "       [3.],\n",
       "       [4.],\n",
       "       [5.],\n",
       "       [6.]])"
      ]
     },
     "execution_count": 46,
     "metadata": {},
     "output_type": "execute_result"
    }
   ],
   "source": [
    "A = X.reshape(6, 1)\n",
    "A"
   ]
  },
  {
   "cell_type": "code",
   "execution_count": 47,
   "id": "a0f4c6ea-a64e-40ab-9497-02cd1d02e719",
   "metadata": {},
   "outputs": [
    {
     "data": {
      "text/plain": [
       "array([[1., 2., 3.],\n",
       "       [4., 5., 6.]])"
      ]
     },
     "execution_count": 47,
     "metadata": {},
     "output_type": "execute_result"
    }
   ],
   "source": [
    "X"
   ]
  },
  {
   "cell_type": "code",
   "execution_count": 48,
   "id": "9656590b-fbc1-42ec-bd33-894be780d585",
   "metadata": {},
   "outputs": [],
   "source": [
    "a = np.array([1,2,3])"
   ]
  },
  {
   "cell_type": "code",
   "execution_count": 49,
   "id": "4c5a42b4-d681-4590-8757-d49bbc30f5ff",
   "metadata": {},
   "outputs": [
    {
     "data": {
      "text/plain": [
       "array([1, 2, 3])"
      ]
     },
     "execution_count": 49,
     "metadata": {},
     "output_type": "execute_result"
    }
   ],
   "source": [
    "a.T"
   ]
  },
  {
   "cell_type": "code",
   "execution_count": 50,
   "id": "3abbbfe6-61b0-46d8-b3a9-2456e56d244d",
   "metadata": {},
   "outputs": [],
   "source": [
    "b = np.array([[1,2,3]])"
   ]
  },
  {
   "cell_type": "code",
   "execution_count": 51,
   "id": "08369495-afc3-4a79-9114-3ff5aacef735",
   "metadata": {},
   "outputs": [
    {
     "data": {
      "text/plain": [
       "array([[1],\n",
       "       [2],\n",
       "       [3]])"
      ]
     },
     "execution_count": 51,
     "metadata": {},
     "output_type": "execute_result"
    }
   ],
   "source": [
    "b.T"
   ]
  },
  {
   "cell_type": "code",
   "execution_count": 52,
   "id": "e09312b7-8ece-4a74-86ac-393839335035",
   "metadata": {},
   "outputs": [
    {
     "name": "stdout",
     "output_type": "stream",
     "text": [
      "x1 =  [[5]\n",
      " [6]\n",
      " [8]]\n",
      "x2 =  [[6]\n",
      " [7]\n",
      " [5]]\n"
     ]
    }
   ],
   "source": [
    "x1 = np.array([[5], [6], [8]])\n",
    "x2 = np.array([[6], [7], [5]])\n",
    "print('x1 = ', x1)\n",
    "print('x2 = ', x2)"
   ]
  },
  {
   "cell_type": "code",
   "execution_count": 53,
   "id": "8458fa82-eeb8-4359-b014-931a1addc985",
   "metadata": {},
   "outputs": [
    {
     "data": {
      "text/plain": [
       "(3, 1)"
      ]
     },
     "execution_count": 53,
     "metadata": {},
     "output_type": "execute_result"
    }
   ],
   "source": [
    "x2.shape"
   ]
  },
  {
   "cell_type": "code",
   "execution_count": 54,
   "id": "4706a5fa-8c16-4ccc-a23d-efff008262cd",
   "metadata": {},
   "outputs": [
    {
     "name": "stdout",
     "output_type": "stream",
     "text": [
      "x1T =  [[5 6 8]]\n",
      "x2T =  [[6 7 5]]\n"
     ]
    }
   ],
   "source": [
    "x1T = x1.T\n",
    "x2T = x2.T\n",
    "print('x1T = ', x1T)\n",
    "print('x2T = ', x2T)"
   ]
  },
  {
   "cell_type": "code",
   "execution_count": 55,
   "id": "96add9b2-1e46-4009-936a-0d7fd27cdf88",
   "metadata": {},
   "outputs": [
    {
     "name": "stdout",
     "output_type": "stream",
     "text": [
      "x1TT =  [[5 6 8]]\n",
      "x2TT =  [[6 7 5]]\n"
     ]
    }
   ],
   "source": [
    "x1TT = x1.reshape(1, 3)\n",
    "x2TT = x2.reshape(1, 3)\n",
    "print('x1TT = ', x1TT)\n",
    "print('x2TT = ', x2TT)"
   ]
  },
  {
   "cell_type": "markdown",
   "id": "f9dbf2fa-a20a-45b8-81ed-b942bcaf0362",
   "metadata": {},
   "source": [
    "* `vstack` (vertical (수직) stack (쌓다))"
   ]
  },
  {
   "cell_type": "code",
   "execution_count": 56,
   "id": "4890fade-525d-4434-bb9d-7a7e732ff912",
   "metadata": {},
   "outputs": [
    {
     "data": {
      "text/plain": [
       "array([[5, 6, 8],\n",
       "       [6, 7, 5]])"
      ]
     },
     "execution_count": 56,
     "metadata": {},
     "output_type": "execute_result"
    }
   ],
   "source": [
    "X = np.vstack([x1T, x2T])\n",
    "X"
   ]
  },
  {
   "cell_type": "markdown",
   "id": "88ed6800-8a8f-4618-80d2-a8ffbf964054",
   "metadata": {},
   "source": [
    "* `hstack` (horizontal (수평) stack (쌓다))"
   ]
  },
  {
   "cell_type": "code",
   "execution_count": 57,
   "id": "0b6466aa-3d77-44f2-9afe-44c48e35a405",
   "metadata": {},
   "outputs": [
    {
     "data": {
      "text/plain": [
       "array([[5, 6, 8, 6, 7, 5]])"
      ]
     },
     "execution_count": 57,
     "metadata": {},
     "output_type": "execute_result"
    }
   ],
   "source": [
    "Xhstack = np.hstack([x1T, x2T])\n",
    "Xhstack"
   ]
  },
  {
   "cell_type": "code",
   "execution_count": 58,
   "id": "d9f15e3f-6d33-4491-81dd-8c0b9e64fc19",
   "metadata": {},
   "outputs": [
    {
     "data": {
      "text/plain": [
       "array([[5, 6],\n",
       "       [6, 7],\n",
       "       [8, 5]])"
      ]
     },
     "execution_count": 58,
     "metadata": {},
     "output_type": "execute_result"
    }
   ],
   "source": [
    "Xhstack2 = np.hstack([x1, x2])\n",
    "Xhstack2"
   ]
  },
  {
   "cell_type": "code",
   "execution_count": 59,
   "id": "35257665-de94-4380-89eb-079aaa635523",
   "metadata": {},
   "outputs": [],
   "source": [
    "# ones : 1로 이루어진 배열을 만든다 , 안에 넣어줄 때 튜플 형태로 넣어주여야 된다"
   ]
  },
  {
   "cell_type": "code",
   "execution_count": 60,
   "id": "bdb9c4c7-d68f-4687-8ac1-ac9b947fbb05",
   "metadata": {},
   "outputs": [
    {
     "data": {
      "text/plain": [
       "array([[1., 1., 1.],\n",
       "       [1., 1., 1.]])"
      ]
     },
     "execution_count": 60,
     "metadata": {},
     "output_type": "execute_result"
    }
   ],
   "source": [
    "onevec = np.ones((2, 3)) # 차원을 튜플로 1차원 이상인 경우\n",
    "onevec"
   ]
  },
  {
   "cell_type": "code",
   "execution_count": 61,
   "id": "9882de30-0762-4c0e-8e72-148b88426ded",
   "metadata": {},
   "outputs": [],
   "source": [
    "# zeros : 0로 이루어진 배열을 만든다."
   ]
  },
  {
   "cell_type": "code",
   "execution_count": 62,
   "id": "7212e363-b8c1-430c-a81f-97e1a0ed22c7",
   "metadata": {},
   "outputs": [
    {
     "data": {
      "text/plain": [
       "array([[0., 0., 0.],\n",
       "       [0., 0., 0.]])"
      ]
     },
     "execution_count": 62,
     "metadata": {},
     "output_type": "execute_result"
    }
   ],
   "source": [
    "zerovec = np.zeros((2, 3)) # 차원을 튜플로 1차원 이상인 경우\n",
    "zerovec"
   ]
  },
  {
   "cell_type": "code",
   "execution_count": 63,
   "id": "fa2de6db-150a-4360-9be5-70f33b64e44a",
   "metadata": {},
   "outputs": [
    {
     "data": {
      "text/plain": [
       "array([0, 1, 2, 3, 4, 5, 6, 7, 8, 9])"
      ]
     },
     "execution_count": 63,
     "metadata": {},
     "output_type": "execute_result"
    }
   ],
   "source": [
    "np.arange(0, 10) # 이상, 미만"
   ]
  },
  {
   "cell_type": "code",
   "execution_count": 64,
   "id": "55add280-fffd-48f6-b237-fbd5c47882b5",
   "metadata": {},
   "outputs": [
    {
     "name": "stdout",
     "output_type": "stream",
     "text": [
      "0\n",
      "1\n",
      "2\n"
     ]
    }
   ],
   "source": [
    "for i in np.arange(3):\n",
    "    print(i)"
   ]
  },
  {
   "cell_type": "code",
   "execution_count": 65,
   "id": "666e7604-dbf7-4969-b1f0-ecad2dc6ac81",
   "metadata": {},
   "outputs": [
    {
     "data": {
      "text/plain": [
       "array([0.        , 0.33333333, 0.66666667, 1.        , 1.33333333,\n",
       "       1.66666667, 2.        , 2.33333333, 2.66666667, 3.        ])"
      ]
     },
     "execution_count": 65,
     "metadata": {},
     "output_type": "execute_result"
    }
   ],
   "source": [
    "np.linspace(0, 3, 10) # 0부터 3까지인데 10개로 동일하게 만들어라"
   ]
  },
  {
   "cell_type": "code",
   "execution_count": 66,
   "id": "db98a593-32a9-4ca2-97d4-d76c41702aa0",
   "metadata": {},
   "outputs": [
    {
     "data": {
      "text/plain": [
       "array([[-0.60660489,  0.25613894, -0.75104661, -0.05702911, -0.9974944 ,\n",
       "        -0.28399474, -0.12954909,  0.39791819,  0.62303012, -0.59118303]])"
      ]
     },
     "execution_count": 66,
     "metadata": {},
     "output_type": "execute_result"
    }
   ],
   "source": [
    "d = 2*np.random.rand(1, 10)-1\n",
    "d"
   ]
  },
  {
   "cell_type": "code",
   "execution_count": 67,
   "id": "0888ad56-7063-41f6-b06e-c33ef461cdcc",
   "metadata": {},
   "outputs": [
    {
     "data": {
      "text/plain": [
       "array([[-0.6512482 , -2.10545221, -0.15490118,  2.56003169],\n",
       "       [-0.98843124, -1.81478744, -0.51187616,  1.31176601],\n",
       "       [ 0.83115987,  1.87978079, -0.63188339,  0.43251085]])"
      ]
     },
     "execution_count": 67,
     "metadata": {},
     "output_type": "execute_result"
    }
   ],
   "source": [
    "e = np.random.randn(3, 4)\n",
    "e"
   ]
  },
  {
   "cell_type": "markdown",
   "id": "b39e78a0-41e3-43b9-aaa5-25f9555d93ca",
   "metadata": {},
   "source": [
    "* squeeze() 차원축소"
   ]
  },
  {
   "cell_type": "code",
   "execution_count": 68,
   "id": "311b3712-c9f1-49c9-ac78-6abb559459cf",
   "metadata": {},
   "outputs": [
    {
     "data": {
      "text/plain": [
       "array([[[1, 2, 3, 4]]])"
      ]
     },
     "execution_count": 68,
     "metadata": {},
     "output_type": "execute_result"
    }
   ],
   "source": [
    "f = np.array([[[1,2,3,4]]])\n",
    "f"
   ]
  },
  {
   "cell_type": "code",
   "execution_count": 69,
   "id": "24c37c6b-4396-473e-af11-f4c06295b4d3",
   "metadata": {},
   "outputs": [
    {
     "data": {
      "text/plain": [
       "3"
      ]
     },
     "execution_count": 69,
     "metadata": {},
     "output_type": "execute_result"
    }
   ],
   "source": [
    "f.ndim"
   ]
  },
  {
   "cell_type": "code",
   "execution_count": 70,
   "id": "18feadc9-252c-4444-8348-9c98b9eac33a",
   "metadata": {},
   "outputs": [
    {
     "data": {
      "text/plain": [
       "(1, 1, 4)"
      ]
     },
     "execution_count": 70,
     "metadata": {},
     "output_type": "execute_result"
    }
   ],
   "source": [
    "f.shape"
   ]
  },
  {
   "cell_type": "code",
   "execution_count": 71,
   "id": "5faf2194-c678-4a7c-a90b-f42968f1590e",
   "metadata": {},
   "outputs": [
    {
     "data": {
      "text/plain": [
       "1"
      ]
     },
     "execution_count": 71,
     "metadata": {},
     "output_type": "execute_result"
    }
   ],
   "source": [
    "f.squeeze().ndim"
   ]
  },
  {
   "cell_type": "code",
   "execution_count": 72,
   "id": "41e03d3e-b1e0-42b9-8c4d-3ae3261c8611",
   "metadata": {},
   "outputs": [
    {
     "data": {
      "text/plain": [
       "(4,)"
      ]
     },
     "execution_count": 72,
     "metadata": {},
     "output_type": "execute_result"
    }
   ],
   "source": [
    "f.squeeze().shape"
   ]
  },
  {
   "cell_type": "markdown",
   "id": "d4de98c4-e119-4210-b888-8fd8da3378c8",
   "metadata": {},
   "source": [
    "* Matrix multiplication"
   ]
  },
  {
   "cell_type": "code",
   "execution_count": 73,
   "id": "2b652227-7b4c-4474-9a80-4071b2b5314a",
   "metadata": {},
   "outputs": [
    {
     "data": {
      "text/plain": [
       "array([[0, 1],\n",
       "       [2, 3],\n",
       "       [4, 5]])"
      ]
     },
     "execution_count": 73,
     "metadata": {},
     "output_type": "execute_result"
    }
   ],
   "source": [
    "A = np.arange(0, 6).reshape(3, 2)\n",
    "A"
   ]
  },
  {
   "cell_type": "code",
   "execution_count": 74,
   "id": "9b2e394f-1a63-4457-b7e8-4e7d90eae2c4",
   "metadata": {},
   "outputs": [
    {
     "data": {
      "text/plain": [
       "(3, 2)"
      ]
     },
     "execution_count": 74,
     "metadata": {},
     "output_type": "execute_result"
    }
   ],
   "source": [
    "A.shape"
   ]
  },
  {
   "cell_type": "code",
   "execution_count": 75,
   "id": "7fb655dd-09cd-4866-b68f-a1f17585942d",
   "metadata": {},
   "outputs": [
    {
     "data": {
      "text/plain": [
       "array([[ 0.96387273, -0.45884421, -0.9108605 , -0.66410048],\n",
       "       [-0.38041406, -1.54127608,  0.25686257, -0.37748425],\n",
       "       [-0.56006241,  0.37672975, -0.269652  , -0.15131858]])"
      ]
     },
     "execution_count": 75,
     "metadata": {},
     "output_type": "execute_result"
    }
   ],
   "source": [
    "B = np.random.randn(3,4)\n",
    "B"
   ]
  },
  {
   "cell_type": "code",
   "execution_count": 76,
   "id": "a87f5220-bc99-4b32-92ee-c3d9abca3667",
   "metadata": {},
   "outputs": [
    {
     "data": {
      "text/plain": [
       "(3, 4)"
      ]
     },
     "execution_count": 76,
     "metadata": {},
     "output_type": "execute_result"
    }
   ],
   "source": [
    "B.shape"
   ]
  },
  {
   "cell_type": "code",
   "execution_count": 77,
   "id": "9c5e7e66-585f-4d5a-a6c8-700ebd535c2f",
   "metadata": {},
   "outputs": [
    {
     "data": {
      "text/plain": [
       "array([[0, 1],\n",
       "       [2, 3],\n",
       "       [4, 5]])"
      ]
     },
     "execution_count": 77,
     "metadata": {},
     "output_type": "execute_result"
    }
   ],
   "source": [
    "A"
   ]
  },
  {
   "cell_type": "code",
   "execution_count": 78,
   "id": "c206bd0a-23fc-4bcd-bdd0-a131f1984351",
   "metadata": {},
   "outputs": [
    {
     "data": {
      "text/plain": [
       "1"
      ]
     },
     "execution_count": 78,
     "metadata": {},
     "output_type": "execute_result"
    }
   ],
   "source": [
    "A[0,1]"
   ]
  },
  {
   "cell_type": "code",
   "execution_count": 79,
   "id": "095a9ffe-c99a-4289-b5ac-dfd6527a20b6",
   "metadata": {},
   "outputs": [
    {
     "data": {
      "text/plain": [
       "3"
      ]
     },
     "execution_count": 79,
     "metadata": {},
     "output_type": "execute_result"
    }
   ],
   "source": [
    "A[1][1]"
   ]
  },
  {
   "cell_type": "code",
   "execution_count": 80,
   "id": "94280a4c-9bc2-4b9d-9d11-bd98c2388ae6",
   "metadata": {},
   "outputs": [
    {
     "data": {
      "text/plain": [
       "5"
      ]
     },
     "execution_count": 80,
     "metadata": {},
     "output_type": "execute_result"
    }
   ],
   "source": [
    "A[2,1]"
   ]
  },
  {
   "cell_type": "code",
   "execution_count": 81,
   "id": "448bf44e-ef00-4da4-9486-e5916618e369",
   "metadata": {},
   "outputs": [
    {
     "data": {
      "text/plain": [
       "array([[0],\n",
       "       [2],\n",
       "       [4]])"
      ]
     },
     "execution_count": 81,
     "metadata": {},
     "output_type": "execute_result"
    }
   ],
   "source": [
    "a1 = A[:,0].reshape(-1, 1)\n",
    "a1"
   ]
  },
  {
   "cell_type": "code",
   "execution_count": 82,
   "id": "dfe1fbdb-d2e9-4779-b9d3-3f3fa8a8e8a3",
   "metadata": {},
   "outputs": [
    {
     "data": {
      "text/plain": [
       "array([[ 0.96387273, -0.45884421, -0.9108605 , -0.66410048],\n",
       "       [-0.38041406, -1.54127608,  0.25686257, -0.37748425],\n",
       "       [-0.56006241,  0.37672975, -0.269652  , -0.15131858]])"
      ]
     },
     "execution_count": 82,
     "metadata": {},
     "output_type": "execute_result"
    }
   ],
   "source": [
    "B"
   ]
  },
  {
   "cell_type": "code",
   "execution_count": 83,
   "id": "c89fda1c-93bc-4de4-9526-288b192c2aef",
   "metadata": {},
   "outputs": [
    {
     "data": {
      "text/plain": [
       "array([[-0.45884421],\n",
       "       [-1.54127608],\n",
       "       [ 0.37672975]])"
      ]
     },
     "execution_count": 83,
     "metadata": {},
     "output_type": "execute_result"
    }
   ],
   "source": [
    "b2 = B[:, 1].reshape(-1, 1)\n",
    "b2"
   ]
  },
  {
   "cell_type": "code",
   "execution_count": 84,
   "id": "1c795f1c-661e-4f5a-8ae1-a8e56bfca290",
   "metadata": {},
   "outputs": [
    {
     "name": "stdout",
     "output_type": "stream",
     "text": [
      "[[-1.57563316]]\n",
      "-1.5756331617454953\n"
     ]
    }
   ],
   "source": [
    "C = np.matmul(a1.T, b2)\n",
    "print(C)\n",
    "print(C[0][0])"
   ]
  },
  {
   "cell_type": "code",
   "execution_count": 85,
   "id": "389961e2-4bee-41ff-a878-50c93681e080",
   "metadata": {},
   "outputs": [
    {
     "data": {
      "text/plain": [
       "(1, 1)"
      ]
     },
     "execution_count": 85,
     "metadata": {},
     "output_type": "execute_result"
    }
   ],
   "source": [
    "C.shape"
   ]
  },
  {
   "cell_type": "code",
   "execution_count": 88,
   "id": "8f804880-788b-4f28-9c07-07c0e4033649",
   "metadata": {},
   "outputs": [
    {
     "data": {
      "text/plain": [
       "array([[0., 2., 4., 6.]])"
      ]
     },
     "execution_count": 88,
     "metadata": {},
     "output_type": "execute_result"
    }
   ],
   "source": [
    "a = np.linspace(0, 6, 4).reshape(1, 4)\n",
    "a"
   ]
  },
  {
   "cell_type": "code",
   "execution_count": 89,
   "id": "e66a1bf0-fc0e-4435-9e87-2a150953743a",
   "metadata": {},
   "outputs": [
    {
     "data": {
      "text/plain": [
       "array([[1.],\n",
       "       [1.],\n",
       "       [1.],\n",
       "       [1.]])"
      ]
     },
     "execution_count": 89,
     "metadata": {},
     "output_type": "execute_result"
    }
   ],
   "source": [
    "b = np.ones((4, 1))\n",
    "b"
   ]
  },
  {
   "cell_type": "code",
   "execution_count": 90,
   "id": "5fa9f109-3b6b-499a-add9-07e8db477177",
   "metadata": {},
   "outputs": [
    {
     "data": {
      "text/plain": [
       "12.0"
      ]
     },
     "execution_count": 90,
     "metadata": {},
     "output_type": "execute_result"
    }
   ],
   "source": [
    "np.matmul(a, b)[0][0]"
   ]
  },
  {
   "cell_type": "code",
   "execution_count": 91,
   "id": "f8dc520c-c284-43bb-be00-39a970f606ac",
   "metadata": {},
   "outputs": [
    {
     "data": {
      "text/plain": [
       "array([[ 1.68978153,  0.26483551,  0.39918799],\n",
       "       [-0.89456198, -1.1941568 , -1.4584722 ],\n",
       "       [ 0.7684463 , -1.88311373,  0.16195697]])"
      ]
     },
     "execution_count": 91,
     "metadata": {},
     "output_type": "execute_result"
    }
   ],
   "source": [
    "D = np.random.randn(3, 3)\n",
    "D"
   ]
  },
  {
   "cell_type": "code",
   "execution_count": 92,
   "id": "c3091237-aab1-4dfd-a118-2ab7edd1ed71",
   "metadata": {},
   "outputs": [
    {
     "data": {
      "text/plain": [
       "array([[-0.71061647, -2.15337594,  1.68388189],\n",
       "       [-1.84854273,  0.10681976, -0.79101231],\n",
       "       [-0.04535811, -0.00813372,  1.39735071]])"
      ]
     },
     "execution_count": 92,
     "metadata": {},
     "output_type": "execute_result"
    }
   ],
   "source": [
    "E = np.random.randn(3, 3)\n",
    "E"
   ]
  },
  {
   "cell_type": "code",
   "execution_count": 93,
   "id": "28a25ee7-5774-4ed9-8474-36a334fc6b04",
   "metadata": {},
   "outputs": [
    {
     "data": {
      "text/plain": [
       "array([[ 0.97916506, -1.88854043,  2.08306987],\n",
       "       [-2.74310471, -1.08733705, -2.2494845 ],\n",
       "       [ 0.72308819, -1.89124746,  1.55930768]])"
      ]
     },
     "execution_count": 93,
     "metadata": {},
     "output_type": "execute_result"
    }
   ],
   "source": [
    "D + E"
   ]
  },
  {
   "cell_type": "code",
   "execution_count": 94,
   "id": "13d01766-bb49-4feb-849c-9c4f644e9c0f",
   "metadata": {},
   "outputs": [
    {
     "data": {
      "text/plain": [
       "array([[ 2.40039801,  2.41821144, -1.2846939 ],\n",
       "       [ 0.95398076, -1.30097656, -0.66745989],\n",
       "       [ 0.8138044 , -1.87498001, -1.23539374]])"
      ]
     },
     "execution_count": 94,
     "metadata": {},
     "output_type": "execute_result"
    }
   ],
   "source": [
    "D - E"
   ]
  },
  {
   "cell_type": "code",
   "execution_count": 95,
   "id": "c892ebda-a693-47bb-b26b-f1d39f809339",
   "metadata": {},
   "outputs": [],
   "source": [
    "c1 = D[0,:]\n",
    "d1 = E[0,:]"
   ]
  },
  {
   "cell_type": "code",
   "execution_count": 96,
   "id": "faa0a094-b638-4da1-8811-8be2da4f4fe9",
   "metadata": {},
   "outputs": [
    {
     "data": {
      "text/plain": [
       "array([ 0.97916506, -1.88854043,  2.08306987])"
      ]
     },
     "execution_count": 96,
     "metadata": {},
     "output_type": "execute_result"
    }
   ],
   "source": [
    "c1 + d1"
   ]
  },
  {
   "cell_type": "code",
   "execution_count": 97,
   "id": "6cc492f5-3cdb-41d4-ab8f-95c7c3dc1d5e",
   "metadata": {},
   "outputs": [
    {
     "data": {
      "text/plain": [
       "array([2., 2., 2., 2.])"
      ]
     },
     "execution_count": 97,
     "metadata": {},
     "output_type": "execute_result"
    }
   ],
   "source": [
    "a = np.array([1,2,3,4])\n",
    "b = 2*np.ones(4)\n",
    "b"
   ]
  },
  {
   "cell_type": "code",
   "execution_count": 98,
   "id": "3c50634e-b6a2-40fd-853d-c0adfb30c47b",
   "metadata": {},
   "outputs": [
    {
     "data": {
      "text/plain": [
       "array([1, 2, 3, 4])"
      ]
     },
     "execution_count": 98,
     "metadata": {},
     "output_type": "execute_result"
    }
   ],
   "source": [
    "a"
   ]
  },
  {
   "cell_type": "code",
   "execution_count": 99,
   "id": "b5f1aa29-689d-44b6-97bc-3f8c17167387",
   "metadata": {},
   "outputs": [
    {
     "data": {
      "text/plain": [
       "array([2., 4., 6., 8.])"
      ]
     },
     "execution_count": 99,
     "metadata": {},
     "output_type": "execute_result"
    }
   ],
   "source": [
    "c = a*b # 행렬곱이 일어나지 않음 행렬곱은 matmul matmul과는 다른 연산\n",
    "c"
   ]
  },
  {
   "cell_type": "code",
   "execution_count": 100,
   "id": "d0014dfc-1ccd-46cf-90da-cd5a127acd05",
   "metadata": {},
   "outputs": [
    {
     "data": {
      "text/plain": [
       "20.0"
      ]
     },
     "execution_count": 100,
     "metadata": {},
     "output_type": "execute_result"
    }
   ],
   "source": [
    "np.sum(a*b)"
   ]
  },
  {
   "cell_type": "code",
   "execution_count": 101,
   "id": "8f6c1acc-868c-4b21-b960-80810b67ca09",
   "metadata": {},
   "outputs": [
    {
     "data": {
      "text/plain": [
       "array([20.])"
      ]
     },
     "execution_count": 101,
     "metadata": {},
     "output_type": "execute_result"
    }
   ],
   "source": [
    "np.matmul(a, b.reshape(-1, 1))"
   ]
  },
  {
   "cell_type": "code",
   "execution_count": 102,
   "id": "2816a1c9-fea4-4100-afb2-390b8265334a",
   "metadata": {},
   "outputs": [
    {
     "data": {
      "text/plain": [
       "array([[ 3,  4,  5,  6],\n",
       "       [ 7,  8,  9, 10]])"
      ]
     },
     "execution_count": 102,
     "metadata": {},
     "output_type": "execute_result"
    }
   ],
   "source": [
    "A = np.arange(3, 11, 1).reshape(2, 4)\n",
    "A"
   ]
  },
  {
   "cell_type": "code",
   "execution_count": 103,
   "id": "1538fc48-0231-4ecc-a5d2-91981ffbd3fe",
   "metadata": {},
   "outputs": [
    {
     "data": {
      "text/plain": [
       "52"
      ]
     },
     "execution_count": 103,
     "metadata": {},
     "output_type": "execute_result"
    }
   ],
   "source": [
    "np.sum(A)"
   ]
  },
  {
   "cell_type": "code",
   "execution_count": 104,
   "id": "94ee73e9-ee3c-46e9-ae7a-5d347de264d6",
   "metadata": {},
   "outputs": [
    {
     "data": {
      "text/plain": [
       "array([10, 12, 14, 16])"
      ]
     },
     "execution_count": 104,
     "metadata": {},
     "output_type": "execute_result"
    }
   ],
   "source": [
    "np.sum(A, axis = 0) # 수직으로 더 함"
   ]
  },
  {
   "cell_type": "code",
   "execution_count": 105,
   "id": "662de3c1-6e9f-4d32-83bf-6a776c11bc24",
   "metadata": {},
   "outputs": [
    {
     "data": {
      "text/plain": [
       "array([18, 34])"
      ]
     },
     "execution_count": 105,
     "metadata": {},
     "output_type": "execute_result"
    }
   ],
   "source": [
    "np.sum(A, axis = 1) # 수평으로 더 함"
   ]
  },
  {
   "cell_type": "code",
   "execution_count": 106,
   "id": "43ddbd16-2558-4746-885c-95fa6f3611a9",
   "metadata": {},
   "outputs": [
    {
     "data": {
      "text/plain": [
       "array([[18],\n",
       "       [34]])"
      ]
     },
     "execution_count": 106,
     "metadata": {},
     "output_type": "execute_result"
    }
   ],
   "source": [
    "c = np.sum(A, axis = 1).reshape(-1, 1)\n",
    "c"
   ]
  },
  {
   "cell_type": "markdown",
   "id": "68312082-160d-4ad1-be19-814610320da4",
   "metadata": {},
   "source": [
    "* Broadcast"
   ]
  },
  {
   "cell_type": "code",
   "execution_count": 107,
   "id": "aff99fb3-987a-4b0d-bdfa-be983470e316",
   "metadata": {},
   "outputs": [
    {
     "data": {
      "text/plain": [
       "array([[-0.04519905,  0.52392939, -0.71528933],\n",
       "       [-0.60927553, -1.0221541 ,  1.50100302],\n",
       "       [-0.72464996, -0.19480749, -1.94619019],\n",
       "       [ 0.46563585,  1.91891415,  1.05111344]])"
      ]
     },
     "execution_count": 107,
     "metadata": {},
     "output_type": "execute_result"
    }
   ],
   "source": [
    "A = np.random.randn(4, 3)\n",
    "A"
   ]
  },
  {
   "cell_type": "code",
   "execution_count": 108,
   "id": "733fa393-136f-4a21-9220-0a1e58b2e450",
   "metadata": {},
   "outputs": [
    {
     "data": {
      "text/plain": [
       "array([[1.],\n",
       "       [1.],\n",
       "       [1.],\n",
       "       [1.]])"
      ]
     },
     "execution_count": 108,
     "metadata": {},
     "output_type": "execute_result"
    }
   ],
   "source": [
    "B = np.ones((4, 1))\n",
    "B"
   ]
  },
  {
   "cell_type": "code",
   "execution_count": 109,
   "id": "4d1b962a-9f7a-4ae6-bbae-79d7442afefc",
   "metadata": {},
   "outputs": [
    {
     "data": {
      "text/plain": [
       "array([[ 0.95480095,  1.52392939,  0.28471067],\n",
       "       [ 0.39072447, -0.0221541 ,  2.50100302],\n",
       "       [ 0.27535004,  0.80519251, -0.94619019],\n",
       "       [ 1.46563585,  2.91891415,  2.05111344]])"
      ]
     },
     "execution_count": 109,
     "metadata": {},
     "output_type": "execute_result"
    }
   ],
   "source": [
    "A + B"
   ]
  },
  {
   "cell_type": "code",
   "execution_count": null,
   "id": "a7ae524d-fe6c-4adf-9a75-d4a5cd1df723",
   "metadata": {},
   "outputs": [],
   "source": [
    "############### 다시 처음부터 정리해보기 ###############\n",
    "############### 나중에 이것 저것 써 보면서 어떻게 돌아가는 건지 알아보면 좋을듯 ###############"
   ]
  },
  {
   "cell_type": "code",
   "execution_count": null,
   "id": "5c71b459-464c-4aa4-8c7e-8c1a58f15db6",
   "metadata": {},
   "outputs": [],
   "source": [
    "# array : 배열\n",
    "# ndim : 배열의 차원을 알 수 있다. 배열의 차원을 쉽게 알기 위해서는 대괄호의 한쪽 갯수를 세면 쉬움\n",
    "# random.randn : 난수를 생성함 ex : np.random.randn(3, 3)\n",
    "# linspace : 균일한 숫자 간격으로 나눔 ex : np.linspace(시작, 끝, 일정하게 나눌 크기)\n",
    "# arange : 수열을 만들기 위해서 사용함 ex : np.arange(시작, 미만, step 크기)\n",
    "# ones : 1로 채워진 배열을 만들어줌(튜플 형태로 넣어줘야 된다.) ex : np.ones((2,3))\n",
    "# zeros : 0으로 채워진 배열을 만들어줌(튜플 형태로 넣어줘야 된다.) ex : np.zeros((2,3))\n",
    "# shape : 차원을 나타냄\n",
    "# reshape : 차원의 형태를 바꿔줌\n",
    "# matmul : 배열의 행렬곱\n",
    "# dot : 곱함\n",
    "# @ : 곱함\n",
    "# matmul, dot의 차이점을 정확히는 모르겠는데, 2차원 행렬의 곱셈에서는 같은 기능을 수행하고 고차원으로 가면 기능이 다름\n",
    "# sum : 더함\n",
    "# vstack : 수직으로 쌓음\n",
    "# hstack : 수평으로 쌓음\n",
    "# squeeze : 차원을 1로 만들어줌 ex : [[1,2,3,4]] ---> [1,2,3,4]"
   ]
  }
 ],
 "metadata": {
  "kernelspec": {
   "display_name": "Python 3 (ipykernel)",
   "language": "python",
   "name": "python3"
  },
  "language_info": {
   "codemirror_mode": {
    "name": "ipython",
    "version": 3
   },
   "file_extension": ".py",
   "mimetype": "text/x-python",
   "name": "python",
   "nbconvert_exporter": "python",
   "pygments_lexer": "ipython3",
   "version": "3.9.12"
  }
 },
 "nbformat": 4,
 "nbformat_minor": 5
}
