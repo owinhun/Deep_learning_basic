{
 "cells": [
  {
   "cell_type": "markdown",
   "id": "9c1339ae-e20b-4008-8070-6dedbafde32f",
   "metadata": {},
   "source": [
    "# Python & numpy review"
   ]
  },
  {
   "cell_type": "code",
   "execution_count": 1,
   "id": "84d3ea37-6241-46b8-82f1-0e4aa3259e19",
   "metadata": {},
   "outputs": [],
   "source": [
    "import numpy as np"
   ]
  },
  {
   "cell_type": "code",
   "execution_count": 2,
   "id": "46c27eb3-b9f9-464f-bf0a-bef2580db8b9",
   "metadata": {},
   "outputs": [
    {
     "data": {
      "text/plain": [
       "array([1, 2, 3])"
      ]
     },
     "execution_count": 2,
     "metadata": {},
     "output_type": "execute_result"
    }
   ],
   "source": [
    "a = np.array([1,2,3])\n",
    "a"
   ]
  },
  {
   "cell_type": "markdown",
   "id": "7eea34cd-4362-41ff-8fe7-9c9245aa605a",
   "metadata": {},
   "source": [
    "* List 와 indexing"
   ]
  },
  {
   "cell_type": "code",
   "execution_count": 3,
   "id": "74d6b3b6-a798-460d-86b1-6b22b35cd786",
   "metadata": {},
   "outputs": [],
   "source": [
    "A = [1, 'b', 'c']"
   ]
  },
  {
   "cell_type": "code",
   "execution_count": 4,
   "id": "9a20d638-d93f-4cce-9b39-b9d80231c36a",
   "metadata": {},
   "outputs": [],
   "source": [
    "B = [10,20,30,40,50,60]"
   ]
  },
  {
   "cell_type": "code",
   "execution_count": 5,
   "id": "931dfac7-2c1e-4f66-a101-b98d8ae87ab4",
   "metadata": {},
   "outputs": [
    {
     "data": {
      "text/plain": [
       "[40, 50, 60]"
      ]
     },
     "execution_count": 5,
     "metadata": {},
     "output_type": "execute_result"
    }
   ],
   "source": [
    "B[3:6]"
   ]
  },
  {
   "cell_type": "code",
   "execution_count": 6,
   "id": "1aa89c64-a4e4-4c40-a330-c36e4a6717d1",
   "metadata": {},
   "outputs": [
    {
     "data": {
      "text/plain": [
       "[40, 50, 60]"
      ]
     },
     "execution_count": 6,
     "metadata": {},
     "output_type": "execute_result"
    }
   ],
   "source": [
    "Blist = B[3:6]\n",
    "Blist"
   ]
  },
  {
   "cell_type": "code",
   "execution_count": 7,
   "id": "f65577ec-fbe1-474a-b587-ab1dbf38cf63",
   "metadata": {},
   "outputs": [
    {
     "data": {
      "text/plain": [
       "50"
      ]
     },
     "execution_count": 7,
     "metadata": {},
     "output_type": "execute_result"
    }
   ],
   "source": [
    "B[3:6][1]"
   ]
  },
  {
   "cell_type": "code",
   "execution_count": 8,
   "id": "8359d5ff-24ee-48c4-acdb-d4083b2e6b8c",
   "metadata": {},
   "outputs": [
    {
     "data": {
      "text/plain": [
       "list"
      ]
     },
     "execution_count": 8,
     "metadata": {},
     "output_type": "execute_result"
    }
   ],
   "source": [
    "type(B[3:6])"
   ]
  },
  {
   "cell_type": "markdown",
   "id": "1475fe12-2a88-4da9-a2b2-f22feb97802e",
   "metadata": {},
   "source": [
    "* List in List"
   ]
  },
  {
   "cell_type": "code",
   "execution_count": 9,
   "id": "af9798e1-a04a-4618-83f7-8af7b42f535c",
   "metadata": {},
   "outputs": [
    {
     "data": {
      "text/plain": [
       "[1, 2, 'c', [1, 3, 4]]"
      ]
     },
     "execution_count": 9,
     "metadata": {},
     "output_type": "execute_result"
    }
   ],
   "source": [
    "B = [1, 2, 'c', [1, 3, 4]]\n",
    "B"
   ]
  },
  {
   "cell_type": "code",
   "execution_count": 10,
   "id": "b381a930-c156-4b63-8f46-7108d797849b",
   "metadata": {},
   "outputs": [
    {
     "data": {
      "text/plain": [
       "3"
      ]
     },
     "execution_count": 10,
     "metadata": {},
     "output_type": "execute_result"
    }
   ],
   "source": [
    "B[3][1]"
   ]
  },
  {
   "cell_type": "code",
   "execution_count": 11,
   "id": "4b855cd0-41a9-4039-9eca-b0b7f789cbba",
   "metadata": {},
   "outputs": [
    {
     "data": {
      "text/plain": [
       "list"
      ]
     },
     "execution_count": 11,
     "metadata": {},
     "output_type": "execute_result"
    }
   ],
   "source": [
    "type(B[3])"
   ]
  },
  {
   "cell_type": "code",
   "execution_count": 12,
   "id": "53ce7314-b1f8-4986-ba40-9d7c36a3729e",
   "metadata": {},
   "outputs": [],
   "source": [
    "C = [[1,2,3,4], [3, [12, 4, 5, 65], 'c', 10], 'a']"
   ]
  },
  {
   "cell_type": "code",
   "execution_count": 13,
   "id": "1956e70a-ff80-4970-873f-a0518b8dcd6b",
   "metadata": {},
   "outputs": [
    {
     "data": {
      "text/plain": [
       "75"
      ]
     },
     "execution_count": 13,
     "metadata": {},
     "output_type": "execute_result"
    }
   ],
   "source": [
    "C[1][1][3] + 10"
   ]
  },
  {
   "cell_type": "markdown",
   "id": "d8a38d9c-cee7-4f27-ab85-982c566431e3",
   "metadata": {},
   "source": [
    "### Vector의 표기 단위 차이"
   ]
  },
  {
   "cell_type": "code",
   "execution_count": 14,
   "id": "4ce47b0a-5a30-4eb5-a685-74d24a34f3cb",
   "metadata": {},
   "outputs": [
    {
     "data": {
      "text/plain": [
       "array([[5, 6, 8],\n",
       "       [6, 7, 4]])"
      ]
     },
     "execution_count": 14,
     "metadata": {},
     "output_type": "execute_result"
    }
   ],
   "source": [
    "X = np.array([[5, 6, 8], [6, 7, 4]])\n",
    "X"
   ]
  },
  {
   "cell_type": "code",
   "execution_count": 15,
   "id": "252f841b-c472-4bd9-ac31-439edb382674",
   "metadata": {},
   "outputs": [
    {
     "data": {
      "text/plain": [
       "array([5, 6, 7])"
      ]
     },
     "execution_count": 15,
     "metadata": {},
     "output_type": "execute_result"
    }
   ],
   "source": [
    "xr1 = np.array([5,6,7])\n",
    "xr1"
   ]
  },
  {
   "cell_type": "code",
   "execution_count": 16,
   "id": "d7032c32-8f34-419f-bd6a-68defeb4e4b2",
   "metadata": {},
   "outputs": [
    {
     "data": {
      "text/plain": [
       "1"
      ]
     },
     "execution_count": 16,
     "metadata": {},
     "output_type": "execute_result"
    }
   ],
   "source": [
    "xr1.ndim"
   ]
  },
  {
   "cell_type": "code",
   "execution_count": 17,
   "id": "8e4a531b-eaa2-4d26-af21-4ea35214912b",
   "metadata": {},
   "outputs": [
    {
     "data": {
      "text/plain": [
       "array([[5, 6, 7]])"
      ]
     },
     "execution_count": 17,
     "metadata": {},
     "output_type": "execute_result"
    }
   ],
   "source": [
    "XR1 = np.array([[5,6,7]])\n",
    "XR1"
   ]
  },
  {
   "cell_type": "code",
   "execution_count": 18,
   "id": "f3e8691a-1512-4676-a71d-c3679a26d3fe",
   "metadata": {},
   "outputs": [
    {
     "data": {
      "text/plain": [
       "2"
      ]
     },
     "execution_count": 18,
     "metadata": {},
     "output_type": "execute_result"
    }
   ],
   "source": [
    "XR1.ndim"
   ]
  },
  {
   "cell_type": "code",
   "execution_count": 19,
   "id": "753eb879-5faf-4d90-9994-5906b2354e49",
   "metadata": {},
   "outputs": [
    {
     "data": {
      "text/plain": [
       "array([[5],\n",
       "       [6]])"
      ]
     },
     "execution_count": 19,
     "metadata": {},
     "output_type": "execute_result"
    }
   ],
   "source": [
    "X1 = np.array([[5], [6]])\n",
    "X1"
   ]
  },
  {
   "cell_type": "code",
   "execution_count": 20,
   "id": "46d388b4-04ad-4183-af5e-2b34e803794f",
   "metadata": {},
   "outputs": [
    {
     "data": {
      "text/plain": [
       "2"
      ]
     },
     "execution_count": 20,
     "metadata": {},
     "output_type": "execute_result"
    }
   ],
   "source": [
    "X1.ndim"
   ]
  },
  {
   "cell_type": "code",
   "execution_count": 21,
   "id": "c2c314a8-9219-4023-9b02-69be42aea937",
   "metadata": {},
   "outputs": [],
   "source": [
    "a = np.array([12,3,4])"
   ]
  },
  {
   "cell_type": "code",
   "execution_count": 22,
   "id": "064ab9eb-c196-4789-9e60-1b2630e6d3d0",
   "metadata": {},
   "outputs": [],
   "source": [
    "b = np.array([[12,3,4]])"
   ]
  },
  {
   "cell_type": "code",
   "execution_count": 23,
   "id": "2cc9119e-c96c-4926-860b-930fcf8d6dbb",
   "metadata": {},
   "outputs": [
    {
     "data": {
      "text/plain": [
       "1"
      ]
     },
     "execution_count": 23,
     "metadata": {},
     "output_type": "execute_result"
    }
   ],
   "source": [
    "a.ndim # 괄호 겹수에 따라서 달라짐"
   ]
  },
  {
   "cell_type": "code",
   "execution_count": 24,
   "id": "848946b7-dcd3-437b-9c33-3ecd980fb651",
   "metadata": {},
   "outputs": [
    {
     "data": {
      "text/plain": [
       "2"
      ]
     },
     "execution_count": 24,
     "metadata": {},
     "output_type": "execute_result"
    }
   ],
   "source": [
    "b.ndim"
   ]
  },
  {
   "cell_type": "code",
   "execution_count": 25,
   "id": "3e23f5d2-a87a-457b-9e88-a706d15c43a1",
   "metadata": {},
   "outputs": [
    {
     "data": {
      "text/plain": [
       "2"
      ]
     },
     "execution_count": 25,
     "metadata": {},
     "output_type": "execute_result"
    }
   ],
   "source": [
    "X.ndim"
   ]
  },
  {
   "cell_type": "code",
   "execution_count": 26,
   "id": "4bb412c5-2ded-41de-a156-e5adbe3d89da",
   "metadata": {},
   "outputs": [
    {
     "data": {
      "text/plain": [
       "dtype('int32')"
      ]
     },
     "execution_count": 26,
     "metadata": {},
     "output_type": "execute_result"
    }
   ],
   "source": [
    "X.dtype"
   ]
  },
  {
   "cell_type": "code",
   "execution_count": 27,
   "id": "cf78f52d-ef94-4152-b0ab-98a7acc7e742",
   "metadata": {},
   "outputs": [
    {
     "data": {
      "text/plain": [
       "numpy.ndarray"
      ]
     },
     "execution_count": 27,
     "metadata": {},
     "output_type": "execute_result"
    }
   ],
   "source": [
    "type(X)"
   ]
  },
  {
   "cell_type": "code",
   "execution_count": 28,
   "id": "32008bfc-cc17-415d-b2cf-cef88c56f0a3",
   "metadata": {},
   "outputs": [],
   "source": [
    "X = np.array([[1],[2],[3]])"
   ]
  },
  {
   "cell_type": "code",
   "execution_count": 29,
   "id": "f88cd5a6-395f-4973-b606-373d46ea91fe",
   "metadata": {},
   "outputs": [
    {
     "data": {
      "text/plain": [
       "array([[1],\n",
       "       [2],\n",
       "       [3]])"
      ]
     },
     "execution_count": 29,
     "metadata": {},
     "output_type": "execute_result"
    }
   ],
   "source": [
    "X"
   ]
  },
  {
   "cell_type": "code",
   "execution_count": 30,
   "id": "dcd73615-d44f-4993-9383-a377efba649f",
   "metadata": {},
   "outputs": [
    {
     "data": {
      "text/plain": [
       "(3, 1)"
      ]
     },
     "execution_count": 30,
     "metadata": {},
     "output_type": "execute_result"
    }
   ],
   "source": [
    "X.shape"
   ]
  },
  {
   "cell_type": "code",
   "execution_count": 31,
   "id": "356f988e-851f-4a6e-8d8e-e9991af34447",
   "metadata": {},
   "outputs": [
    {
     "data": {
      "text/plain": [
       "array([[1., 2., 3.],\n",
       "       [4., 5., 6.]])"
      ]
     },
     "execution_count": 31,
     "metadata": {},
     "output_type": "execute_result"
    }
   ],
   "source": [
    "X = np.array([[1., 2., 3.], \n",
    "              [4., 5., 6.,]])\n",
    "X"
   ]
  },
  {
   "cell_type": "code",
   "execution_count": 32,
   "id": "b2074d62-f516-4e10-b9cd-e8798b8a378d",
   "metadata": {},
   "outputs": [
    {
     "data": {
      "text/plain": [
       "(2, 3)"
      ]
     },
     "execution_count": 32,
     "metadata": {},
     "output_type": "execute_result"
    }
   ],
   "source": [
    "X.shape"
   ]
  },
  {
   "cell_type": "code",
   "execution_count": 33,
   "id": "ed46aafb-81b8-4634-b07d-b4e80f72238c",
   "metadata": {},
   "outputs": [
    {
     "data": {
      "text/plain": [
       "array([[1., 4.],\n",
       "       [2., 5.],\n",
       "       [3., 6.]])"
      ]
     },
     "execution_count": 33,
     "metadata": {},
     "output_type": "execute_result"
    }
   ],
   "source": [
    "X.T"
   ]
  },
  {
   "cell_type": "code",
   "execution_count": 34,
   "id": "0cb1c214-4478-4c45-8a5c-4d9b1f2b6f91",
   "metadata": {},
   "outputs": [
    {
     "data": {
      "text/plain": [
       "array([[1., 2.],\n",
       "       [3., 4.],\n",
       "       [5., 6.]])"
      ]
     },
     "execution_count": 34,
     "metadata": {},
     "output_type": "execute_result"
    }
   ],
   "source": [
    "X.reshape(3, 2)"
   ]
  },
  {
   "cell_type": "code",
   "execution_count": 35,
   "id": "f534336a-12be-48e3-a51d-db73b4f0f8db",
   "metadata": {},
   "outputs": [
    {
     "data": {
      "text/plain": [
       "array([[1., 2., 3., 4., 5., 6.]])"
      ]
     },
     "execution_count": 35,
     "metadata": {},
     "output_type": "execute_result"
    }
   ],
   "source": [
    "X.reshape(1, 6)"
   ]
  },
  {
   "cell_type": "code",
   "execution_count": 36,
   "id": "34652c83-4bb2-4c3b-a27b-2c2256593778",
   "metadata": {},
   "outputs": [
    {
     "data": {
      "text/plain": [
       "array([[1., 2., 3., 4., 5., 6.]])"
      ]
     },
     "execution_count": 36,
     "metadata": {},
     "output_type": "execute_result"
    }
   ],
   "source": [
    "X.reshape(1, -1)"
   ]
  },
  {
   "cell_type": "code",
   "execution_count": 37,
   "id": "da5aa402-a105-4a9b-82a3-1ffe50315071",
   "metadata": {},
   "outputs": [
    {
     "data": {
      "text/plain": [
       "array([[1.],\n",
       "       [2.],\n",
       "       [3.],\n",
       "       [4.],\n",
       "       [5.],\n",
       "       [6.]])"
      ]
     },
     "execution_count": 37,
     "metadata": {},
     "output_type": "execute_result"
    }
   ],
   "source": [
    "X.reshape(6, 1)"
   ]
  },
  {
   "cell_type": "code",
   "execution_count": 38,
   "id": "2cc4d2ef-679d-4482-b8e2-9fbbc948b148",
   "metadata": {},
   "outputs": [
    {
     "data": {
      "text/plain": [
       "array([[1.],\n",
       "       [2.],\n",
       "       [3.],\n",
       "       [4.],\n",
       "       [5.],\n",
       "       [6.]])"
      ]
     },
     "execution_count": 38,
     "metadata": {},
     "output_type": "execute_result"
    }
   ],
   "source": [
    "X.reshape(-1, 1)"
   ]
  },
  {
   "cell_type": "code",
   "execution_count": 40,
   "id": "3fb219ca-3f2e-4db6-8b46-d53b20dea78e",
   "metadata": {},
   "outputs": [
    {
     "data": {
      "text/plain": [
       "array([[1.],\n",
       "       [2.],\n",
       "       [3.],\n",
       "       [4.],\n",
       "       [5.],\n",
       "       [6.]])"
      ]
     },
     "execution_count": 40,
     "metadata": {},
     "output_type": "execute_result"
    }
   ],
   "source": [
    "A = X.reshape(6, 1)\n",
    "A"
   ]
  },
  {
   "cell_type": "code",
   "execution_count": 39,
   "id": "a0f4c6ea-a64e-40ab-9497-02cd1d02e719",
   "metadata": {},
   "outputs": [
    {
     "data": {
      "text/plain": [
       "array([[1., 2., 3.],\n",
       "       [4., 5., 6.]])"
      ]
     },
     "execution_count": 39,
     "metadata": {},
     "output_type": "execute_result"
    }
   ],
   "source": [
    "X"
   ]
  },
  {
   "cell_type": "code",
   "execution_count": 41,
   "id": "9656590b-fbc1-42ec-bd33-894be780d585",
   "metadata": {},
   "outputs": [],
   "source": [
    "a = np.array([1,2,3])"
   ]
  },
  {
   "cell_type": "code",
   "execution_count": 42,
   "id": "4c5a42b4-d681-4590-8757-d49bbc30f5ff",
   "metadata": {},
   "outputs": [
    {
     "data": {
      "text/plain": [
       "array([1, 2, 3])"
      ]
     },
     "execution_count": 42,
     "metadata": {},
     "output_type": "execute_result"
    }
   ],
   "source": [
    "a.T"
   ]
  },
  {
   "cell_type": "code",
   "execution_count": 43,
   "id": "3abbbfe6-61b0-46d8-b3a9-2456e56d244d",
   "metadata": {},
   "outputs": [],
   "source": [
    "b = np.array([[1,2,3]])"
   ]
  },
  {
   "cell_type": "code",
   "execution_count": 44,
   "id": "08369495-afc3-4a79-9114-3ff5aacef735",
   "metadata": {},
   "outputs": [
    {
     "data": {
      "text/plain": [
       "array([[1],\n",
       "       [2],\n",
       "       [3]])"
      ]
     },
     "execution_count": 44,
     "metadata": {},
     "output_type": "execute_result"
    }
   ],
   "source": [
    "b.T"
   ]
  },
  {
   "cell_type": "code",
   "execution_count": 61,
   "id": "e09312b7-8ece-4a74-86ac-393839335035",
   "metadata": {},
   "outputs": [
    {
     "name": "stdout",
     "output_type": "stream",
     "text": [
      "x1 =  [[5]\n",
      " [6]\n",
      " [8]]\n",
      "x2 =  [[6]\n",
      " [7]\n",
      " [5]]\n"
     ]
    }
   ],
   "source": [
    "x1 = np.array([[5], [6], [8]])\n",
    "x2 = np.array([[6], [7], [5]])\n",
    "print('x1 = ', x1)\n",
    "print('x2 = ', x2)"
   ]
  },
  {
   "cell_type": "code",
   "execution_count": 62,
   "id": "8458fa82-eeb8-4359-b014-931a1addc985",
   "metadata": {},
   "outputs": [
    {
     "data": {
      "text/plain": [
       "(3, 1)"
      ]
     },
     "execution_count": 62,
     "metadata": {},
     "output_type": "execute_result"
    }
   ],
   "source": [
    "x2.shape"
   ]
  },
  {
   "cell_type": "code",
   "execution_count": 63,
   "id": "4706a5fa-8c16-4ccc-a23d-efff008262cd",
   "metadata": {},
   "outputs": [
    {
     "name": "stdout",
     "output_type": "stream",
     "text": [
      "x1T =  [[5 6 8]]\n",
      "x2T =  [[6 7 5]]\n"
     ]
    }
   ],
   "source": [
    "x1T = x1.T\n",
    "x2T = x2.T\n",
    "print('x1T = ', x1T)\n",
    "print('x2T = ', x2T)"
   ]
  },
  {
   "cell_type": "code",
   "execution_count": 64,
   "id": "96add9b2-1e46-4009-936a-0d7fd27cdf88",
   "metadata": {},
   "outputs": [
    {
     "name": "stdout",
     "output_type": "stream",
     "text": [
      "x1TT =  [[5 6 8]]\n",
      "x2TT =  [[6 7 5]]\n"
     ]
    }
   ],
   "source": [
    "x1TT = x1.reshape(1, 3)\n",
    "x2TT = x2.reshape(1, 3)\n",
    "print('x1TT = ', x1TT)\n",
    "print('x2TT = ', x2TT)"
   ]
  },
  {
   "cell_type": "markdown",
   "id": "f9dbf2fa-a20a-45b8-81ed-b942bcaf0362",
   "metadata": {},
   "source": [
    "* `vstack` (vertical (수직) stack (쌓다))"
   ]
  },
  {
   "cell_type": "code",
   "execution_count": 65,
   "id": "4890fade-525d-4434-bb9d-7a7e732ff912",
   "metadata": {},
   "outputs": [
    {
     "data": {
      "text/plain": [
       "array([[5, 6, 8],\n",
       "       [6, 7, 5]])"
      ]
     },
     "execution_count": 65,
     "metadata": {},
     "output_type": "execute_result"
    }
   ],
   "source": [
    "X = np.vstack([x1T, x2T])\n",
    "X"
   ]
  },
  {
   "cell_type": "markdown",
   "id": "88ed6800-8a8f-4618-80d2-a8ffbf964054",
   "metadata": {},
   "source": [
    "* `hstack` (vertical (수평) stack (쌓다))"
   ]
  },
  {
   "cell_type": "code",
   "execution_count": 66,
   "id": "0b6466aa-3d77-44f2-9afe-44c48e35a405",
   "metadata": {},
   "outputs": [
    {
     "data": {
      "text/plain": [
       "array([[5, 6, 8, 6, 7, 5]])"
      ]
     },
     "execution_count": 66,
     "metadata": {},
     "output_type": "execute_result"
    }
   ],
   "source": [
    "Xhstack = np.hstack([x1T, x2T])\n",
    "Xhstack"
   ]
  },
  {
   "cell_type": "code",
   "execution_count": 70,
   "id": "d9f15e3f-6d33-4491-81dd-8c0b9e64fc19",
   "metadata": {},
   "outputs": [
    {
     "data": {
      "text/plain": [
       "array([[5, 6],\n",
       "       [6, 7],\n",
       "       [8, 5]])"
      ]
     },
     "execution_count": 70,
     "metadata": {},
     "output_type": "execute_result"
    }
   ],
   "source": [
    "Xhstack2 = np.hstack([x1, x2])\n",
    "Xhstack2"
   ]
  },
  {
   "cell_type": "code",
   "execution_count": 78,
   "id": "bdb9c4c7-d68f-4687-8ac1-ac9b947fbb05",
   "metadata": {},
   "outputs": [
    {
     "data": {
      "text/plain": [
       "array([[1., 1., 1.],\n",
       "       [1., 1., 1.]])"
      ]
     },
     "execution_count": 78,
     "metadata": {},
     "output_type": "execute_result"
    }
   ],
   "source": [
    "onevec = np.ones((2, 3)) # 차원을 튜플로 1차원 이상인 경우\n",
    "onevec"
   ]
  },
  {
   "cell_type": "code",
   "execution_count": 82,
   "id": "7212e363-b8c1-430c-a81f-97e1a0ed22c7",
   "metadata": {},
   "outputs": [
    {
     "data": {
      "text/plain": [
       "array([[0., 0., 0.],\n",
       "       [0., 0., 0.]])"
      ]
     },
     "execution_count": 82,
     "metadata": {},
     "output_type": "execute_result"
    }
   ],
   "source": [
    "zerovec = np.zeros((2, 3)) # 차원을 튜플로 1차원 이상인 경우\n",
    "zerovec"
   ]
  },
  {
   "cell_type": "code",
   "execution_count": 86,
   "id": "fa2de6db-150a-4360-9be5-70f33b64e44a",
   "metadata": {},
   "outputs": [
    {
     "data": {
      "text/plain": [
       "array([0, 1, 2, 3, 4, 5, 6, 7, 8, 9])"
      ]
     },
     "execution_count": 86,
     "metadata": {},
     "output_type": "execute_result"
    }
   ],
   "source": [
    "np.arange(0, 10) # 이상, 미만"
   ]
  },
  {
   "cell_type": "code",
   "execution_count": 87,
   "id": "55add280-fffd-48f6-b237-fbd5c47882b5",
   "metadata": {},
   "outputs": [
    {
     "name": "stdout",
     "output_type": "stream",
     "text": [
      "0\n",
      "1\n",
      "2\n"
     ]
    }
   ],
   "source": [
    "for i in np.arange(3):\n",
    "    print(i)"
   ]
  },
  {
   "cell_type": "code",
   "execution_count": 88,
   "id": "666e7604-dbf7-4969-b1f0-ecad2dc6ac81",
   "metadata": {},
   "outputs": [
    {
     "data": {
      "text/plain": [
       "array([0.        , 0.33333333, 0.66666667, 1.        , 1.33333333,\n",
       "       1.66666667, 2.        , 2.33333333, 2.66666667, 3.        ])"
      ]
     },
     "execution_count": 88,
     "metadata": {},
     "output_type": "execute_result"
    }
   ],
   "source": [
    "np.linspace(0, 3, 10) # 0부터 3까지인데 10개로 동일하게 만들어라"
   ]
  },
  {
   "cell_type": "code",
   "execution_count": 93,
   "id": "db98a593-32a9-4ca2-97d4-d76c41702aa0",
   "metadata": {},
   "outputs": [
    {
     "data": {
      "text/plain": [
       "array([[ 0.38487487, -0.07288008,  0.80651579,  0.70343276, -0.77464815,\n",
       "         0.87754757,  0.95561031, -0.59994147, -0.66243305,  0.23119063]])"
      ]
     },
     "execution_count": 93,
     "metadata": {},
     "output_type": "execute_result"
    }
   ],
   "source": [
    "d = 2*np.random.rand(1, 10)-1\n",
    "d"
   ]
  },
  {
   "cell_type": "code",
   "execution_count": 94,
   "id": "0888ad56-7063-41f6-b06e-c33ef461cdcc",
   "metadata": {},
   "outputs": [
    {
     "data": {
      "text/plain": [
       "array([[-1.54810361,  2.09007728,  1.73043782, -0.09473139],\n",
       "       [ 1.26636536,  1.0562518 , -0.5685202 ,  0.65324249],\n",
       "       [-0.17528393,  0.18047252, -1.13344159,  0.20730094]])"
      ]
     },
     "execution_count": 94,
     "metadata": {},
     "output_type": "execute_result"
    }
   ],
   "source": [
    "e = np.random.randn(3, 4)\n",
    "e"
   ]
  },
  {
   "cell_type": "code",
   "execution_count": null,
   "id": "3ec33c81-4076-47cc-aed4-75c1bc3fe1fc",
   "metadata": {},
   "outputs": [],
   "source": []
  }
 ],
 "metadata": {
  "kernelspec": {
   "display_name": "Python 3 (ipykernel)",
   "language": "python",
   "name": "python3"
  },
  "language_info": {
   "codemirror_mode": {
    "name": "ipython",
    "version": 3
   },
   "file_extension": ".py",
   "mimetype": "text/x-python",
   "name": "python",
   "nbconvert_exporter": "python",
   "pygments_lexer": "ipython3",
   "version": "3.9.12"
  }
 },
 "nbformat": 4,
 "nbformat_minor": 5
}
