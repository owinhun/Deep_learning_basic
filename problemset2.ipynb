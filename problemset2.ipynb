{
 "cells": [
  {
   "cell_type": "markdown",
   "id": "45636de3-5205-41fa-9d84-bf7f3450a6c6",
   "metadata": {},
   "source": [
    "## Neural networks with PyTorch\n",
    "* Pytorch의 nn.module을 활용하여 만드는 유용한 방법을 학습"
   ]
  },
  {
   "cell_type": "code",
   "execution_count": 1,
   "id": "7d4bcde1-7f15-4665-9df9-69411c1048e8",
   "metadata": {},
   "outputs": [
    {
     "name": "stderr",
     "output_type": "stream",
     "text": [
      "C:\\Users\\OH\\Anaconda3\\envs\\pytorch1\\lib\\site-packages\\tqdm\\auto.py:22: TqdmWarning: IProgress not found. Please update jupyter and ipywidgets. See https://ipywidgets.readthedocs.io/en/stable/user_install.html\n",
      "  from .autonotebook import tqdm as notebook_tqdm\n"
     ]
    },
    {
     "data": {
      "text/plain": [
       "<torch._C.Generator at 0x15d03c18c10>"
      ]
     },
     "execution_count": 1,
     "metadata": {},
     "output_type": "execute_result"
    }
   ],
   "source": [
    "import torch\n",
    "import numpy as np\n",
    "\n",
    "from torch import nn\n",
    "import torch.nn.functional as F\n",
    "from collections import OrderedDict\n",
    "\n",
    "torch.manual_seed(0)"
   ]
  },
  {
   "cell_type": "markdown",
   "id": "6642c52a-c965-43d6-80da-8a2fe983bd71",
   "metadata": {},
   "source": [
    "* nn.Linear : Z[l] = A[l-1]*W.T + b 연산\n",
    "* 해당 layer의\n",
    "    * 입력 차원 n_input = 30\n",
    "    * 출력 차원 n_output = 60"
   ]
  },
  {
   "cell_type": "code",
   "execution_count": 2,
   "id": "ec7ee8c8-d9cb-4771-941a-d1b0196b08d8",
   "metadata": {},
   "outputs": [],
   "source": [
    "# Example of nn.Linear\n",
    "linear_layer1 = nn.Linear(30, 60) # W, b를 Linear가 랜덤한 값으로 초기화해서 가지고 있음 클래스임\n",
    "# linear_layer1는 인스턴스, Linear는 클래스"
   ]
  },
  {
   "cell_type": "code",
   "execution_count": 3,
   "id": "517695f4-9d5e-4352-8907-f411a2cb5ead",
   "metadata": {},
   "outputs": [
    {
     "data": {
      "text/plain": [
       "tensor([[-0.5544, -0.8895, -1.4399,  ..., -0.2810,  0.8495, -0.7716],\n",
       "        [ 1.0602,  0.1101, -0.1220,  ..., -0.4638, -0.3355, -1.5890],\n",
       "        [-0.0170,  0.1583, -0.8697,  ...,  0.3084,  0.9387,  0.1394],\n",
       "        ...,\n",
       "        [-0.8896, -1.2591,  0.6585,  ...,  0.3040, -0.6696,  0.6153],\n",
       "        [-0.4951, -0.4419, -0.1860,  ..., -0.5319,  0.2886,  0.2475],\n",
       "        [ 0.0534, -0.6933,  0.2580,  ...,  0.5029, -0.5953,  0.3583]],\n",
       "       grad_fn=<AddmmBackward0>)"
      ]
     },
     "execution_count": 3,
     "metadata": {},
     "output_type": "execute_result"
    }
   ],
   "source": [
    "A = torch.randn(60, 30)\n",
    "linear_layer1(A)"
   ]
  },
  {
   "cell_type": "code",
   "execution_count": 4,
   "id": "9badc905-dde9-4619-a565-d8d8b87ca480",
   "metadata": {},
   "outputs": [
    {
     "data": {
      "text/plain": [
       "torch.Size([60, 60])"
      ]
     },
     "execution_count": 4,
     "metadata": {},
     "output_type": "execute_result"
    }
   ],
   "source": [
    "linear_layer1(A).shape"
   ]
  },
  {
   "cell_type": "code",
   "execution_count": 5,
   "id": "7ef3a6f8-d38b-40b7-acdf-fe5deeecfb7c",
   "metadata": {},
   "outputs": [
    {
     "data": {
      "text/plain": [
       "torch.Size([60, 30])"
      ]
     },
     "execution_count": 5,
     "metadata": {},
     "output_type": "execute_result"
    }
   ],
   "source": [
    "# Example of weights\n",
    "linear_layer1.weight.shape"
   ]
  },
  {
   "cell_type": "code",
   "execution_count": 6,
   "id": "a9ad6940-d9d6-462c-a4ca-14558ad9af60",
   "metadata": {},
   "outputs": [
    {
     "data": {
      "text/plain": [
       "torch.Size([60])"
      ]
     },
     "execution_count": 6,
     "metadata": {},
     "output_type": "execute_result"
    }
   ],
   "source": [
    "linear_layer1.bias.shape # broadcast가 일어남"
   ]
  },
  {
   "cell_type": "markdown",
   "id": "f0981cf2-418a-4e49-94be-e3fd70bd4c71",
   "metadata": {},
   "source": [
    "How to get the weight and bias of each nn.Linear"
   ]
  },
  {
   "cell_type": "markdown",
   "id": "6a8de4a7-ee0a-4f8b-a4ae-ff5f01deac72",
   "metadata": {},
   "source": [
    "## NN example\n",
    "* input units : 20\n",
    "* hidden layer : 30, 40\n",
    "* output units : 3\n",
    "* activation function : ReLU\n",
    "* ouput layer : No activation"
   ]
  },
  {
   "cell_type": "code",
   "execution_count": 7,
   "id": "5357a936-43ef-4c66-927d-73c38909e9be",
   "metadata": {},
   "outputs": [],
   "source": [
    "# Simple NN construction\n",
    "\n",
    "class FCN(nn.Module):\n",
    "    def __init__(self):\n",
    "        super().__init__()\n",
    "        \n",
    "        self.lin1 = nn.Linear(20, 30)\n",
    "        self.lin2 = nn.Linear(30, 40)\n",
    "        self.lin3 = nn.Linear(40, 3)\n",
    "        \n",
    "        self.relu = nn.ReLU(True)\n",
    "    \n",
    "    def forward(self, x):\n",
    "        x = self.lin1(x)\n",
    "        x = self.relu(x)\n",
    "        x = self.lin2(x)\n",
    "        x = self.relu(x)\n",
    "        x = self.lin3(x)\n",
    "        \n",
    "        return x"
   ]
  },
  {
   "cell_type": "code",
   "execution_count": null,
   "id": "1e351ad8-0998-4d29-96ca-023a621c2aa7",
   "metadata": {},
   "outputs": [],
   "source": [
    "# # nn.Sequential() example\n",
    "\n",
    "# class FCN_seq(nn.Module):\n",
    "#     def __init__(self):\n",
    "#         super().__init__()\n",
    "        \n",
    "#         self.fc = nn.Sequential(nn.Linear(20, 30),\n",
    "#                                nn.ReLU(True),\n",
    "#                                nn.Linear(30, 40),\n",
    "#                                nn.ReLU(True),\n",
    "#                                nn.Linear(40, 3)\n",
    "#         )\n",
    "    \n",
    "#     def forward(self, x):        \n",
    "#         return self.fc(x)"
   ]
  },
  {
   "cell_type": "code",
   "execution_count": null,
   "id": "663d9c9e-398a-44bf-ad3c-6d1f4ca8c4da",
   "metadata": {},
   "outputs": [],
   "source": [
    "# # Ordered dict example\n",
    "# # nn.Sequential() example\n",
    "\n",
    "# class FCN_seq_ordered_dic(nn.Module):\n",
    "#     def __init__(self):\n",
    "#         super().__init__()\n",
    "        \n",
    "#         self.fc = nn.Sequential(OrderedDict([('lin1', nn.Linear(20, 30)),\n",
    "#                                ('relu1', nn.ReLU(True)),\n",
    "#                                ('lin2', nn.Linear(30, 40)),\n",
    "#                                ('relu2', nn.ReLU(True)),\n",
    "#                                ('lin3',nn.Linear(40, 3))\n",
    "#                                             ])\n",
    "#         )\n",
    "    \n",
    "#     def forward(self, x):        \n",
    "#         return self.fc(x)"
   ]
  },
  {
   "cell_type": "code",
   "execution_count": 20,
   "id": "5a72a9e0-1b39-4f94-9dfa-e91cb0061c1f",
   "metadata": {},
   "outputs": [
    {
     "data": {
      "text/plain": [
       "torch.Size([60, 3])"
      ]
     },
     "execution_count": 20,
     "metadata": {},
     "output_type": "execute_result"
    }
   ],
   "source": [
    "Xtrain = torch.randn(60, 20)\n",
    "\n",
    "model = FCN()\n",
    "model.forward(Xtrain).shape\n",
    "\n",
    "# model.lin1.weight.data = torch.ones(30, 20)\n",
    "# model.lin1.bias"
   ]
  },
  {
   "cell_type": "markdown",
   "id": "d8b65ac4-cfdf-4625-aee1-c956e70cbe19",
   "metadata": {},
   "source": [
    "## Problem Setup\n",
    "Build a Fully connected neural network with\n",
    "* 3 layers\n",
    "* 마지막 layer의 unit 수는 1\n",
    "    * 마지막 layer의 activation은 없음 (linear layer)\n",
    "* Data feature 수는 100\n",
    "* input unit 수는 data 크기를 보고 맞추기\n",
    "* hidden layer의 unit 수는 [80, 50]\n",
    "    * hidden layer의 activation 함수는 ReLU\n",
    "* model class 명 myFCN\n",
    "    * instance 명 my_model 생성\n",
    "    * my_model 출력"
   ]
  },
  {
   "cell_type": "markdown",
   "id": "2d22a11c-c13b-4a18-8142-74e0e19c9860",
   "metadata": {},
   "source": [
    "## Problem 1\n",
    "* problem setup에서 구성한 neural nework을 nn.Sequential을 활용하여 생성하기"
   ]
  },
  {
   "cell_type": "code",
   "execution_count": 54,
   "id": "2d5b3828-f397-417a-aff3-274f8ab10840",
   "metadata": {},
   "outputs": [],
   "source": [
    "class myFCN(nn.Module):\n",
    "    def __init__(self):\n",
    "        super().__init__()\n",
    "        \n",
    "        self.fc = nn.Sequential(nn.Linear(100, 80),\n",
    "                                nn.ReLU(True),\n",
    "                                nn.Linear(80, 50),\n",
    "                                nn.ReLU(True),\n",
    "                                nn.Linear(50, 1)\n",
    "        )\n",
    "        \n",
    "    def forward(self, x):\n",
    "        return self.fc(x)"
   ]
  },
  {
   "cell_type": "code",
   "execution_count": 55,
   "id": "30e9485c-3128-4b39-966b-0b471223b054",
   "metadata": {},
   "outputs": [],
   "source": [
    "## 사용할 data\n",
    "batch_size = 30\n",
    "num_feature = 100\n",
    "\n",
    "X_train = torch.randn(batch_size, num_feature)"
   ]
  },
  {
   "cell_type": "code",
   "execution_count": 56,
   "id": "a149fccf-5dd7-4e39-9a9c-e83e61f916c5",
   "metadata": {},
   "outputs": [],
   "source": [
    "# Problem 1 코딩(매 줄마다 주석 필수)"
   ]
  },
  {
   "cell_type": "code",
   "execution_count": 59,
   "id": "d38b163a-1e18-4795-8591-bfdbc983dd55",
   "metadata": {},
   "outputs": [
    {
     "data": {
      "text/plain": [
       "myFCN(\n",
       "  (fc): Sequential(\n",
       "    (0): Linear(in_features=100, out_features=80, bias=True)\n",
       "    (1): ReLU(inplace=True)\n",
       "    (2): Linear(in_features=80, out_features=50, bias=True)\n",
       "    (3): ReLU(inplace=True)\n",
       "    (4): Linear(in_features=50, out_features=1, bias=True)\n",
       "  )\n",
       ")"
      ]
     },
     "execution_count": 59,
     "metadata": {},
     "output_type": "execute_result"
    }
   ],
   "source": [
    "my_model = myFCN()\n",
    "my_model"
   ]
  },
  {
   "cell_type": "markdown",
   "id": "97b43716-6557-4680-a67b-fcc5fbe710f4",
   "metadata": {},
   "source": [
    "## Problem 2\n",
    "* problem setup에서 구성한 neural network을 OrderedDict 을 활용하여 생성\n",
    "    * 각 layer의 이름을 주고 생성"
   ]
  },
  {
   "cell_type": "code",
   "execution_count": 17,
   "id": "7d8b2bf1-f71f-496b-9b03-daf670c02b2b",
   "metadata": {},
   "outputs": [],
   "source": [
    "# 답작성"
   ]
  },
  {
   "cell_type": "code",
   "execution_count": 60,
   "id": "08af0902-8742-406f-96d4-0c8ae47c512d",
   "metadata": {},
   "outputs": [],
   "source": [
    "class myFCN_OrderedDict(nn.Module):\n",
    "    def __init__(self):\n",
    "        super().__init__()\n",
    "        \n",
    "        self.fc = nn.Sequential(OrderedDict([('lin1', nn.Linear(100, 80)),\n",
    "                                             ('relu1', nn.ReLU(True)),\n",
    "                                             ('lin2', nn.Linear(80, 50)),\n",
    "                                             ('relu2', nn.ReLU(True)),\n",
    "                                             ('lin3', nn.Linear(50, 1))\n",
    "                                             ])\n",
    "                                )\n",
    "        \n",
    "    def forward(self, x):\n",
    "        return self.fc(x)"
   ]
  },
  {
   "cell_type": "code",
   "execution_count": 61,
   "id": "57411679-c2eb-477d-aa91-2b2a6261b1af",
   "metadata": {},
   "outputs": [
    {
     "data": {
      "text/plain": [
       "myFCN_OrderedDict(\n",
       "  (fc): Sequential(\n",
       "    (lin1): Linear(in_features=100, out_features=80, bias=True)\n",
       "    (relu1): ReLU(inplace=True)\n",
       "    (lin2): Linear(in_features=80, out_features=50, bias=True)\n",
       "    (relu2): ReLU(inplace=True)\n",
       "    (lin3): Linear(in_features=50, out_features=1, bias=True)\n",
       "  )\n",
       ")"
      ]
     },
     "execution_count": 61,
     "metadata": {},
     "output_type": "execute_result"
    }
   ],
   "source": [
    "my_model = myFCN_OrderedDict()\n",
    "my_model"
   ]
  },
  {
   "cell_type": "code",
   "execution_count": null,
   "id": "6604c2b4-0ce2-469d-8e1e-a25cca577663",
   "metadata": {},
   "outputs": [],
   "source": []
  }
 ],
 "metadata": {
  "kernelspec": {
   "display_name": "Python 3 (ipykernel)",
   "language": "python",
   "name": "python3"
  },
  "language_info": {
   "codemirror_mode": {
    "name": "ipython",
    "version": 3
   },
   "file_extension": ".py",
   "mimetype": "text/x-python",
   "name": "python",
   "nbconvert_exporter": "python",
   "pygments_lexer": "ipython3",
   "version": "3.9.12"
  }
 },
 "nbformat": 4,
 "nbformat_minor": 5
}
