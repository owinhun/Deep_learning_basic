{
 "cells": [
  {
   "cell_type": "code",
   "execution_count": 1,
   "id": "bea385d9-ebf9-4268-8274-f30882b01647",
   "metadata": {},
   "outputs": [],
   "source": [
    "import numpy as np\n",
    "import time"
   ]
  },
  {
   "cell_type": "code",
   "execution_count": 2,
   "id": "095c326d-c10b-4428-98a5-187bc8888438",
   "metadata": {},
   "outputs": [
    {
     "name": "stdout",
     "output_type": "stream",
     "text": [
      "c= -278.05907913659166\n",
      "matmul time=4.986763000488281ms\n",
      "cloop= -278.05907913659803\n",
      "loop time=28.345584869384766ms\n"
     ]
    }
   ],
   "source": [
    "n = 100000\n",
    "a = np.random.randn(n)\n",
    "b = np.random.randn(n)\n",
    "\n",
    "tic = time.time()\n",
    "c = np.matmul(a, b)\n",
    "toc = time.time()\n",
    "print('c=', c)\n",
    "print('matmul time=' + str(1000*(toc-tic)) + 'ms')\n",
    "\n",
    "cloop = 0\n",
    "tic = time.time()\n",
    "for i in range(n):\n",
    "    cloop += a[i]*b[i]\n",
    "toc = time.time()\n",
    "print('cloop=', cloop)\n",
    "print('loop time=' + str(1000*(toc-tic)) + 'ms')"
   ]
  },
  {
   "cell_type": "code",
   "execution_count": null,
   "id": "dafdeee4-8476-4e1e-813b-c47426abea48",
   "metadata": {},
   "outputs": [],
   "source": []
  },
  {
   "cell_type": "code",
   "execution_count": null,
   "id": "8d6e2178-f39c-415a-b39e-d54ab5f30a5c",
   "metadata": {},
   "outputs": [],
   "source": []
  }
 ],
 "metadata": {
  "kernelspec": {
   "display_name": "Python 3 (ipykernel)",
   "language": "python",
   "name": "python3"
  },
  "language_info": {
   "codemirror_mode": {
    "name": "ipython",
    "version": 3
   },
   "file_extension": ".py",
   "mimetype": "text/x-python",
   "name": "python",
   "nbconvert_exporter": "python",
   "pygments_lexer": "ipython3",
   "version": "3.9.12"
  }
 },
 "nbformat": 4,
 "nbformat_minor": 5
}
