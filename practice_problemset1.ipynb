{
 "cells": [
  {
   "cell_type": "markdown",
   "id": "1347cf07-7980-49d3-8ae7-5b26239f2ca6",
   "metadata": {},
   "source": [
    "## Numpy practice"
   ]
  },
  {
   "cell_type": "code",
   "execution_count": 1,
   "id": "f90162f9-779f-4f05-9cdc-d14c709e328b",
   "metadata": {},
   "outputs": [],
   "source": [
    "import numpy as np"
   ]
  },
  {
   "cell_type": "code",
   "execution_count": 2,
   "id": "a861db7b-85a4-4354-b7c6-95ceaf9bfcf1",
   "metadata": {},
   "outputs": [
    {
     "data": {
      "text/plain": [
       "array([1, 2, 3])"
      ]
     },
     "execution_count": 2,
     "metadata": {},
     "output_type": "execute_result"
    }
   ],
   "source": [
    "a = np.array([1, 2, 3]) # row 형태이 만들어짐\n",
    "a"
   ]
  },
  {
   "cell_type": "code",
   "execution_count": 3,
   "id": "0935dbb3-79e1-4483-a156-5b9ca98b83b5",
   "metadata": {},
   "outputs": [
    {
     "data": {
      "text/plain": [
       "dtype('int32')"
      ]
     },
     "execution_count": 3,
     "metadata": {},
     "output_type": "execute_result"
    }
   ],
   "source": [
    "a.dtype"
   ]
  },
  {
   "cell_type": "code",
   "execution_count": 4,
   "id": "28240fa8-694a-4bec-86a0-58978be790f2",
   "metadata": {},
   "outputs": [
    {
     "data": {
      "text/plain": [
       "(3,)"
      ]
     },
     "execution_count": 4,
     "metadata": {},
     "output_type": "execute_result"
    }
   ],
   "source": [
    "a.shape"
   ]
  },
  {
   "cell_type": "code",
   "execution_count": 5,
   "id": "2f165e9e-509b-4271-bcd9-f23aaddd532d",
   "metadata": {},
   "outputs": [],
   "source": [
    "A = [1, 'b', 'c']"
   ]
  },
  {
   "cell_type": "code",
   "execution_count": 6,
   "id": "ef9d0918-64dd-48fb-9d58-0bb4a066f41b",
   "metadata": {},
   "outputs": [],
   "source": [
    "B = [10, 20, 30, 40, 50, 60] # 0 1 2 3 4 5 인덱스"
   ]
  },
  {
   "cell_type": "code",
   "execution_count": 7,
   "id": "af081cd2-fa42-4329-a74a-3f81ba8990b0",
   "metadata": {},
   "outputs": [
    {
     "data": {
      "text/plain": [
       "[40, 50, 60]"
      ]
     },
     "execution_count": 7,
     "metadata": {},
     "output_type": "execute_result"
    }
   ],
   "source": [
    "B[3:6] # 인덱스 3번째부터 6번 전까지 40, 50, 60이 출력"
   ]
  },
  {
   "cell_type": "code",
   "execution_count": 8,
   "id": "bfee94bc-612d-4add-a4ff-ab233b2d732c",
   "metadata": {},
   "outputs": [
    {
     "data": {
      "text/plain": [
       "[40, 50, 60]"
      ]
     },
     "execution_count": 8,
     "metadata": {},
     "output_type": "execute_result"
    }
   ],
   "source": [
    "Blist = B[3:6] # B에서 인덱스 3번째부터 6번째 전까지를 Blist에 저장\n",
    "Blist"
   ]
  },
  {
   "cell_type": "code",
   "execution_count": 9,
   "id": "8a3be113-1b64-4674-ab20-7251ab0f2e4b",
   "metadata": {},
   "outputs": [
    {
     "data": {
      "text/plain": [
       "50"
      ]
     },
     "execution_count": 9,
     "metadata": {},
     "output_type": "execute_result"
    }
   ],
   "source": [
    "Blist[1] # Blist에서 1번째 인덱스에 있는 것을 가져옴\n",
    "# 다르게 말하면 Blist = B[3:6]이므로 B[4]값과 같음 \n",
    "# B[3] = 0번째 인덱스, B[4] = 1번째 인덱스, B[5] = 2번째 인덱스"
   ]
  },
  {
   "cell_type": "code",
   "execution_count": 10,
   "id": "c566af23-6535-4843-8016-dfb84bf0b705",
   "metadata": {},
   "outputs": [
    {
     "data": {
      "text/plain": [
       "50"
      ]
     },
     "execution_count": 10,
     "metadata": {},
     "output_type": "execute_result"
    }
   ],
   "source": [
    "B[4]"
   ]
  },
  {
   "cell_type": "code",
   "execution_count": 11,
   "id": "34e47552-5bdc-442e-aac9-23beae605afe",
   "metadata": {},
   "outputs": [
    {
     "data": {
      "text/plain": [
       "list"
      ]
     },
     "execution_count": 11,
     "metadata": {},
     "output_type": "execute_result"
    }
   ],
   "source": [
    "type(B[3:6])"
   ]
  },
  {
   "cell_type": "markdown",
   "id": "2f1da4cc-e6a1-4801-95c3-6ee16176e715",
   "metadata": {},
   "source": [
    "## List in List"
   ]
  },
  {
   "cell_type": "code",
   "execution_count": 12,
   "id": "b22a9b9b-fa7f-43bf-8915-8c6064991da0",
   "metadata": {},
   "outputs": [
    {
     "data": {
      "text/plain": [
       "[1, 2, 'c', [1, 3, 4]]"
      ]
     },
     "execution_count": 12,
     "metadata": {},
     "output_type": "execute_result"
    }
   ],
   "source": [
    "B = [1, 2, 'c', [1, 3, 4]]\n",
    "B"
   ]
  },
  {
   "cell_type": "code",
   "execution_count": 13,
   "id": "9c5fe046-181f-4fb2-a692-2501c411d728",
   "metadata": {},
   "outputs": [
    {
     "data": {
      "text/plain": [
       "[1, 3, 4]"
      ]
     },
     "execution_count": 13,
     "metadata": {},
     "output_type": "execute_result"
    }
   ],
   "source": [
    "B[3] # B에서 3번째 인덱스 값\n",
    "# B[0] = 1, B[1] = 2, B[2] = 'c', B[3] = [1, 3, 4]"
   ]
  },
  {
   "cell_type": "code",
   "execution_count": 14,
   "id": "375bf9b8-5518-40bb-975a-acf2f8dc90fe",
   "metadata": {},
   "outputs": [
    {
     "data": {
      "text/plain": [
       "3"
      ]
     },
     "execution_count": 14,
     "metadata": {},
     "output_type": "execute_result"
    }
   ],
   "source": [
    "B[3][1] # B의 3번째 인덱스에서 1번째 인덱스\n",
    "# B[3] = [1, 3, 4]\n",
    "# B[3][0] = [1], B[3][1] = [3], B[3][2] = [4]"
   ]
  },
  {
   "cell_type": "code",
   "execution_count": 15,
   "id": "8152c93d-2109-4ee8-a91d-67cffcdd15f4",
   "metadata": {},
   "outputs": [
    {
     "data": {
      "text/plain": [
       "list"
      ]
     },
     "execution_count": 15,
     "metadata": {},
     "output_type": "execute_result"
    }
   ],
   "source": [
    "type(B[3])"
   ]
  },
  {
   "cell_type": "code",
   "execution_count": 16,
   "id": "c5a3d6fa-7f5a-42a5-a6aa-f96f1373747d",
   "metadata": {},
   "outputs": [
    {
     "data": {
      "text/plain": [
       "[[1, 2, 3, 4], [3, [12, 4, 5, 65], 'c', 10], 'a']"
      ]
     },
     "execution_count": 16,
     "metadata": {},
     "output_type": "execute_result"
    }
   ],
   "source": [
    "C = [[1,2,3,4], [3, [12, 4, 5, 65], 'c', 10], 'a']\n",
    "C"
   ]
  },
  {
   "cell_type": "code",
   "execution_count": 17,
   "id": "f55cdee3-8377-40c1-baea-476b9b07d52d",
   "metadata": {},
   "outputs": [
    {
     "data": {
      "text/plain": [
       "[3, [12, 4, 5, 65], 'c', 10]"
      ]
     },
     "execution_count": 17,
     "metadata": {},
     "output_type": "execute_result"
    }
   ],
   "source": [
    "C[1]\n",
    "# C[0] = [1,2,3,4], C[1] = [3, [12,4,5,65], 'c', 10], C[2] = 'a'"
   ]
  },
  {
   "cell_type": "code",
   "execution_count": 18,
   "id": "9962c22a-8edb-4f3e-820e-457fe9601f07",
   "metadata": {},
   "outputs": [
    {
     "data": {
      "text/plain": [
       "[12, 4, 5, 65]"
      ]
     },
     "execution_count": 18,
     "metadata": {},
     "output_type": "execute_result"
    }
   ],
   "source": [
    "C[1][1]\n",
    "# C[1][0] = 3, C[1][1] = [12,4,5,65], C[1][2] = 'c', C[1][3] = 10,"
   ]
  },
  {
   "cell_type": "code",
   "execution_count": 19,
   "id": "b7309fe9-2d4b-42df-9c95-f28544e5b279",
   "metadata": {},
   "outputs": [
    {
     "data": {
      "text/plain": [
       "65"
      ]
     },
     "execution_count": 19,
     "metadata": {},
     "output_type": "execute_result"
    }
   ],
   "source": [
    "C[1][1][3]\n",
    "#C[1][1][0] = 12, C[1][1][1] = 4, C[1][1][2] = 5, C[1][1][3] = 65"
   ]
  },
  {
   "cell_type": "code",
   "execution_count": 20,
   "id": "3a81a7c5-cf9e-401f-aab8-56eeb913727a",
   "metadata": {},
   "outputs": [
    {
     "data": {
      "text/plain": [
       "75"
      ]
     },
     "execution_count": 20,
     "metadata": {},
     "output_type": "execute_result"
    }
   ],
   "source": [
    "C[1][1][3] + 10"
   ]
  },
  {
   "cell_type": "markdown",
   "id": "054783ab-cf2c-4263-aeb8-08850e15ebcd",
   "metadata": {},
   "source": [
    "## Vector의 표기 단위 차이"
   ]
  },
  {
   "cell_type": "code",
   "execution_count": 21,
   "id": "7418e68f-d461-4b15-84b0-72d422cf52aa",
   "metadata": {},
   "outputs": [
    {
     "data": {
      "text/plain": [
       "array([[5, 6, 8],\n",
       "       [6, 7, 4]])"
      ]
     },
     "execution_count": 21,
     "metadata": {},
     "output_type": "execute_result"
    }
   ],
   "source": [
    "X = np.array([[5, 6, 8], [6, 7, 4]])\n",
    "X"
   ]
  },
  {
   "cell_type": "code",
   "execution_count": 22,
   "id": "ff3a0921-9c87-4f40-8431-472461e4cb0b",
   "metadata": {},
   "outputs": [
    {
     "data": {
      "text/plain": [
       "2"
      ]
     },
     "execution_count": 22,
     "metadata": {},
     "output_type": "execute_result"
    }
   ],
   "source": [
    "X.ndim"
   ]
  },
  {
   "cell_type": "code",
   "execution_count": 23,
   "id": "025e04d6-c9ea-4a68-abf0-d842b2050f6c",
   "metadata": {},
   "outputs": [
    {
     "data": {
      "text/plain": [
       "dtype('int32')"
      ]
     },
     "execution_count": 23,
     "metadata": {},
     "output_type": "execute_result"
    }
   ],
   "source": [
    "X.dtype # dtype을 통해서 어떤 데이터 형태인지 알 수 있음"
   ]
  },
  {
   "cell_type": "code",
   "execution_count": 24,
   "id": "5053c38c-a290-4f84-bcaa-e19066496e13",
   "metadata": {},
   "outputs": [
    {
     "data": {
      "text/plain": [
       "numpy.ndarray"
      ]
     },
     "execution_count": 24,
     "metadata": {},
     "output_type": "execute_result"
    }
   ],
   "source": [
    "type(X) # numpy의 array임을 알 수 있음"
   ]
  },
  {
   "cell_type": "code",
   "execution_count": 25,
   "id": "77b03bc4-40eb-41f0-8201-cc35238797e4",
   "metadata": {},
   "outputs": [
    {
     "data": {
      "text/plain": [
       "array([5, 6, 7])"
      ]
     },
     "execution_count": 25,
     "metadata": {},
     "output_type": "execute_result"
    }
   ],
   "source": [
    "xr1 = np.array([5, 6, 7]) # row가 기준\n",
    "xr1"
   ]
  },
  {
   "cell_type": "code",
   "execution_count": 26,
   "id": "6d4bfaa0-9609-41ac-a64f-a048df064567",
   "metadata": {},
   "outputs": [
    {
     "data": {
      "text/plain": [
       "1"
      ]
     },
     "execution_count": 26,
     "metadata": {},
     "output_type": "execute_result"
    }
   ],
   "source": [
    "xr1.ndim # 차원의 수를 알 수 있음, 대괄호의 갯수를 세면 알 수 있음"
   ]
  },
  {
   "cell_type": "code",
   "execution_count": 27,
   "id": "4ea32836-9f4d-47a1-9d3f-91b2775f6937",
   "metadata": {},
   "outputs": [
    {
     "data": {
      "text/plain": [
       "array([[5, 6, 7]])"
      ]
     },
     "execution_count": 27,
     "metadata": {},
     "output_type": "execute_result"
    }
   ],
   "source": [
    "XR1 = np.array([[5, 6, 7]])\n",
    "XR1"
   ]
  },
  {
   "cell_type": "code",
   "execution_count": 28,
   "id": "1e7faf21-6b33-4a9f-a9df-a320a07ffba1",
   "metadata": {},
   "outputs": [
    {
     "data": {
      "text/plain": [
       "2"
      ]
     },
     "execution_count": 28,
     "metadata": {},
     "output_type": "execute_result"
    }
   ],
   "source": [
    "XR1.ndim"
   ]
  },
  {
   "cell_type": "code",
   "execution_count": 29,
   "id": "c694bf1d-0789-4ead-a193-c44518744f97",
   "metadata": {},
   "outputs": [
    {
     "data": {
      "text/plain": [
       "array([[5],\n",
       "       [6]])"
      ]
     },
     "execution_count": 29,
     "metadata": {},
     "output_type": "execute_result"
    }
   ],
   "source": [
    "X1 = np.array([[5], [6]]) # column vector로 보기 위해선 2차원으로\n",
    "X1"
   ]
  },
  {
   "cell_type": "code",
   "execution_count": 30,
   "id": "6bc638fa-41cb-41b9-bd6d-8af10115a79f",
   "metadata": {},
   "outputs": [
    {
     "data": {
      "text/plain": [
       "2"
      ]
     },
     "execution_count": 30,
     "metadata": {},
     "output_type": "execute_result"
    }
   ],
   "source": [
    "X1.ndim"
   ]
  },
  {
   "cell_type": "code",
   "execution_count": 31,
   "id": "1b4e9f12-107c-4247-a5a2-f06a61715a8d",
   "metadata": {},
   "outputs": [],
   "source": [
    "a = np.array([12, 3, 4])"
   ]
  },
  {
   "cell_type": "code",
   "execution_count": 32,
   "id": "d289038b-8a72-4dc3-a617-b41b23c205e3",
   "metadata": {},
   "outputs": [],
   "source": [
    "b = np.array([[12, 3, 4]])"
   ]
  },
  {
   "cell_type": "code",
   "execution_count": 33,
   "id": "a6dfc6e5-d508-4c42-8120-a30321e3f0d4",
   "metadata": {},
   "outputs": [
    {
     "data": {
      "text/plain": [
       "1"
      ]
     },
     "execution_count": 33,
     "metadata": {},
     "output_type": "execute_result"
    }
   ],
   "source": [
    "a.ndim"
   ]
  },
  {
   "cell_type": "code",
   "execution_count": 34,
   "id": "c9564eeb-8f94-4861-a7d2-ca9198b135d9",
   "metadata": {},
   "outputs": [
    {
     "data": {
      "text/plain": [
       "2"
      ]
     },
     "execution_count": 34,
     "metadata": {},
     "output_type": "execute_result"
    }
   ],
   "source": [
    "b.ndim"
   ]
  },
  {
   "cell_type": "code",
   "execution_count": 35,
   "id": "41175b79-532f-4975-9237-f1c3ccdda47f",
   "metadata": {},
   "outputs": [
    {
     "data": {
      "text/plain": [
       "array([[1],\n",
       "       [2],\n",
       "       [3]])"
      ]
     },
     "execution_count": 35,
     "metadata": {},
     "output_type": "execute_result"
    }
   ],
   "source": [
    "X = np.array([[1], [2], [3]])\n",
    "X"
   ]
  },
  {
   "cell_type": "code",
   "execution_count": 36,
   "id": "52928fcb-8842-412d-867d-686795cd6024",
   "metadata": {},
   "outputs": [
    {
     "data": {
      "text/plain": [
       "(3, 1)"
      ]
     },
     "execution_count": 36,
     "metadata": {},
     "output_type": "execute_result"
    }
   ],
   "source": [
    "X.shape"
   ]
  },
  {
   "cell_type": "code",
   "execution_count": 37,
   "id": "4ea20cd7-3116-40c9-a353-6fbc620803be",
   "metadata": {},
   "outputs": [
    {
     "data": {
      "text/plain": [
       "array([[1., 2., 3.],\n",
       "       [4., 5., 6.]])"
      ]
     },
     "execution_count": 37,
     "metadata": {},
     "output_type": "execute_result"
    }
   ],
   "source": [
    "X = np.array([[1., 2., 3.],\n",
    "             [4., 5., 6.,]])\n",
    "X"
   ]
  },
  {
   "cell_type": "code",
   "execution_count": 38,
   "id": "e6e318a0-caa7-4851-b6c7-76c5f6bc2db8",
   "metadata": {},
   "outputs": [
    {
     "data": {
      "text/plain": [
       "(2, 3)"
      ]
     },
     "execution_count": 38,
     "metadata": {},
     "output_type": "execute_result"
    }
   ],
   "source": [
    "X.shape # X의 행렬이 column : 2, row : 3 임"
   ]
  },
  {
   "cell_type": "code",
   "execution_count": 39,
   "id": "d810a469-c27c-45ed-8f53-67cc8daa99b8",
   "metadata": {},
   "outputs": [
    {
     "data": {
      "text/plain": [
       "array([[1., 4.],\n",
       "       [2., 5.],\n",
       "       [3., 6.]])"
      ]
     },
     "execution_count": 39,
     "metadata": {},
     "output_type": "execute_result"
    }
   ],
   "source": [
    "X.T # 행렬 X를 전치 전치는 대각선을 기준으로 뒤집음"
   ]
  },
  {
   "cell_type": "code",
   "execution_count": 40,
   "id": "8098de42-8697-48ff-a9ba-176c19430924",
   "metadata": {},
   "outputs": [
    {
     "data": {
      "text/plain": [
       "array([[1., 2.],\n",
       "       [3., 4.],\n",
       "       [5., 6.]])"
      ]
     },
     "execution_count": 40,
     "metadata": {},
     "output_type": "execute_result"
    }
   ],
   "source": [
    "X.reshape(3, 2) # 행렬이 column : 2, row : 3에서 colunm : 3, row : 2로 바뀜을 알 수 있음\n",
    "# reshape은 행렬의 형태를 바꾸어줌"
   ]
  },
  {
   "cell_type": "code",
   "execution_count": 41,
   "id": "ca39d84d-e3f0-421c-8eaf-9423c6f4fb8b",
   "metadata": {},
   "outputs": [
    {
     "data": {
      "text/plain": [
       "array([[1., 2., 3., 4., 5., 6.]])"
      ]
     },
     "execution_count": 41,
     "metadata": {},
     "output_type": "execute_result"
    }
   ],
   "source": [
    "X.reshape(1, 6) # column : 1, row : 6"
   ]
  },
  {
   "cell_type": "code",
   "execution_count": 42,
   "id": "e813b369-a713-486d-9ff8-678017e98dbf",
   "metadata": {},
   "outputs": [
    {
     "data": {
      "text/plain": [
       "array([[1., 2., 3., 4., 5., 6.]])"
      ]
     },
     "execution_count": 42,
     "metadata": {},
     "output_type": "execute_result"
    }
   ],
   "source": [
    "X.reshape(1, -1) # 위에와 결과가 같은 것으로 보아 -1의 역할은 차원을 자동으로 맞추어줌"
   ]
  },
  {
   "cell_type": "code",
   "execution_count": 43,
   "id": "bdf57cfe-bf03-48bd-890b-3aff700c1e04",
   "metadata": {},
   "outputs": [
    {
     "data": {
      "text/plain": [
       "array([[1.],\n",
       "       [2.],\n",
       "       [3.],\n",
       "       [4.],\n",
       "       [5.],\n",
       "       [6.]])"
      ]
     },
     "execution_count": 43,
     "metadata": {},
     "output_type": "execute_result"
    }
   ],
   "source": [
    "A = X.reshape(6, 1)\n",
    "A"
   ]
  },
  {
   "cell_type": "code",
   "execution_count": 44,
   "id": "9d60fba6-12d8-4047-ba6a-5f5a4da4ebb0",
   "metadata": {},
   "outputs": [
    {
     "data": {
      "text/plain": [
       "array([[1., 2., 3.],\n",
       "       [4., 5., 6.]])"
      ]
     },
     "execution_count": 44,
     "metadata": {},
     "output_type": "execute_result"
    }
   ],
   "source": [
    "X # 위에 바꾼 shape을 보존하려면 다른 변수에 저장을 해야된다."
   ]
  },
  {
   "cell_type": "code",
   "execution_count": 45,
   "id": "7883d406-d699-4442-b082-671ad5b5ad94",
   "metadata": {},
   "outputs": [
    {
     "data": {
      "text/plain": [
       "array([1, 2, 3])"
      ]
     },
     "execution_count": 45,
     "metadata": {},
     "output_type": "execute_result"
    }
   ],
   "source": [
    "a = np.array([1,2,3])\n",
    "a"
   ]
  },
  {
   "cell_type": "code",
   "execution_count": 46,
   "id": "da59c5c1-8d8d-4458-81c6-8d21230c5208",
   "metadata": {},
   "outputs": [
    {
     "data": {
      "text/plain": [
       "array([1, 2, 3])"
      ]
     },
     "execution_count": 46,
     "metadata": {},
     "output_type": "execute_result"
    }
   ],
   "source": [
    "a.T"
   ]
  },
  {
   "cell_type": "code",
   "execution_count": 47,
   "id": "5b6a3c09-33fe-4844-8001-dd964a4cc004",
   "metadata": {},
   "outputs": [
    {
     "data": {
      "text/plain": [
       "1"
      ]
     },
     "execution_count": 47,
     "metadata": {},
     "output_type": "execute_result"
    }
   ],
   "source": [
    "a.T.ndim"
   ]
  },
  {
   "cell_type": "code",
   "execution_count": 48,
   "id": "1e12ed68-d254-47db-8a83-e601532c9397",
   "metadata": {},
   "outputs": [
    {
     "data": {
      "text/plain": [
       "array([[1, 2, 3]])"
      ]
     },
     "execution_count": 48,
     "metadata": {},
     "output_type": "execute_result"
    }
   ],
   "source": [
    "b = np.array([[1,2,3]])\n",
    "b"
   ]
  },
  {
   "cell_type": "code",
   "execution_count": 49,
   "id": "1e0e2cca-afdb-4896-93d0-02e3d061e0a7",
   "metadata": {},
   "outputs": [
    {
     "data": {
      "text/plain": [
       "array([[1],\n",
       "       [2],\n",
       "       [3]])"
      ]
     },
     "execution_count": 49,
     "metadata": {},
     "output_type": "execute_result"
    }
   ],
   "source": [
    "b.T # 위의 전치에서는 변하지 않는데 아래의 전치에서는 변함을 볼 수 있음\n",
    "# 그 이유는 위의 a는 1차원이고, 아래의 b는 2차원임을 알 수 있음\n",
    "# 교수님이 주의 해야된다고 영상에서 말씀해주심"
   ]
  },
  {
   "cell_type": "code",
   "execution_count": 50,
   "id": "8ff39a65-4530-44eb-b1aa-f312287e2591",
   "metadata": {},
   "outputs": [
    {
     "data": {
      "text/plain": [
       "2"
      ]
     },
     "execution_count": 50,
     "metadata": {},
     "output_type": "execute_result"
    }
   ],
   "source": [
    "b.T.ndim"
   ]
  },
  {
   "cell_type": "code",
   "execution_count": 51,
   "id": "b9c33bfa-34f6-4098-a6bf-b96dc7b15062",
   "metadata": {},
   "outputs": [
    {
     "name": "stdout",
     "output_type": "stream",
     "text": [
      "x1 =  [[5]\n",
      " [6]\n",
      " [8]]\n",
      "x2 =  [[6]\n",
      " [7]\n",
      " [5]]\n"
     ]
    }
   ],
   "source": [
    "x1 = np.array([[5], [6], [8]])\n",
    "x2 = np.array([[6], [7], [5]])\n",
    "print('x1 = ', x1)\n",
    "print('x2 = ', x2)"
   ]
  },
  {
   "cell_type": "code",
   "execution_count": 52,
   "id": "8c772bae-f906-452c-a99e-60121b1097e0",
   "metadata": {},
   "outputs": [
    {
     "data": {
      "text/plain": [
       "(3, 1)"
      ]
     },
     "execution_count": 52,
     "metadata": {},
     "output_type": "execute_result"
    }
   ],
   "source": [
    "x1.shape"
   ]
  },
  {
   "cell_type": "code",
   "execution_count": 53,
   "id": "89faed24-f96f-4f10-9869-81d4049f54eb",
   "metadata": {},
   "outputs": [
    {
     "data": {
      "text/plain": [
       "(3, 1)"
      ]
     },
     "execution_count": 53,
     "metadata": {},
     "output_type": "execute_result"
    }
   ],
   "source": [
    "x2.shape"
   ]
  },
  {
   "cell_type": "code",
   "execution_count": 54,
   "id": "a3e39038-eb0f-4547-98d8-36d16b5e47a8",
   "metadata": {},
   "outputs": [
    {
     "name": "stdout",
     "output_type": "stream",
     "text": [
      "x1T =  [[5 6 8]]\n",
      "x2T =  [[6 7 5]]\n"
     ]
    }
   ],
   "source": [
    "x1T = x1.T\n",
    "x2T = x2.T\n",
    "print('x1T = ', x1T)\n",
    "print('x2T = ', x2T)"
   ]
  },
  {
   "cell_type": "code",
   "execution_count": 55,
   "id": "558b88df-7ba6-4231-8e89-a4bb3c963cab",
   "metadata": {},
   "outputs": [
    {
     "name": "stdout",
     "output_type": "stream",
     "text": [
      "x1TT =  [[5 6 8]]\n",
      "x2TT =  [[6 7 5]]\n"
     ]
    }
   ],
   "source": [
    "x1TT = x1.reshape(1, 3) # reshape을 통해서 column 3, row 1을 column 1, row 3으로 바꿔줌\n",
    "x2TT = x2.reshape(1, 3)\n",
    "print('x1TT = ', x1TT)\n",
    "print('x2TT = ', x2TT)\n",
    "\n",
    "# 위에 전치 시킨거랑 결과가 같음을 알 수 있음"
   ]
  },
  {
   "cell_type": "code",
   "execution_count": 56,
   "id": "f6bc4ac1-2c5a-4b73-8b84-7e56cc439e9e",
   "metadata": {},
   "outputs": [
    {
     "data": {
      "text/plain": [
       "array([[5, 6, 8],\n",
       "       [6, 7, 5]])"
      ]
     },
     "execution_count": 56,
     "metadata": {},
     "output_type": "execute_result"
    }
   ],
   "source": [
    "X = np.vstack([x1T, x2T]) # vstack : 수직으로 쌓음\n",
    "X"
   ]
  },
  {
   "cell_type": "code",
   "execution_count": 57,
   "id": "9fb94df5-027d-4ce4-ab90-53eb9b665f08",
   "metadata": {},
   "outputs": [
    {
     "data": {
      "text/plain": [
       "array([[5, 6, 8, 6, 7, 5]])"
      ]
     },
     "execution_count": 57,
     "metadata": {},
     "output_type": "execute_result"
    }
   ],
   "source": [
    "Xhstack = np.hstack([x1T, x2T]) # hstack : 수평으로 쌓음\n",
    "Xhstack"
   ]
  },
  {
   "cell_type": "code",
   "execution_count": 58,
   "id": "6fb039fe-519a-4a90-8c1a-e57e76c1cebc",
   "metadata": {},
   "outputs": [
    {
     "data": {
      "text/plain": [
       "array([[5, 6],\n",
       "       [6, 7],\n",
       "       [8, 5]])"
      ]
     },
     "execution_count": 58,
     "metadata": {},
     "output_type": "execute_result"
    }
   ],
   "source": [
    "Xhstack2 = np.hstack([x1, x2]) # hstack : 수평으로 쌓음\n",
    "Xhstack2"
   ]
  },
  {
   "cell_type": "code",
   "execution_count": 59,
   "id": "58f5dc0b-5716-433b-a60a-91fc444126e9",
   "metadata": {},
   "outputs": [
    {
     "data": {
      "text/plain": [
       "array([[1., 1., 1.],\n",
       "       [1., 1., 1.]])"
      ]
     },
     "execution_count": 59,
     "metadata": {},
     "output_type": "execute_result"
    }
   ],
   "source": [
    "onevec = np.ones((2, 3)) # 1로 채워진 column 2, row 3의 형태의 행렬을 만듦\n",
    "onevec\n",
    "\n",
    "# 주의 : 튜플 형태로 들어가야된다."
   ]
  },
  {
   "cell_type": "code",
   "execution_count": 60,
   "id": "868241eb-f358-4d6d-bee0-2374657da649",
   "metadata": {},
   "outputs": [
    {
     "data": {
      "text/plain": [
       "array([[0., 0., 0.],\n",
       "       [0., 0., 0.],\n",
       "       [0., 0., 0.]])"
      ]
     },
     "execution_count": 60,
     "metadata": {},
     "output_type": "execute_result"
    }
   ],
   "source": [
    "zerovec = np.zeros((3, 3)) # 0으로 채워진 column 3, row 3의 형태의 행렬을 만듦\n",
    "zerovec"
   ]
  },
  {
   "cell_type": "code",
   "execution_count": 61,
   "id": "f9e7bbec-263f-44c7-b52c-5616e7d5c7c6",
   "metadata": {},
   "outputs": [
    {
     "data": {
      "text/plain": [
       "array([0, 1, 2, 3, 4, 5, 6, 7, 8, 9])"
      ]
     },
     "execution_count": 61,
     "metadata": {},
     "output_type": "execute_result"
    }
   ],
   "source": [
    "np.arange(0, 10) # 0이상, 10미만"
   ]
  },
  {
   "cell_type": "code",
   "execution_count": 62,
   "id": "0ae57e69-297d-48a3-a174-273a37af60f8",
   "metadata": {},
   "outputs": [
    {
     "name": "stdout",
     "output_type": "stream",
     "text": [
      "0\n",
      "1\n",
      "2\n"
     ]
    }
   ],
   "source": [
    "for i in np.arange(3):\n",
    "    print(i)"
   ]
  },
  {
   "cell_type": "code",
   "execution_count": 63,
   "id": "c4910754-1cdc-45f8-a4fb-501618ba4c1c",
   "metadata": {},
   "outputs": [
    {
     "data": {
      "text/plain": [
       "array([0.        , 0.26315789, 0.52631579, 0.78947368, 1.05263158,\n",
       "       1.31578947, 1.57894737, 1.84210526, 2.10526316, 2.36842105,\n",
       "       2.63157895, 2.89473684, 3.15789474, 3.42105263, 3.68421053,\n",
       "       3.94736842, 4.21052632, 4.47368421, 4.73684211, 5.        ])"
      ]
     },
     "execution_count": 63,
     "metadata": {},
     "output_type": "execute_result"
    }
   ],
   "source": [
    "np.linspace(0, 5, 20) # 0부터 5까지 20개로 일정하게 나누는 것을 볼 수 있음"
   ]
  },
  {
   "cell_type": "code",
   "execution_count": 64,
   "id": "9399d8fd-fded-42a9-97ee-ed8dac967023",
   "metadata": {},
   "outputs": [
    {
     "data": {
      "text/plain": [
       "array([[-0.18177772, -1.19380457,  0.49684363,  0.4259922 , -0.1406862 ,\n",
       "        -0.59549454, -0.17057691,  1.25722032, -2.41686656,  0.60918795]])"
      ]
     },
     "execution_count": 64,
     "metadata": {},
     "output_type": "execute_result"
    }
   ],
   "source": [
    "d = np.random.randn(1, 10)\n",
    "d\n",
    "\n",
    "# 평균 0, 표준편차 1의 가우시안 정규분포"
   ]
  },
  {
   "cell_type": "code",
   "execution_count": 65,
   "id": "3cb14077-90e3-4835-bd7e-2da9d9d28502",
   "metadata": {},
   "outputs": [
    {
     "data": {
      "text/plain": [
       "array([[ 1.98208621, -4.68514829,  1.92166064, -1.71161245,  0.09021027,\n",
       "        -3.4509672 , -3.38319638,  0.64904326, -1.29308369, -0.42825636]])"
      ]
     },
     "execution_count": 65,
     "metadata": {},
     "output_type": "execute_result"
    }
   ],
   "source": [
    "d1 = 2*np.random.randn(1, 10)\n",
    "d1"
   ]
  },
  {
   "cell_type": "code",
   "execution_count": 66,
   "id": "d5dd64fa-9a4e-4982-b98d-8081e287aa65",
   "metadata": {},
   "outputs": [
    {
     "data": {
      "text/plain": [
       "array([[-1.16141967, -2.43566644, -3.84526889, -2.80834101, -0.72951184,\n",
       "         1.8613768 , -4.19721403, -1.28863086, -4.98491979, -0.03037973]])"
      ]
     },
     "execution_count": 66,
     "metadata": {},
     "output_type": "execute_result"
    }
   ],
   "source": [
    "d2 = 2*np.random.randn(1, 10) - 2\n",
    "d2"
   ]
  },
  {
   "cell_type": "code",
   "execution_count": 67,
   "id": "b7ef5e12-4846-49fa-a273-8e5b46e7e027",
   "metadata": {},
   "outputs": [
    {
     "data": {
      "text/plain": [
       "array([[ 1.43759715, -0.15230799, -0.32679422,  1.29508715],\n",
       "       [ 1.42598196, -0.66820649,  1.03584279, -0.39686024],\n",
       "       [-0.66925359,  0.4114331 , -2.01318983,  0.12470125]])"
      ]
     },
     "execution_count": 67,
     "metadata": {},
     "output_type": "execute_result"
    }
   ],
   "source": [
    "e = np.random.randn(3, 4) # column 3, row 4 짜리 행렬\n",
    "e"
   ]
  },
  {
   "cell_type": "markdown",
   "id": "bae2fd16-fbbc-41c6-b979-131b20b91056",
   "metadata": {},
   "source": [
    "## squeeze() : 차원축소"
   ]
  },
  {
   "cell_type": "code",
   "execution_count": 68,
   "id": "679d78bf-ec66-4d99-b1e9-c709866fea93",
   "metadata": {},
   "outputs": [
    {
     "data": {
      "text/plain": [
       "array([[[1, 2, 3, 4]]])"
      ]
     },
     "execution_count": 68,
     "metadata": {},
     "output_type": "execute_result"
    }
   ],
   "source": [
    "f = np.array([[[1,2,3,4]]])\n",
    "f"
   ]
  },
  {
   "cell_type": "code",
   "execution_count": 69,
   "id": "f4a365b7-0245-44ff-abbf-1aa6fc1716d8",
   "metadata": {},
   "outputs": [
    {
     "data": {
      "text/plain": [
       "3"
      ]
     },
     "execution_count": 69,
     "metadata": {},
     "output_type": "execute_result"
    }
   ],
   "source": [
    "f.ndim"
   ]
  },
  {
   "cell_type": "code",
   "execution_count": 70,
   "id": "a362fd0e-6244-44ba-89ac-8123ee119168",
   "metadata": {},
   "outputs": [
    {
     "data": {
      "text/plain": [
       "(1, 1, 4)"
      ]
     },
     "execution_count": 70,
     "metadata": {},
     "output_type": "execute_result"
    }
   ],
   "source": [
    "f.shape"
   ]
  },
  {
   "cell_type": "code",
   "execution_count": 71,
   "id": "bc2b3aa1-1755-43ff-a191-8e80e4f1e351",
   "metadata": {},
   "outputs": [
    {
     "data": {
      "text/plain": [
       "array([1, 2, 3, 4])"
      ]
     },
     "execution_count": 71,
     "metadata": {},
     "output_type": "execute_result"
    }
   ],
   "source": [
    "f.squeeze() # 위에서 보면 차원이 3치원임을 알 수 있음, squeeze를 통해서 차원을 축소함"
   ]
  },
  {
   "cell_type": "code",
   "execution_count": 72,
   "id": "b6f2d392-ac90-4c40-a452-7a621d85bb93",
   "metadata": {},
   "outputs": [
    {
     "data": {
      "text/plain": [
       "1"
      ]
     },
     "execution_count": 72,
     "metadata": {},
     "output_type": "execute_result"
    }
   ],
   "source": [
    "f.squeeze().ndim"
   ]
  },
  {
   "cell_type": "code",
   "execution_count": 73,
   "id": "f50636b3-7dd7-4008-b550-b15ebaf27fd7",
   "metadata": {},
   "outputs": [
    {
     "data": {
      "text/plain": [
       "(4,)"
      ]
     },
     "execution_count": 73,
     "metadata": {},
     "output_type": "execute_result"
    }
   ],
   "source": [
    "f.squeeze().shape"
   ]
  },
  {
   "cell_type": "markdown",
   "id": "616caaed-93ed-4b35-9866-8c5a0e6dfad6",
   "metadata": {},
   "source": [
    "## Matrix multiplication"
   ]
  },
  {
   "cell_type": "code",
   "execution_count": 74,
   "id": "475f0b00-7711-4526-abf9-dbe4ebf91411",
   "metadata": {},
   "outputs": [
    {
     "data": {
      "text/plain": [
       "array([0, 1, 2, 3, 4, 5])"
      ]
     },
     "execution_count": 74,
     "metadata": {},
     "output_type": "execute_result"
    }
   ],
   "source": [
    "A = np.arange(0, 6) # 0부터 6미만까지 0 1 2 3 4 5 column 1, row 6\n",
    "A"
   ]
  },
  {
   "cell_type": "code",
   "execution_count": 75,
   "id": "7aeed773-1812-435d-a3bc-cbe168885060",
   "metadata": {},
   "outputs": [
    {
     "data": {
      "text/plain": [
       "array([[0, 1],\n",
       "       [2, 3],\n",
       "       [4, 5]])"
      ]
     },
     "execution_count": 75,
     "metadata": {},
     "output_type": "execute_result"
    }
   ],
   "source": [
    "A = np.arange(0, 6).reshape(3, 2) # column 3, row 2\n",
    "A"
   ]
  },
  {
   "cell_type": "code",
   "execution_count": 76,
   "id": "44faec5d-1bd4-4856-bf61-ed9d2f9cee98",
   "metadata": {},
   "outputs": [
    {
     "data": {
      "text/plain": [
       "(3, 2)"
      ]
     },
     "execution_count": 76,
     "metadata": {},
     "output_type": "execute_result"
    }
   ],
   "source": [
    "A.shape"
   ]
  },
  {
   "cell_type": "code",
   "execution_count": 77,
   "id": "13c2d4d4-691f-4152-a368-8d82dabef5fb",
   "metadata": {},
   "outputs": [
    {
     "data": {
      "text/plain": [
       "array([[ 2.6423238 ,  0.02362909, -0.99881005,  0.40071092],\n",
       "       [ 0.33731274,  1.46532794, -0.46240933, -0.51013436],\n",
       "       [-0.69942378, -0.49781885,  0.98773484,  0.40664097]])"
      ]
     },
     "execution_count": 77,
     "metadata": {},
     "output_type": "execute_result"
    }
   ],
   "source": [
    "B = np.random.randn(3, 4)\n",
    "B"
   ]
  },
  {
   "cell_type": "code",
   "execution_count": 78,
   "id": "904f201b-526c-48fc-9167-e746e3d756cf",
   "metadata": {},
   "outputs": [
    {
     "data": {
      "text/plain": [
       "(3, 4)"
      ]
     },
     "execution_count": 78,
     "metadata": {},
     "output_type": "execute_result"
    }
   ],
   "source": [
    "B.shape"
   ]
  },
  {
   "cell_type": "code",
   "execution_count": 79,
   "id": "bd65b03d-e9bc-4a25-bb35-1fc654a5a0f3",
   "metadata": {},
   "outputs": [
    {
     "data": {
      "text/plain": [
       "array([[0, 1],\n",
       "       [2, 3],\n",
       "       [4, 5]])"
      ]
     },
     "execution_count": 79,
     "metadata": {},
     "output_type": "execute_result"
    }
   ],
   "source": [
    "A"
   ]
  },
  {
   "cell_type": "code",
   "execution_count": 80,
   "id": "cb282a07-7eee-4404-8a8a-0494f73b3570",
   "metadata": {},
   "outputs": [
    {
     "data": {
      "text/plain": [
       "1"
      ]
     },
     "execution_count": 80,
     "metadata": {},
     "output_type": "execute_result"
    }
   ],
   "source": [
    "A[0,1]"
   ]
  },
  {
   "cell_type": "code",
   "execution_count": 81,
   "id": "3c984899-4f47-4e23-b4bb-8c7504a192e7",
   "metadata": {},
   "outputs": [
    {
     "data": {
      "text/plain": [
       "1"
      ]
     },
     "execution_count": 81,
     "metadata": {},
     "output_type": "execute_result"
    }
   ],
   "source": [
    "A[0][1]\n",
    "# 위에 와 같은 결과임을 볼 수 있음"
   ]
  },
  {
   "cell_type": "code",
   "execution_count": 82,
   "id": "cae7f728-cc93-404f-a8fe-728a69f1c3b3",
   "metadata": {},
   "outputs": [
    {
     "data": {
      "text/plain": [
       "5"
      ]
     },
     "execution_count": 82,
     "metadata": {},
     "output_type": "execute_result"
    }
   ],
   "source": [
    "A[2, 1]"
   ]
  },
  {
   "cell_type": "code",
   "execution_count": 83,
   "id": "b86b9a90-53a1-4c10-9f6c-4cdd3f1d344a",
   "metadata": {},
   "outputs": [
    {
     "data": {
      "text/plain": [
       "array([0, 2, 4])"
      ]
     },
     "execution_count": 83,
     "metadata": {},
     "output_type": "execute_result"
    }
   ],
   "source": [
    "a1 = A[:, 0] # 첫 column의 모든 것을 가져옴\n",
    "a1"
   ]
  },
  {
   "cell_type": "code",
   "execution_count": 84,
   "id": "ba39e367-f39f-4d4f-b7a5-94ee0bfa4256",
   "metadata": {},
   "outputs": [
    {
     "data": {
      "text/plain": [
       "1"
      ]
     },
     "execution_count": 84,
     "metadata": {},
     "output_type": "execute_result"
    }
   ],
   "source": [
    "a1.ndim # 1차원임을 볼 수 있음"
   ]
  },
  {
   "cell_type": "code",
   "execution_count": 85,
   "id": "96cd73f0-7203-4dc4-b157-e0ea4e1c646a",
   "metadata": {},
   "outputs": [
    {
     "data": {
      "text/plain": [
       "array([[0],\n",
       "       [2],\n",
       "       [4]])"
      ]
     },
     "execution_count": 85,
     "metadata": {},
     "output_type": "execute_result"
    }
   ],
   "source": [
    "a2 = A[:, 0].reshape(-1, 1) # reshape에서 -1을 통해서 맞는 차원을 잡아줌\n",
    "a2"
   ]
  },
  {
   "cell_type": "code",
   "execution_count": 86,
   "id": "8eb452f2-7694-4aa2-89ea-729e70993556",
   "metadata": {},
   "outputs": [
    {
     "data": {
      "text/plain": [
       "2"
      ]
     },
     "execution_count": 86,
     "metadata": {},
     "output_type": "execute_result"
    }
   ],
   "source": [
    "a2.ndim # column vector로 만들기 위해서 차원이 2로 바뀜"
   ]
  },
  {
   "cell_type": "code",
   "execution_count": 87,
   "id": "de64e2d1-25bb-4b69-8247-8d8cd23bb534",
   "metadata": {},
   "outputs": [
    {
     "data": {
      "text/plain": [
       "array([[ 2.6423238 ,  0.02362909, -0.99881005,  0.40071092],\n",
       "       [ 0.33731274,  1.46532794, -0.46240933, -0.51013436],\n",
       "       [-0.69942378, -0.49781885,  0.98773484,  0.40664097]])"
      ]
     },
     "execution_count": 87,
     "metadata": {},
     "output_type": "execute_result"
    }
   ],
   "source": [
    "B"
   ]
  },
  {
   "cell_type": "code",
   "execution_count": 88,
   "id": "62703d1e-cb00-498f-9435-06ec2db5ee8e",
   "metadata": {},
   "outputs": [
    {
     "data": {
      "text/plain": [
       "array([[ 0.02362909],\n",
       "       [ 1.46532794],\n",
       "       [-0.49781885]])"
      ]
     },
     "execution_count": 88,
     "metadata": {},
     "output_type": "execute_result"
    }
   ],
   "source": [
    "b2 = B[:, 1].reshape(-1, 1)\n",
    "b2"
   ]
  },
  {
   "cell_type": "code",
   "execution_count": 90,
   "id": "8d70bcbe-622b-4890-8a53-670081fd0cd8",
   "metadata": {},
   "outputs": [
    {
     "name": "stdout",
     "output_type": "stream",
     "text": [
      "[0.93938047]\n"
     ]
    }
   ],
   "source": [
    "C = np.matmul(a1.T, b2)\n",
    "print(C)"
   ]
  },
  {
   "cell_type": "code",
   "execution_count": 91,
   "id": "b6f70ccf-c775-44c3-a8ec-b09e2480da27",
   "metadata": {},
   "outputs": [
    {
     "data": {
      "text/plain": [
       "(1,)"
      ]
     },
     "execution_count": 91,
     "metadata": {},
     "output_type": "execute_result"
    }
   ],
   "source": [
    "C.shape"
   ]
  },
  {
   "cell_type": "code",
   "execution_count": 92,
   "id": "65200121-a5a1-4380-9029-0ce4abb2c1f8",
   "metadata": {},
   "outputs": [
    {
     "data": {
      "text/plain": [
       "array([0., 2., 4., 6.])"
      ]
     },
     "execution_count": 92,
     "metadata": {},
     "output_type": "execute_result"
    }
   ],
   "source": [
    "a = np.linspace(0, 6, 4) # 0부터 6까지 4개로 나눠라\n",
    "a"
   ]
  },
  {
   "cell_type": "code",
   "execution_count": 95,
   "id": "a49bf6ee-7b66-48e1-93d8-1b85f272f801",
   "metadata": {},
   "outputs": [
    {
     "data": {
      "text/plain": [
       "array([[0., 2., 4., 6.]])"
      ]
     },
     "execution_count": 95,
     "metadata": {},
     "output_type": "execute_result"
    }
   ],
   "source": [
    "a = np.linspace(0, 6, 4).reshape(1, 4)\n",
    "a"
   ]
  },
  {
   "cell_type": "code",
   "execution_count": 96,
   "id": "0a2e3496-2594-41ae-8bd8-bd6281f10c0d",
   "metadata": {},
   "outputs": [
    {
     "data": {
      "text/plain": [
       "array([[1.],\n",
       "       [1.],\n",
       "       [1.],\n",
       "       [1.]])"
      ]
     },
     "execution_count": 96,
     "metadata": {},
     "output_type": "execute_result"
    }
   ],
   "source": [
    "b = np.ones((4, 1)) # 항상 주의 : 튜플 형태로 넣기\n",
    "b"
   ]
  },
  {
   "cell_type": "code",
   "execution_count": 97,
   "id": "5359883d-d769-4d5b-9906-4bacfae11560",
   "metadata": {},
   "outputs": [
    {
     "data": {
      "text/plain": [
       "array([[12.]])"
      ]
     },
     "execution_count": 97,
     "metadata": {},
     "output_type": "execute_result"
    }
   ],
   "source": [
    "np.matmul(a, b)"
   ]
  },
  {
   "cell_type": "code",
   "execution_count": 98,
   "id": "e145c230-224a-4109-bbde-5111297bbc25",
   "metadata": {},
   "outputs": [
    {
     "data": {
      "text/plain": [
       "array([12.])"
      ]
     },
     "execution_count": 98,
     "metadata": {},
     "output_type": "execute_result"
    }
   ],
   "source": [
    "np.matmul(a, b)[0]"
   ]
  },
  {
   "cell_type": "code",
   "execution_count": 99,
   "id": "fdfc659f-f1c5-4348-81ba-bf3ecb1acd40",
   "metadata": {},
   "outputs": [
    {
     "data": {
      "text/plain": [
       "12.0"
      ]
     },
     "execution_count": 99,
     "metadata": {},
     "output_type": "execute_result"
    }
   ],
   "source": [
    "np.matmul(a, b)[0][0]"
   ]
  },
  {
   "cell_type": "code",
   "execution_count": 100,
   "id": "2f747a7f-b8b6-4556-a146-322452f0985f",
   "metadata": {},
   "outputs": [
    {
     "data": {
      "text/plain": [
       "array([[ 0.40650095, -0.33816965, -0.66709436],\n",
       "       [ 0.94080731,  0.14555945,  0.25575788],\n",
       "       [ 1.09022962,  0.71960643,  1.3977588 ]])"
      ]
     },
     "execution_count": 100,
     "metadata": {},
     "output_type": "execute_result"
    }
   ],
   "source": [
    "D = np.random.randn(3, 3)\n",
    "D"
   ]
  },
  {
   "cell_type": "code",
   "execution_count": 101,
   "id": "3c6a5902-671a-498a-bf9c-bb42cfc9f251",
   "metadata": {},
   "outputs": [
    {
     "data": {
      "text/plain": [
       "array([[-0.94112792,  1.13522862,  0.22568251],\n",
       "       [ 1.65389035,  0.14220253, -2.36050334],\n",
       "       [ 0.33007444, -0.39869122, -1.54702849]])"
      ]
     },
     "execution_count": 101,
     "metadata": {},
     "output_type": "execute_result"
    }
   ],
   "source": [
    "E = np.random.randn(3, 3)\n",
    "E"
   ]
  },
  {
   "cell_type": "code",
   "execution_count": 102,
   "id": "19217199-9f7b-445b-be9a-e88d27470d3b",
   "metadata": {},
   "outputs": [
    {
     "data": {
      "text/plain": [
       "array([[-0.53462697,  0.79705897, -0.44141185],\n",
       "       [ 2.59469766,  0.28776199, -2.10474546],\n",
       "       [ 1.42030407,  0.32091521, -0.14926969]])"
      ]
     },
     "execution_count": 102,
     "metadata": {},
     "output_type": "execute_result"
    }
   ],
   "source": [
    "D + E"
   ]
  },
  {
   "cell_type": "code",
   "execution_count": 103,
   "id": "1dfbc842-ab22-41a7-aef0-574ba71b29cb",
   "metadata": {},
   "outputs": [
    {
     "data": {
      "text/plain": [
       "array([[ 1.34762887, -1.47339828, -0.89277688],\n",
       "       [-0.71308304,  0.00335692,  2.61626121],\n",
       "       [ 0.76015518,  1.11829765,  2.94478729]])"
      ]
     },
     "execution_count": 103,
     "metadata": {},
     "output_type": "execute_result"
    }
   ],
   "source": [
    "D - E"
   ]
  },
  {
   "cell_type": "code",
   "execution_count": 104,
   "id": "b5dec7b4-8763-4d75-9e81-f694ea2e5078",
   "metadata": {},
   "outputs": [],
   "source": [
    "d1 = D[0,:]\n",
    "e1 = E[0,:]"
   ]
  },
  {
   "cell_type": "code",
   "execution_count": 105,
   "id": "851fc876-74a1-4bb7-a712-e8c01e809a7b",
   "metadata": {},
   "outputs": [
    {
     "data": {
      "text/plain": [
       "array([-0.53462697,  0.79705897, -0.44141185])"
      ]
     },
     "execution_count": 105,
     "metadata": {},
     "output_type": "execute_result"
    }
   ],
   "source": [
    "d1 + e1"
   ]
  },
  {
   "cell_type": "code",
   "execution_count": 106,
   "id": "8fba67ed-1862-4539-8ac9-fa32ebd74e41",
   "metadata": {},
   "outputs": [
    {
     "data": {
      "text/plain": [
       "array([2., 2., 2., 2.])"
      ]
     },
     "execution_count": 106,
     "metadata": {},
     "output_type": "execute_result"
    }
   ],
   "source": [
    "a = np.array([1,2,3,4])\n",
    "b = 2*np.ones(4)\n",
    "b"
   ]
  },
  {
   "cell_type": "code",
   "execution_count": 107,
   "id": "70f02306-ca90-4f55-8f81-0efdecf473f5",
   "metadata": {},
   "outputs": [
    {
     "data": {
      "text/plain": [
       "array([1, 2, 3, 4])"
      ]
     },
     "execution_count": 107,
     "metadata": {},
     "output_type": "execute_result"
    }
   ],
   "source": [
    "a"
   ]
  },
  {
   "cell_type": "code",
   "execution_count": 108,
   "id": "1dd65eb7-869f-45d0-841f-edf067046e0c",
   "metadata": {},
   "outputs": [
    {
     "data": {
      "text/plain": [
       "array([2., 4., 6., 8.])"
      ]
     },
     "execution_count": 108,
     "metadata": {},
     "output_type": "execute_result"
    }
   ],
   "source": [
    "c = a * b # 행렬곱이 일어나지 않음 행렬곱은 matmul, *과 matmul과는 다른 연산\n",
    "c"
   ]
  },
  {
   "cell_type": "code",
   "execution_count": 109,
   "id": "98dc3d03-12c2-4006-acca-f2ef163968c8",
   "metadata": {},
   "outputs": [
    {
     "data": {
      "text/plain": [
       "20.0"
      ]
     },
     "execution_count": 109,
     "metadata": {},
     "output_type": "execute_result"
    }
   ],
   "source": [
    "np.sum(a*b)"
   ]
  },
  {
   "cell_type": "code",
   "execution_count": 112,
   "id": "7bfab02f-70d3-4742-a31f-1f186c7fb5ae",
   "metadata": {},
   "outputs": [
    {
     "data": {
      "text/plain": [
       "array([1, 2, 3, 4])"
      ]
     },
     "execution_count": 112,
     "metadata": {},
     "output_type": "execute_result"
    }
   ],
   "source": [
    "a"
   ]
  },
  {
   "cell_type": "code",
   "execution_count": 111,
   "id": "4f303912-5072-4d07-9057-c9a0cd85a481",
   "metadata": {},
   "outputs": [
    {
     "data": {
      "text/plain": [
       "array([[2.],\n",
       "       [2.],\n",
       "       [2.],\n",
       "       [2.]])"
      ]
     },
     "execution_count": 111,
     "metadata": {},
     "output_type": "execute_result"
    }
   ],
   "source": [
    "b.reshape(-1, 1)"
   ]
  },
  {
   "cell_type": "code",
   "execution_count": 110,
   "id": "e1fe6586-841d-4421-9b69-e76d8b37ac84",
   "metadata": {},
   "outputs": [
    {
     "data": {
      "text/plain": [
       "array([20.])"
      ]
     },
     "execution_count": 110,
     "metadata": {},
     "output_type": "execute_result"
    }
   ],
   "source": [
    "np.matmul(a, b.reshape(-1, 1)) # 행렬곱 연산이 이루어짐"
   ]
  },
  {
   "cell_type": "code",
   "execution_count": 113,
   "id": "7108557f-86ee-4b2d-ac15-466008e94267",
   "metadata": {},
   "outputs": [
    {
     "data": {
      "text/plain": [
       "array([ 3,  4,  5,  6,  7,  8,  9, 10])"
      ]
     },
     "execution_count": 113,
     "metadata": {},
     "output_type": "execute_result"
    }
   ],
   "source": [
    "A = np.arange(3, 11, 1) # 3부터 11미만까지 1개씩 출력\n",
    "A"
   ]
  },
  {
   "cell_type": "code",
   "execution_count": 114,
   "id": "4c5ccade-deb3-4f85-a831-4fc3b5d4fe4e",
   "metadata": {},
   "outputs": [
    {
     "data": {
      "text/plain": [
       "array([[ 3,  4,  5,  6],\n",
       "       [ 7,  8,  9, 10]])"
      ]
     },
     "execution_count": 114,
     "metadata": {},
     "output_type": "execute_result"
    }
   ],
   "source": [
    "A = np.arange(3, 11, 1).reshape(2, 4)\n",
    "A"
   ]
  },
  {
   "cell_type": "code",
   "execution_count": 115,
   "id": "7679df20-1d8f-4d59-84f9-39695fea9aa7",
   "metadata": {},
   "outputs": [
    {
     "data": {
      "text/plain": [
       "52"
      ]
     },
     "execution_count": 115,
     "metadata": {},
     "output_type": "execute_result"
    }
   ],
   "source": [
    "np.sum(A)"
   ]
  },
  {
   "cell_type": "code",
   "execution_count": 116,
   "id": "46e92072-7938-4986-9980-58996fb15b9a",
   "metadata": {},
   "outputs": [
    {
     "data": {
      "text/plain": [
       "array([10, 12, 14, 16])"
      ]
     },
     "execution_count": 116,
     "metadata": {},
     "output_type": "execute_result"
    }
   ],
   "source": [
    "np.sum(A, axis = 0) # 수직으로 더 함"
   ]
  },
  {
   "cell_type": "code",
   "execution_count": 117,
   "id": "855351ba-4c91-409a-b0fd-230d9ff25903",
   "metadata": {},
   "outputs": [
    {
     "data": {
      "text/plain": [
       "array([18, 34])"
      ]
     },
     "execution_count": 117,
     "metadata": {},
     "output_type": "execute_result"
    }
   ],
   "source": [
    "np.sum(A, axis = 1) # 수평으로 더 함"
   ]
  },
  {
   "cell_type": "code",
   "execution_count": 119,
   "id": "db9ee481-1f6a-4308-8a97-0a279f0a5845",
   "metadata": {},
   "outputs": [
    {
     "data": {
      "text/plain": [
       "array([[18],\n",
       "       [34]])"
      ]
     },
     "execution_count": 119,
     "metadata": {},
     "output_type": "execute_result"
    }
   ],
   "source": [
    "c = np.sum(A, axis = 1).reshape(-1, 1) # column 형태는 2차원으로 바뀜\n",
    "c"
   ]
  },
  {
   "cell_type": "code",
   "execution_count": 121,
   "id": "25046ede-42e1-4d74-b9a3-30521138cb3b",
   "metadata": {},
   "outputs": [
    {
     "data": {
      "text/plain": [
       "2"
      ]
     },
     "execution_count": 121,
     "metadata": {},
     "output_type": "execute_result"
    }
   ],
   "source": [
    "c.ndim"
   ]
  },
  {
   "cell_type": "markdown",
   "id": "708ca17a-743c-4d54-a7ff-bf5ed3e7c336",
   "metadata": {},
   "source": [
    "# Broadcast"
   ]
  },
  {
   "cell_type": "code",
   "execution_count": 122,
   "id": "04bb1980-0b01-4600-be69-da782373f2a4",
   "metadata": {},
   "outputs": [
    {
     "data": {
      "text/plain": [
       "array([[-1.26982738,  2.42239211, -0.53197578],\n",
       "       [-1.1690696 ,  1.98750253,  1.25228823],\n",
       "       [-0.56373033, -0.76948337,  0.17375939],\n",
       "       [-0.56896138,  0.66356666, -0.86707885]])"
      ]
     },
     "execution_count": 122,
     "metadata": {},
     "output_type": "execute_result"
    }
   ],
   "source": [
    "A = np.random.randn(4, 3)\n",
    "A"
   ]
  },
  {
   "cell_type": "code",
   "execution_count": 123,
   "id": "2cfd2560-15e8-48b9-ad8b-c90f281be4bb",
   "metadata": {},
   "outputs": [
    {
     "data": {
      "text/plain": [
       "array([[1.],\n",
       "       [1.],\n",
       "       [1.],\n",
       "       [1.]])"
      ]
     },
     "execution_count": 123,
     "metadata": {},
     "output_type": "execute_result"
    }
   ],
   "source": [
    "B = np.ones((4, 1))\n",
    "B"
   ]
  },
  {
   "cell_type": "code",
   "execution_count": 124,
   "id": "e24a0c1d-f84d-454e-83c1-175670950992",
   "metadata": {},
   "outputs": [
    {
     "data": {
      "text/plain": [
       "array([[-0.26982738,  3.42239211,  0.46802422],\n",
       "       [-0.1690696 ,  2.98750253,  2.25228823],\n",
       "       [ 0.43626967,  0.23051663,  1.17375939],\n",
       "       [ 0.43103862,  1.66356666,  0.13292115]])"
      ]
     },
     "execution_count": 124,
     "metadata": {},
     "output_type": "execute_result"
    }
   ],
   "source": [
    "A + B"
   ]
  },
  {
   "cell_type": "code",
   "execution_count": null,
   "id": "e18c8fa1-13d6-4d17-9a97-a431e5a66b40",
   "metadata": {},
   "outputs": [],
   "source": []
  }
 ],
 "metadata": {
  "kernelspec": {
   "display_name": "Python 3 (ipykernel)",
   "language": "python",
   "name": "python3"
  },
  "language_info": {
   "codemirror_mode": {
    "name": "ipython",
    "version": 3
   },
   "file_extension": ".py",
   "mimetype": "text/x-python",
   "name": "python",
   "nbconvert_exporter": "python",
   "pygments_lexer": "ipython3",
   "version": "3.9.12"
  }
 },
 "nbformat": 4,
 "nbformat_minor": 5
}
