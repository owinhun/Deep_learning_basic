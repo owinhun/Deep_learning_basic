{
 "cells": [
  {
   "cell_type": "markdown",
   "id": "8cea6ee9-b0a1-4792-86d6-43f783cfe189",
   "metadata": {},
   "source": [
    "## Intro to Pytorch Tensors"
   ]
  },
  {
   "cell_type": "code",
   "execution_count": 1,
   "id": "9a4d9e88-735d-496d-af09-27ceac45b152",
   "metadata": {},
   "outputs": [
    {
     "name": "stderr",
     "output_type": "stream",
     "text": [
      "C:\\Users\\OH\\Anaconda3\\envs\\pytorch1\\lib\\site-packages\\tqdm\\auto.py:22: TqdmWarning: IProgress not found. Please update jupyter and ipywidgets. See https://ipywidgets.readthedocs.io/en/stable/user_install.html\n",
      "  from .autonotebook import tqdm as notebook_tqdm\n"
     ]
    }
   ],
   "source": [
    "import numpy as np\n",
    "import torch"
   ]
  },
  {
   "cell_type": "code",
   "execution_count": 2,
   "id": "dee71432-4464-4ea4-b05a-c459de7f2cae",
   "metadata": {},
   "outputs": [
    {
     "data": {
      "text/plain": [
       "array([1, 2, 3])"
      ]
     },
     "execution_count": 2,
     "metadata": {},
     "output_type": "execute_result"
    }
   ],
   "source": [
    "a = np.array([1,2,3])\n",
    "a"
   ]
  },
  {
   "cell_type": "markdown",
   "id": "89493c0f-87b3-4dbb-a324-6143219f7cb0",
   "metadata": {},
   "source": [
    "* Torch Tensors"
   ]
  },
  {
   "cell_type": "code",
   "execution_count": 3,
   "id": "f5454d89-96f7-4711-9475-89faa62c3f34",
   "metadata": {},
   "outputs": [
    {
     "data": {
      "text/plain": [
       "tensor([1, 2, 3])"
      ]
     },
     "execution_count": 3,
     "metadata": {},
     "output_type": "execute_result"
    }
   ],
   "source": [
    "b = torch.tensor([1,2,3])\n",
    "b"
   ]
  },
  {
   "cell_type": "code",
   "execution_count": 4,
   "id": "44d90ff5-7416-47d2-a624-d32d859fc7ad",
   "metadata": {},
   "outputs": [
    {
     "data": {
      "text/plain": [
       "torch.Size([3])"
      ]
     },
     "execution_count": 4,
     "metadata": {},
     "output_type": "execute_result"
    }
   ],
   "source": [
    "b.shape"
   ]
  },
  {
   "cell_type": "code",
   "execution_count": 5,
   "id": "691f482d-1a01-427e-8022-f983f1e01e9a",
   "metadata": {},
   "outputs": [
    {
     "data": {
      "text/plain": [
       "1"
      ]
     },
     "execution_count": 5,
     "metadata": {},
     "output_type": "execute_result"
    }
   ],
   "source": [
    "b.ndim"
   ]
  },
  {
   "cell_type": "code",
   "execution_count": 6,
   "id": "5074d919-df47-4eb1-820d-2e5b6545b2b0",
   "metadata": {},
   "outputs": [
    {
     "data": {
      "text/plain": [
       "tensor([1, 2, 3], dtype=torch.int32)"
      ]
     },
     "execution_count": 6,
     "metadata": {},
     "output_type": "execute_result"
    }
   ],
   "source": [
    "c = torch.from_numpy(a) # numpy에서 가져와라\n",
    "c"
   ]
  },
  {
   "cell_type": "code",
   "execution_count": 7,
   "id": "37a48ab7-b252-47ca-81f7-f52249fe61a8",
   "metadata": {},
   "outputs": [
    {
     "data": {
      "text/plain": [
       "torch.Size([3])"
      ]
     },
     "execution_count": 7,
     "metadata": {},
     "output_type": "execute_result"
    }
   ],
   "source": [
    "c.shape"
   ]
  },
  {
   "cell_type": "markdown",
   "id": "63e3149e-154f-41bb-b541-3486652b75fa",
   "metadata": {},
   "source": [
    "## Vector의 표기 단위 차이"
   ]
  },
  {
   "cell_type": "code",
   "execution_count": 8,
   "id": "64d2c7cf-b1cc-4300-bf38-f0fcdf8440fe",
   "metadata": {},
   "outputs": [
    {
     "data": {
      "text/plain": [
       "tensor([1, 3, 4])"
      ]
     },
     "execution_count": 8,
     "metadata": {},
     "output_type": "execute_result"
    }
   ],
   "source": [
    "d = torch.tensor([1,3,4])\n",
    "d"
   ]
  },
  {
   "cell_type": "code",
   "execution_count": 9,
   "id": "e9bd4d28-6cb3-4de1-bad9-e605c3b92337",
   "metadata": {},
   "outputs": [
    {
     "data": {
      "text/plain": [
       "tensor([[1],\n",
       "        [3],\n",
       "        [4]])"
      ]
     },
     "execution_count": 9,
     "metadata": {},
     "output_type": "execute_result"
    }
   ],
   "source": [
    "d1 = torch.tensor([1,3,4]).reshape(-1, 1)\n",
    "d1"
   ]
  },
  {
   "cell_type": "code",
   "execution_count": 10,
   "id": "d611b702-f204-4cec-aea2-c0914abfda63",
   "metadata": {},
   "outputs": [
    {
     "data": {
      "text/plain": [
       "tensor([[5, 6, 8],\n",
       "        [6, 7, 4]])"
      ]
     },
     "execution_count": 10,
     "metadata": {},
     "output_type": "execute_result"
    }
   ],
   "source": [
    "X = torch.tensor([[5, 6, 8], [6, 7, 4]])\n",
    "X"
   ]
  },
  {
   "cell_type": "code",
   "execution_count": 11,
   "id": "6866e5f1-26a6-49c3-bf37-6575e5de671c",
   "metadata": {},
   "outputs": [
    {
     "data": {
      "text/plain": [
       "tensor([[6],\n",
       "        [7]])"
      ]
     },
     "execution_count": 11,
     "metadata": {},
     "output_type": "execute_result"
    }
   ],
   "source": [
    "X[:,1].reshape(-1, 1)"
   ]
  },
  {
   "cell_type": "code",
   "execution_count": 12,
   "id": "946918af-cb5c-4ff0-9504-e91891da3efd",
   "metadata": {},
   "outputs": [],
   "source": [
    "a = torch.tensor([[[12., 3., 4.]]], dtype = torch.float64)"
   ]
  },
  {
   "cell_type": "code",
   "execution_count": 13,
   "id": "65e094b4-f3c1-4215-82e6-56aa2d2bae6e",
   "metadata": {},
   "outputs": [
    {
     "data": {
      "text/plain": [
       "3"
      ]
     },
     "execution_count": 13,
     "metadata": {},
     "output_type": "execute_result"
    }
   ],
   "source": [
    "a.ndim"
   ]
  },
  {
   "cell_type": "code",
   "execution_count": 14,
   "id": "dd4f91f6-362a-404d-899c-e222164c188e",
   "metadata": {},
   "outputs": [
    {
     "data": {
      "text/plain": [
       "torch.Size([1, 1, 3])"
      ]
     },
     "execution_count": 14,
     "metadata": {},
     "output_type": "execute_result"
    }
   ],
   "source": [
    "a.shape"
   ]
  },
  {
   "cell_type": "code",
   "execution_count": 15,
   "id": "b0607a3a-1b81-4760-89a2-2b20b4e3635c",
   "metadata": {},
   "outputs": [
    {
     "data": {
      "text/plain": [
       "torch.float64"
      ]
     },
     "execution_count": 15,
     "metadata": {},
     "output_type": "execute_result"
    }
   ],
   "source": [
    "a.dtype"
   ]
  },
  {
   "cell_type": "code",
   "execution_count": 16,
   "id": "8ad21fc5-04a1-434a-8df7-375a2db833e6",
   "metadata": {},
   "outputs": [
    {
     "data": {
      "text/plain": [
       "device(type='cpu')"
      ]
     },
     "execution_count": 16,
     "metadata": {},
     "output_type": "execute_result"
    }
   ],
   "source": [
    "a.device # 어떤 device에서 존재하는지, tensor는 cpu, gpu다 올라갈 수 있기 때문에"
   ]
  },
  {
   "cell_type": "code",
   "execution_count": 17,
   "id": "d421d841-e43e-42fb-a973-01a843a09bd6",
   "metadata": {},
   "outputs": [
    {
     "data": {
      "text/plain": [
       "tensor([1., 2., 3., 4., 5.], device='cuda:0', dtype=torch.float64)"
      ]
     },
     "execution_count": 17,
     "metadata": {},
     "output_type": "execute_result"
    }
   ],
   "source": [
    "b = torch.tensor([1,2,3,4,5], dtype = torch.float64, device = 'cuda')\n",
    "b"
   ]
  },
  {
   "cell_type": "code",
   "execution_count": 18,
   "id": "34f2e9ac-70b3-43ca-bab4-b1a02953e536",
   "metadata": {},
   "outputs": [],
   "source": [
    "a = torch.tensor([12, 3, 4])"
   ]
  },
  {
   "cell_type": "code",
   "execution_count": 19,
   "id": "06178098-c677-4d53-b8da-0cb07467dcfe",
   "metadata": {},
   "outputs": [],
   "source": [
    "b = torch.tensor([[12, 3, 4]])"
   ]
  },
  {
   "cell_type": "code",
   "execution_count": 20,
   "id": "fdfe2962-414f-487a-a420-dcb31351ecf9",
   "metadata": {},
   "outputs": [
    {
     "data": {
      "text/plain": [
       "1"
      ]
     },
     "execution_count": 20,
     "metadata": {},
     "output_type": "execute_result"
    }
   ],
   "source": [
    "a.ndim"
   ]
  },
  {
   "cell_type": "code",
   "execution_count": 21,
   "id": "c17c4f68-a12e-4440-b712-ed46cc9dd48e",
   "metadata": {},
   "outputs": [
    {
     "data": {
      "text/plain": [
       "2"
      ]
     },
     "execution_count": 21,
     "metadata": {},
     "output_type": "execute_result"
    }
   ],
   "source": [
    "b.ndim"
   ]
  },
  {
   "cell_type": "markdown",
   "id": "95842bf3-29c6-4ed8-8b9a-d4f0f8abb389",
   "metadata": {},
   "source": [
    "* from_numpy"
   ]
  },
  {
   "cell_type": "markdown",
   "id": "0cb6e6ea-1448-4dbe-a6e5-021c52aff702",
   "metadata": {},
   "source": [
    "* numpy()"
   ]
  },
  {
   "cell_type": "code",
   "execution_count": 22,
   "id": "824c95be-7a3d-4738-a71b-fe5dde27bc10",
   "metadata": {},
   "outputs": [],
   "source": [
    "a = np.array([1.,2.,3.])"
   ]
  },
  {
   "cell_type": "code",
   "execution_count": 23,
   "id": "cd3bb10c-50fb-4fdf-b555-36da9365661a",
   "metadata": {},
   "outputs": [
    {
     "data": {
      "text/plain": [
       "array([1., 2., 3.])"
      ]
     },
     "execution_count": 23,
     "metadata": {},
     "output_type": "execute_result"
    }
   ],
   "source": [
    "a"
   ]
  },
  {
   "cell_type": "code",
   "execution_count": 24,
   "id": "0d40b3a9-0683-409e-9d39-74fb826eebb7",
   "metadata": {},
   "outputs": [
    {
     "data": {
      "text/plain": [
       "(3,)"
      ]
     },
     "execution_count": 24,
     "metadata": {},
     "output_type": "execute_result"
    }
   ],
   "source": [
    "a.shape"
   ]
  },
  {
   "cell_type": "code",
   "execution_count": 25,
   "id": "4f01cd3d-9c54-4ebb-a6b4-7b8f535047a6",
   "metadata": {},
   "outputs": [
    {
     "data": {
      "text/plain": [
       "tensor([1., 2., 3.], dtype=torch.float64)"
      ]
     },
     "execution_count": 25,
     "metadata": {},
     "output_type": "execute_result"
    }
   ],
   "source": [
    "b = torch.from_numpy(a)\n",
    "b"
   ]
  },
  {
   "cell_type": "code",
   "execution_count": 26,
   "id": "6d2c5f06-3a8a-40fb-85ab-170729191b62",
   "metadata": {},
   "outputs": [
    {
     "data": {
      "text/plain": [
       "array([1., 2., 3.])"
      ]
     },
     "execution_count": 26,
     "metadata": {},
     "output_type": "execute_result"
    }
   ],
   "source": [
    "c = b.numpy()\n",
    "c"
   ]
  },
  {
   "cell_type": "code",
   "execution_count": 27,
   "id": "3fa4549c-ea68-4581-af47-dac875c8572c",
   "metadata": {},
   "outputs": [],
   "source": [
    "X = torch.tensor([[1], [2], [3]]).reshape(3,1)"
   ]
  },
  {
   "cell_type": "code",
   "execution_count": 28,
   "id": "4c52f572-08ab-4984-a2a8-5a1573454995",
   "metadata": {},
   "outputs": [
    {
     "data": {
      "text/plain": [
       "tensor([[1],\n",
       "        [2],\n",
       "        [3]])"
      ]
     },
     "execution_count": 28,
     "metadata": {},
     "output_type": "execute_result"
    }
   ],
   "source": [
    "X"
   ]
  },
  {
   "cell_type": "code",
   "execution_count": 29,
   "id": "dfc0a607-cb78-49e7-9ace-4e9c76731351",
   "metadata": {},
   "outputs": [
    {
     "data": {
      "text/plain": [
       "torch.Size([3, 1])"
      ]
     },
     "execution_count": 29,
     "metadata": {},
     "output_type": "execute_result"
    }
   ],
   "source": [
    "X.shape"
   ]
  },
  {
   "cell_type": "markdown",
   "id": "d114cf6e-036a-4369-99a5-da49a7dc61aa",
   "metadata": {},
   "source": [
    "* Matrix 연산자 I"
   ]
  },
  {
   "cell_type": "code",
   "execution_count": 30,
   "id": "1cab0ab8-1dc3-4548-a1a1-3091a7bd7d17",
   "metadata": {},
   "outputs": [
    {
     "data": {
      "text/plain": [
       "tensor([[1., 2., 3.],\n",
       "        [4., 5., 6.]])"
      ]
     },
     "execution_count": 30,
     "metadata": {},
     "output_type": "execute_result"
    }
   ],
   "source": [
    "X = torch.tensor([[1., 2., 3.], [4., 5., 6.]])\n",
    "X"
   ]
  },
  {
   "cell_type": "code",
   "execution_count": 31,
   "id": "3ab6e61b-c92c-4ac0-b1cf-bd9d99c03fef",
   "metadata": {},
   "outputs": [
    {
     "data": {
      "text/plain": [
       "torch.Size([2, 3])"
      ]
     },
     "execution_count": 31,
     "metadata": {},
     "output_type": "execute_result"
    }
   ],
   "source": [
    "X.shape"
   ]
  },
  {
   "cell_type": "code",
   "execution_count": 32,
   "id": "5d0bde7f-7227-482e-a141-13a3482dd1d8",
   "metadata": {},
   "outputs": [
    {
     "data": {
      "text/plain": [
       "tensor([[1., 4.],\n",
       "        [2., 5.],\n",
       "        [3., 6.]])"
      ]
     },
     "execution_count": 32,
     "metadata": {},
     "output_type": "execute_result"
    }
   ],
   "source": [
    "X.T"
   ]
  },
  {
   "cell_type": "code",
   "execution_count": 33,
   "id": "938b6b27-87b3-413d-b1fb-510edf5f4de2",
   "metadata": {},
   "outputs": [
    {
     "data": {
      "text/plain": [
       "tensor([[1., 2.],\n",
       "        [3., 4.],\n",
       "        [5., 6.]])"
      ]
     },
     "execution_count": 33,
     "metadata": {},
     "output_type": "execute_result"
    }
   ],
   "source": [
    "X.reshape(3,2)"
   ]
  },
  {
   "cell_type": "code",
   "execution_count": 34,
   "id": "a4b19289-554a-40f9-a5b7-e87ebab422e1",
   "metadata": {},
   "outputs": [
    {
     "data": {
      "text/plain": [
       "tensor([1., 2., 3., 4., 5., 6.])"
      ]
     },
     "execution_count": 34,
     "metadata": {},
     "output_type": "execute_result"
    }
   ],
   "source": [
    "X.reshape(6)"
   ]
  },
  {
   "cell_type": "code",
   "execution_count": 35,
   "id": "5d28226d-11b5-402a-9c89-4e275831d78e",
   "metadata": {},
   "outputs": [
    {
     "data": {
      "text/plain": [
       "tensor([[1.],\n",
       "        [2.],\n",
       "        [3.],\n",
       "        [4.],\n",
       "        [5.],\n",
       "        [6.]])"
      ]
     },
     "execution_count": 35,
     "metadata": {},
     "output_type": "execute_result"
    }
   ],
   "source": [
    "X.reshape(6,1)"
   ]
  },
  {
   "cell_type": "code",
   "execution_count": 36,
   "id": "8f00bcc0-c8b1-48de-a7c4-2e419cb0b39a",
   "metadata": {},
   "outputs": [
    {
     "data": {
      "text/plain": [
       "tensor([[1., 2., 3.],\n",
       "        [4., 5., 6.]])"
      ]
     },
     "execution_count": 36,
     "metadata": {},
     "output_type": "execute_result"
    }
   ],
   "source": [
    "X"
   ]
  },
  {
   "cell_type": "code",
   "execution_count": 37,
   "id": "136a0abe-e916-439a-9fc5-b1d9875750dd",
   "metadata": {},
   "outputs": [
    {
     "data": {
      "text/plain": [
       "tensor([[1.],\n",
       "        [2.],\n",
       "        [3.],\n",
       "        [4.],\n",
       "        [5.],\n",
       "        [6.]])"
      ]
     },
     "execution_count": 37,
     "metadata": {},
     "output_type": "execute_result"
    }
   ],
   "source": [
    "A = X.reshape(6, 1)\n",
    "A"
   ]
  },
  {
   "cell_type": "markdown",
   "id": "58774f14-b4c0-4a69-bc91-d499893d49bd",
   "metadata": {},
   "source": [
    "* Vector transpose 주의점"
   ]
  },
  {
   "cell_type": "code",
   "execution_count": 38,
   "id": "8998537a-9335-4f07-bf8f-8a193e576786",
   "metadata": {},
   "outputs": [],
   "source": [
    "a = torch.tensor([1,2,3])"
   ]
  },
  {
   "cell_type": "code",
   "execution_count": 39,
   "id": "05414ca4-eb91-4fca-96e0-72f6220a7b97",
   "metadata": {},
   "outputs": [
    {
     "data": {
      "text/plain": [
       "tensor([1, 2, 3])"
      ]
     },
     "execution_count": 39,
     "metadata": {},
     "output_type": "execute_result"
    }
   ],
   "source": [
    "a"
   ]
  },
  {
   "cell_type": "code",
   "execution_count": 40,
   "id": "c325ea5d-dcc2-4d0b-8ab4-59eeee0c1290",
   "metadata": {},
   "outputs": [
    {
     "name": "stderr",
     "output_type": "stream",
     "text": [
      "C:\\Users\\OH\\AppData\\Local\\Temp\\ipykernel_30348\\2533872927.py:1: UserWarning: The use of `x.T` on tensors of dimension other than 2 to reverse their shape is deprecated and it will throw an error in a future release. Consider `x.mT` to transpose batches of matricesor `x.permute(*torch.arange(x.ndim - 1, -1, -1))` to reverse the dimensions of a tensor. (Triggered internally at  C:\\cb\\pytorch_1000000000000\\work\\aten\\src\\ATen\\native\\TensorShape.cpp:2985.)\n",
      "  a.T\n"
     ]
    },
    {
     "data": {
      "text/plain": [
       "tensor([1, 2, 3])"
      ]
     },
     "execution_count": 40,
     "metadata": {},
     "output_type": "execute_result"
    }
   ],
   "source": [
    "a.T"
   ]
  },
  {
   "cell_type": "code",
   "execution_count": 41,
   "id": "dfb6f3fe-08fc-4deb-96e1-24554045e690",
   "metadata": {},
   "outputs": [
    {
     "data": {
      "text/plain": [
       "1"
      ]
     },
     "execution_count": 41,
     "metadata": {},
     "output_type": "execute_result"
    }
   ],
   "source": [
    "a.ndim"
   ]
  },
  {
   "cell_type": "code",
   "execution_count": 42,
   "id": "115d43d1-6b9d-47cf-8f6e-eea374bec159",
   "metadata": {},
   "outputs": [
    {
     "data": {
      "text/plain": [
       "tensor([[1, 2, 3]])"
      ]
     },
     "execution_count": 42,
     "metadata": {},
     "output_type": "execute_result"
    }
   ],
   "source": [
    "b = torch.tensor([[1,2,3]])\n",
    "b"
   ]
  },
  {
   "cell_type": "code",
   "execution_count": 43,
   "id": "7de07f1a-97d6-471d-924f-564b7796d3cf",
   "metadata": {},
   "outputs": [
    {
     "data": {
      "text/plain": [
       "tensor([[1],\n",
       "        [2],\n",
       "        [3]])"
      ]
     },
     "execution_count": 43,
     "metadata": {},
     "output_type": "execute_result"
    }
   ],
   "source": [
    "b.T"
   ]
  },
  {
   "cell_type": "code",
   "execution_count": 44,
   "id": "0f1f951c-9fe1-495e-8bc3-4435f5e335cd",
   "metadata": {},
   "outputs": [
    {
     "data": {
      "text/plain": [
       "tensor([[1],\n",
       "        [2],\n",
       "        [3]])"
      ]
     },
     "execution_count": 44,
     "metadata": {},
     "output_type": "execute_result"
    }
   ],
   "source": [
    "a.reshape(3,1)"
   ]
  },
  {
   "cell_type": "code",
   "execution_count": 45,
   "id": "34f7c3af-e178-4c4f-8b18-ccfc38b2445e",
   "metadata": {},
   "outputs": [
    {
     "name": "stdout",
     "output_type": "stream",
     "text": [
      "x1 =  tensor([[5],\n",
      "        [6],\n",
      "        [7]])\n",
      "x2 =  tensor([[6],\n",
      "        [7],\n",
      "        [5]])\n"
     ]
    }
   ],
   "source": [
    "x1 = torch.tensor([[5], [6], [7]])\n",
    "x2 = torch.tensor([[6], [7], [5]])\n",
    "print('x1 = ', x1)\n",
    "print('x2 = ', x2)"
   ]
  },
  {
   "cell_type": "code",
   "execution_count": 46,
   "id": "e5683779-47b8-47a0-9d4d-65a693ac2e66",
   "metadata": {},
   "outputs": [
    {
     "data": {
      "text/plain": [
       "torch.Size([3, 1])"
      ]
     },
     "execution_count": 46,
     "metadata": {},
     "output_type": "execute_result"
    }
   ],
   "source": [
    "x2.shape"
   ]
  },
  {
   "cell_type": "code",
   "execution_count": 47,
   "id": "c2c88f57-6a50-46fa-ac30-b62911a696f2",
   "metadata": {},
   "outputs": [
    {
     "name": "stdout",
     "output_type": "stream",
     "text": [
      "x1T =  tensor([[5, 6, 7]])\n",
      "x2T =  tensor([[6, 7, 5]])\n"
     ]
    }
   ],
   "source": [
    "x1T = x1.T\n",
    "x2T = x2.T\n",
    "print('x1T = ', x1T)\n",
    "print('x2T = ', x2T)"
   ]
  },
  {
   "cell_type": "code",
   "execution_count": 48,
   "id": "35a2d511-58db-49b2-a577-c8cfcf697aca",
   "metadata": {},
   "outputs": [
    {
     "data": {
      "text/plain": [
       "tensor([[5, 6, 7]])"
      ]
     },
     "execution_count": 48,
     "metadata": {},
     "output_type": "execute_result"
    }
   ],
   "source": [
    "x1TT = x1.reshape(1, 3)\n",
    "x1TT"
   ]
  },
  {
   "cell_type": "markdown",
   "id": "200a1d46-6e13-4e3d-b2c7-191942671fef",
   "metadata": {},
   "source": [
    "* vstack (vertical(수직) stack (쌓다))"
   ]
  },
  {
   "cell_type": "code",
   "execution_count": 49,
   "id": "262864fe-de09-43b1-8692-0b8ee90fec2d",
   "metadata": {},
   "outputs": [
    {
     "data": {
      "text/plain": [
       "tensor([[5, 6, 7],\n",
       "        [6, 7, 5]])"
      ]
     },
     "execution_count": 49,
     "metadata": {},
     "output_type": "execute_result"
    }
   ],
   "source": [
    "X = torch.vstack([x1.T, x2.T])\n",
    "X"
   ]
  },
  {
   "cell_type": "markdown",
   "id": "743e9dd3-b674-4c95-bf9d-dafa4a36c444",
   "metadata": {},
   "source": [
    "* hstack (horizontal(수평) stack (쌓다))"
   ]
  },
  {
   "cell_type": "code",
   "execution_count": 50,
   "id": "53218adb-ed50-4d23-ba00-507eebc11c61",
   "metadata": {},
   "outputs": [
    {
     "data": {
      "text/plain": [
       "tensor([[5, 6, 7, 6, 7, 5]])"
      ]
     },
     "execution_count": 50,
     "metadata": {},
     "output_type": "execute_result"
    }
   ],
   "source": [
    "Xhstack = torch.hstack([x1T, x2T])\n",
    "Xhstack"
   ]
  },
  {
   "cell_type": "code",
   "execution_count": 51,
   "id": "5c4f6c2f-74dd-42e3-bc75-dcc4c8828edb",
   "metadata": {},
   "outputs": [
    {
     "data": {
      "text/plain": [
       "tensor([[5, 6],\n",
       "        [6, 7],\n",
       "        [7, 5]])"
      ]
     },
     "execution_count": 51,
     "metadata": {},
     "output_type": "execute_result"
    }
   ],
   "source": [
    "Xhstack2 = torch.hstack([x1, x2])\n",
    "Xhstack2"
   ]
  },
  {
   "cell_type": "code",
   "execution_count": 52,
   "id": "50318581-012d-42da-b998-796c9588c894",
   "metadata": {},
   "outputs": [
    {
     "data": {
      "text/plain": [
       "tensor([[0., 0., 0.]])"
      ]
     },
     "execution_count": 52,
     "metadata": {},
     "output_type": "execute_result"
    }
   ],
   "source": [
    "zvec = torch.zeros((1,3))\n",
    "zvec"
   ]
  },
  {
   "cell_type": "code",
   "execution_count": 53,
   "id": "8da35909-6488-44d3-bdc3-e1d9f4249aad",
   "metadata": {},
   "outputs": [
    {
     "data": {
      "text/plain": [
       "tensor([0, 1, 2, 3, 4, 5, 6, 7, 8, 9])"
      ]
     },
     "execution_count": 53,
     "metadata": {},
     "output_type": "execute_result"
    }
   ],
   "source": [
    "torch.arange(0, 10, 1)"
   ]
  },
  {
   "cell_type": "code",
   "execution_count": 54,
   "id": "9e5b18dc-4c36-4fc1-a291-42a92ede1dfc",
   "metadata": {},
   "outputs": [
    {
     "name": "stdout",
     "output_type": "stream",
     "text": [
      "tensor(0)\n",
      "tensor(1)\n",
      "tensor(2)\n",
      "tensor(3)\n",
      "tensor(4)\n",
      "tensor(5)\n",
      "tensor(6)\n",
      "tensor(7)\n",
      "tensor(8)\n",
      "tensor(9)\n"
     ]
    }
   ],
   "source": [
    "for i in torch.arange(10):\n",
    "    print(i)"
   ]
  },
  {
   "cell_type": "code",
   "execution_count": 55,
   "id": "c6f4f7dd-fbda-40d9-a024-c91119ef7e88",
   "metadata": {},
   "outputs": [
    {
     "data": {
      "text/plain": [
       "tensor([0.0000, 0.4444, 0.8889, 1.3333, 1.7778, 2.2222, 2.6667, 3.1111, 3.5556,\n",
       "        4.0000])"
      ]
     },
     "execution_count": 55,
     "metadata": {},
     "output_type": "execute_result"
    }
   ],
   "source": [
    "torch.linspace(0, 4, 10)"
   ]
  },
  {
   "cell_type": "code",
   "execution_count": 56,
   "id": "2746450c-382c-4685-aad5-37e69e382e09",
   "metadata": {},
   "outputs": [
    {
     "data": {
      "text/plain": [
       "tensor([[ 0.2268,  0.4670,  0.6807, -0.4360,  0.0569,  0.9146, -0.2481, -0.6245,\n",
       "          0.8504, -0.5666]])"
      ]
     },
     "execution_count": 56,
     "metadata": {},
     "output_type": "execute_result"
    }
   ],
   "source": [
    "d = torch.rand(1, 10)*2-1\n",
    "d"
   ]
  },
  {
   "cell_type": "code",
   "execution_count": 57,
   "id": "1d46bed7-48a2-4e27-93af-4afce1ab6d61",
   "metadata": {},
   "outputs": [
    {
     "data": {
      "text/plain": [
       "1.4142135623730951"
      ]
     },
     "execution_count": 57,
     "metadata": {},
     "output_type": "execute_result"
    }
   ],
   "source": [
    "np.sqrt(2)"
   ]
  },
  {
   "cell_type": "code",
   "execution_count": 58,
   "id": "87c7b8da-5cff-4cfa-80c9-057989a1db1f",
   "metadata": {},
   "outputs": [],
   "source": [
    "e = np.sqrt(3)*torch.randn(30, 40) + 2"
   ]
  },
  {
   "cell_type": "code",
   "execution_count": 59,
   "id": "fbd2fbdf-bc8f-44dd-b666-47fb5a9b4ddc",
   "metadata": {},
   "outputs": [
    {
     "data": {
      "text/plain": [
       "tensor([[ 3.7231,  2.3612,  0.6097,  ...,  1.1565,  2.6638,  3.5497],\n",
       "        [ 4.0520,  4.5396,  0.1742,  ...,  1.2274,  1.6526,  0.2103],\n",
       "        [ 4.1743,  3.2083,  1.6597,  ...,  1.0336, -0.1045,  4.4041],\n",
       "        ...,\n",
       "        [ 1.3741,  1.1070,  3.1057,  ...,  1.9327,  3.9299,  4.1260],\n",
       "        [ 1.4975, -1.3265,  4.8277,  ...,  2.9493,  2.5644,  0.4958],\n",
       "        [ 0.9921,  6.5524,  0.7163,  ..., -0.2032,  3.2187,  3.9185]])"
      ]
     },
     "execution_count": 59,
     "metadata": {},
     "output_type": "execute_result"
    }
   ],
   "source": [
    "e"
   ]
  },
  {
   "cell_type": "code",
   "execution_count": 60,
   "id": "4c183303-042b-487f-ad26-643295eee4d0",
   "metadata": {},
   "outputs": [
    {
     "data": {
      "text/plain": [
       "tensor(2.9663)"
      ]
     },
     "execution_count": 60,
     "metadata": {},
     "output_type": "execute_result"
    }
   ],
   "source": [
    "torch.var(e)"
   ]
  },
  {
   "cell_type": "code",
   "execution_count": 61,
   "id": "7a51789e-93e8-429b-8c5c-72701af17502",
   "metadata": {},
   "outputs": [
    {
     "data": {
      "text/plain": [
       "tensor([1.7321], dtype=torch.float64)"
      ]
     },
     "execution_count": 61,
     "metadata": {},
     "output_type": "execute_result"
    }
   ],
   "source": [
    "np.sqrt(torch.tensor([3]))"
   ]
  },
  {
   "cell_type": "code",
   "execution_count": 62,
   "id": "34661b62-7419-45c7-8d9b-a881f9936929",
   "metadata": {},
   "outputs": [
    {
     "data": {
      "text/plain": [
       "tensor([ 0.0000e+00,  3.2470e-01,  6.1421e-01,  8.3717e-01,  9.6940e-01,\n",
       "         9.9658e-01,  9.1577e-01,  7.3572e-01,  4.7595e-01,  1.6459e-01,\n",
       "        -1.6459e-01, -4.7595e-01, -7.3572e-01, -9.1577e-01, -9.9658e-01,\n",
       "        -9.6940e-01, -8.3717e-01, -6.1421e-01, -3.2470e-01,  1.7485e-07])"
      ]
     },
     "execution_count": 62,
     "metadata": {},
     "output_type": "execute_result"
    }
   ],
   "source": [
    "a = 2*np.pi*torch.linspace(0, 1, 20)\n",
    "s = torch.sin(a)\n",
    "s"
   ]
  },
  {
   "cell_type": "code",
   "execution_count": 63,
   "id": "7b6d5b72-42b1-4747-9a72-b30d5d6ccb86",
   "metadata": {},
   "outputs": [],
   "source": [
    "import matplotlib.pyplot as plt"
   ]
  },
  {
   "cell_type": "code",
   "execution_count": 64,
   "id": "6171c43d-8958-4909-96a4-3ee4c5693e49",
   "metadata": {},
   "outputs": [
    {
     "data": {
      "image/png": "[encoded data removed]",
      "text/plain": [
       "<Figure size 640x480 with 1 Axes>"
      ]
     },
     "metadata": {},
     "output_type": "display_data"
    }
   ],
   "source": [
    "plt.plot(a, s)\n",
    "plt.grid()"
   ]
  },
  {
   "cell_type": "code",
   "execution_count": 65,
   "id": "fb88284c-ce49-4eb2-8ef7-6b2bbcf72d82",
   "metadata": {},
   "outputs": [
    {
     "data": {
      "image/png": "[encoded data removed]",
      "text/plain": [
       "<Figure size 640x480 with 1 Axes>"
      ]
     },
     "metadata": {},
     "output_type": "display_data"
    }
   ],
   "source": [
    "anp = a.numpy()\n",
    "snp = s.numpy()\n",
    "\n",
    "plt.plot(anp, snp)\n",
    "plt.grid()"
   ]
  },
  {
   "cell_type": "code",
   "execution_count": 66,
   "id": "e4d5d5db-ffac-414f-8330-f25431d73348",
   "metadata": {},
   "outputs": [
    {
     "data": {
      "text/plain": [
       "3.141592653589793"
      ]
     },
     "execution_count": 66,
     "metadata": {},
     "output_type": "execute_result"
    }
   ],
   "source": [
    "np.pi"
   ]
  },
  {
   "cell_type": "code",
   "execution_count": 67,
   "id": "3e7e2df3-0797-4ad4-bf86-d6500a614542",
   "metadata": {},
   "outputs": [
    {
     "data": {
      "text/plain": [
       "3.141592653589793"
      ]
     },
     "execution_count": 67,
     "metadata": {},
     "output_type": "execute_result"
    }
   ],
   "source": [
    "torch.pi"
   ]
  },
  {
   "cell_type": "code",
   "execution_count": 68,
   "id": "2d0c0bb8-585b-4a8e-ae4e-4d8debff19fb",
   "metadata": {},
   "outputs": [],
   "source": [
    "f = torch.tensor([[[1,2,3,4]]])"
   ]
  },
  {
   "cell_type": "code",
   "execution_count": 69,
   "id": "0b6eb320-a5a2-414c-935c-ce0257bef216",
   "metadata": {},
   "outputs": [
    {
     "data": {
      "text/plain": [
       "torch.Size([1, 1, 4])"
      ]
     },
     "execution_count": 69,
     "metadata": {},
     "output_type": "execute_result"
    }
   ],
   "source": [
    "f.shape"
   ]
  },
  {
   "cell_type": "code",
   "execution_count": 70,
   "id": "ce56f92a-cb3d-4b95-a270-bd67f3e6e893",
   "metadata": {},
   "outputs": [
    {
     "data": {
      "text/plain": [
       "torch.Size([4])"
      ]
     },
     "execution_count": 70,
     "metadata": {},
     "output_type": "execute_result"
    }
   ],
   "source": [
    "f.squeeze().shape"
   ]
  },
  {
   "cell_type": "code",
   "execution_count": 71,
   "id": "6380a138-4620-4aae-9eb6-fcec0a0cd1ae",
   "metadata": {},
   "outputs": [
    {
     "data": {
      "text/plain": [
       "tensor([[0, 1],\n",
       "        [2, 3],\n",
       "        [4, 5]])"
      ]
     },
     "execution_count": 71,
     "metadata": {},
     "output_type": "execute_result"
    }
   ],
   "source": [
    "A = torch.arange(0, 6).reshape(3, 2)\n",
    "A"
   ]
  },
  {
   "cell_type": "code",
   "execution_count": 72,
   "id": "c99a082b-ea1b-4890-89d3-bd1566150823",
   "metadata": {},
   "outputs": [
    {
     "data": {
      "text/plain": [
       "tensor([[-0.1660,  1.7241],\n",
       "        [ 1.2268,  0.8864],\n",
       "        [-0.2688, -0.8822]])"
      ]
     },
     "execution_count": 72,
     "metadata": {},
     "output_type": "execute_result"
    }
   ],
   "source": [
    "B = torch.randn(3, 2)\n",
    "B"
   ]
  },
  {
   "cell_type": "code",
   "execution_count": 73,
   "id": "0b80e918-635f-4a98-b03c-9019fd917a79",
   "metadata": {},
   "outputs": [
    {
     "data": {
      "text/plain": [
       "tensor([[-0.1660,  2.7241],\n",
       "        [ 3.2268,  3.8864],\n",
       "        [ 3.7312,  4.1178]])"
      ]
     },
     "execution_count": 73,
     "metadata": {},
     "output_type": "execute_result"
    }
   ],
   "source": [
    "A + B"
   ]
  },
  {
   "cell_type": "code",
   "execution_count": 74,
   "id": "4c3b4526-b3a3-4eee-be8a-b36edc0bf3ec",
   "metadata": {},
   "outputs": [
    {
     "data": {
      "text/plain": [
       "tensor([[0.],\n",
       "        [2.],\n",
       "        [4.]])"
      ]
     },
     "execution_count": 74,
     "metadata": {},
     "output_type": "execute_result"
    }
   ],
   "source": [
    "a1 = A[:, 0].reshape(3, 1) # squeeze해서 나옴, 그리고 column 형태로 저장하고 싶으면 reshape을 해줘야 됌\n",
    "a1 = a1.type(torch.float32) # type 변경하는 방법\n",
    "a1"
   ]
  },
  {
   "cell_type": "code",
   "execution_count": 75,
   "id": "e1bafaad-a175-43a2-8b7d-4a1987e1b6bd",
   "metadata": {},
   "outputs": [
    {
     "data": {
      "text/plain": [
       "torch.float32"
      ]
     },
     "execution_count": 75,
     "metadata": {},
     "output_type": "execute_result"
    }
   ],
   "source": [
    "a1.dtype"
   ]
  },
  {
   "cell_type": "code",
   "execution_count": 76,
   "id": "4bb1835c-80e1-4ebb-bef5-fe8dd08dc60e",
   "metadata": {},
   "outputs": [
    {
     "data": {
      "text/plain": [
       "tensor([[-0.1660,  1.7241],\n",
       "        [ 1.2268,  0.8864],\n",
       "        [-0.2688, -0.8822]])"
      ]
     },
     "execution_count": 76,
     "metadata": {},
     "output_type": "execute_result"
    }
   ],
   "source": [
    "B"
   ]
  },
  {
   "cell_type": "code",
   "execution_count": 77,
   "id": "be28d8e9-8ba9-44af-b98b-9a1de2367bf8",
   "metadata": {},
   "outputs": [
    {
     "data": {
      "text/plain": [
       "tensor([[ 1.7241],\n",
       "        [ 0.8864],\n",
       "        [-0.8822]])"
      ]
     },
     "execution_count": 77,
     "metadata": {},
     "output_type": "execute_result"
    }
   ],
   "source": [
    "b2 = B[:, 1].reshape(-1, 1)\n",
    "b2"
   ]
  },
  {
   "cell_type": "code",
   "execution_count": 78,
   "id": "6052072b-bf16-415b-b1bd-63e9b9dad620",
   "metadata": {},
   "outputs": [
    {
     "data": {
      "text/plain": [
       "torch.float32"
      ]
     },
     "execution_count": 78,
     "metadata": {},
     "output_type": "execute_result"
    }
   ],
   "source": [
    "b2.dtype"
   ]
  },
  {
   "cell_type": "code",
   "execution_count": 79,
   "id": "d6830b39-cede-4868-a9b2-f27a97a2687d",
   "metadata": {},
   "outputs": [
    {
     "data": {
      "text/plain": [
       "tensor([[-1.7559]])"
      ]
     },
     "execution_count": 79,
     "metadata": {},
     "output_type": "execute_result"
    }
   ],
   "source": [
    "np.matmul(a1.T, b2)"
   ]
  },
  {
   "cell_type": "code",
   "execution_count": 80,
   "id": "710d9980-4735-44be-973e-78770754003d",
   "metadata": {},
   "outputs": [
    {
     "data": {
      "text/plain": [
       "tensor([[-1.7559]])"
      ]
     },
     "execution_count": 80,
     "metadata": {},
     "output_type": "execute_result"
    }
   ],
   "source": [
    "torch.matmul(a1.T, b2)"
   ]
  },
  {
   "cell_type": "code",
   "execution_count": 86,
   "id": "59b4c4bc-30e4-4e0a-9761-94197b5e24bb",
   "metadata": {},
   "outputs": [],
   "source": [
    "x = torch.linspace(-10, 1, 20)\n",
    "y = torch.exp(x)"
   ]
  },
  {
   "cell_type": "code",
   "execution_count": 88,
   "id": "549dbd17-a6e8-452c-b260-2197be18d80e",
   "metadata": {},
   "outputs": [
    {
     "data": {
      "text/plain": [
       "[<matplotlib.lines.Line2D at 0x2a8a5290fd0>]"
      ]
     },
     "execution_count": 88,
     "metadata": {},
     "output_type": "execute_result"
    },
    {
     "data": {
      "image/png": "[encoded data removed]",
      "text/plain": [
       "<Figure size 640x480 with 1 Axes>"
      ]
     },
     "metadata": {},
     "output_type": "display_data"
    }
   ],
   "source": [
    "plt.plot(x, y)\n",
    "plt.plot(x, 1/2*x+2)"
   ]
  },
  {
   "cell_type": "code",
   "execution_count": 89,
   "id": "14c59f80-27ad-437b-9303-d092006e79df",
   "metadata": {},
   "outputs": [
    {
     "data": {
      "text/plain": [
       "tensor([[ 0.0135, -0.5446, -1.5515],\n",
       "        [-0.2651, -0.3214,  0.2271],\n",
       "        [-0.7800, -0.0852, -2.4193]])"
      ]
     },
     "execution_count": 89,
     "metadata": {},
     "output_type": "execute_result"
    }
   ],
   "source": [
    "C = torch.randn(3,3)\n",
    "C"
   ]
  },
  {
   "cell_type": "code",
   "execution_count": 90,
   "id": "6ce01520-8f3d-4960-b37e-d202eafd1f0d",
   "metadata": {},
   "outputs": [
    {
     "data": {
      "text/plain": [
       "tensor([[ 0.4639, -0.7864, -0.8399],\n",
       "        [-2.3630, -0.1435, -0.4471],\n",
       "        [-0.1392,  0.6184, -1.9221]])"
      ]
     },
     "execution_count": 90,
     "metadata": {},
     "output_type": "execute_result"
    }
   ],
   "source": [
    "D = torch.randn(3,3)\n",
    "D"
   ]
  },
  {
   "cell_type": "code",
   "execution_count": 91,
   "id": "e8ee3cc6-f638-4807-a5a5-6a12c4be3d69",
   "metadata": {},
   "outputs": [],
   "source": [
    "c1 = C[0,:]\n",
    "d1 = D[0,:]"
   ]
  },
  {
   "cell_type": "code",
   "execution_count": 92,
   "id": "0f9550e5-75d2-45ac-bddf-1de93c2b6126",
   "metadata": {},
   "outputs": [
    {
     "data": {
      "text/plain": [
       "tensor([2., 2., 2., 2.])"
      ]
     },
     "execution_count": 92,
     "metadata": {},
     "output_type": "execute_result"
    }
   ],
   "source": [
    "a = torch.tensor([1,2,3,4])\n",
    "b = 2*torch.ones(4)\n",
    "b"
   ]
  },
  {
   "cell_type": "code",
   "execution_count": 93,
   "id": "0e3e6b2d-205d-4474-9b31-e2adff2394b6",
   "metadata": {},
   "outputs": [
    {
     "data": {
      "text/plain": [
       "tensor([1, 2, 3, 4])"
      ]
     },
     "execution_count": 93,
     "metadata": {},
     "output_type": "execute_result"
    }
   ],
   "source": [
    "a"
   ]
  },
  {
   "cell_type": "code",
   "execution_count": 94,
   "id": "8849ce1b-c6cc-48aa-a749-272808b537c6",
   "metadata": {},
   "outputs": [],
   "source": [
    "c = a*b"
   ]
  },
  {
   "cell_type": "code",
   "execution_count": 95,
   "id": "2727809a-3f27-41b9-bc93-8b00f0417ca5",
   "metadata": {},
   "outputs": [
    {
     "data": {
      "text/plain": [
       "tensor([2., 4., 6., 8.])"
      ]
     },
     "execution_count": 95,
     "metadata": {},
     "output_type": "execute_result"
    }
   ],
   "source": [
    "c"
   ]
  },
  {
   "cell_type": "code",
   "execution_count": 96,
   "id": "aa62ec62-bad5-4839-8d8a-bdb38a9180d1",
   "metadata": {},
   "outputs": [
    {
     "data": {
      "text/plain": [
       "tensor(20.)"
      ]
     },
     "execution_count": 96,
     "metadata": {},
     "output_type": "execute_result"
    }
   ],
   "source": [
    "torch.sum(a*b)"
   ]
  },
  {
   "cell_type": "code",
   "execution_count": 97,
   "id": "291b72ba-64e5-43a4-b4f6-51b460c796e5",
   "metadata": {},
   "outputs": [
    {
     "data": {
      "text/plain": [
       "torch.float32"
      ]
     },
     "execution_count": 97,
     "metadata": {},
     "output_type": "execute_result"
    }
   ],
   "source": [
    "b.reshape(-1, 1).dtype"
   ]
  },
  {
   "cell_type": "code",
   "execution_count": 98,
   "id": "822bba19-dc87-4125-9f22-093f26a11475",
   "metadata": {},
   "outputs": [
    {
     "data": {
      "text/plain": [
       "tensor([20.])"
      ]
     },
     "execution_count": 98,
     "metadata": {},
     "output_type": "execute_result"
    }
   ],
   "source": [
    "torch.matmul(a.type(torch.float), b.reshape(-1, 1))"
   ]
  },
  {
   "cell_type": "code",
   "execution_count": 114,
   "id": "4466b2d4-747a-4bb5-b716-384ae8325ca1",
   "metadata": {},
   "outputs": [
    {
     "data": {
      "text/plain": [
       "tensor([[ 3,  4,  5,  6],\n",
       "        [ 7,  8,  9, 10]])"
      ]
     },
     "execution_count": 114,
     "metadata": {},
     "output_type": "execute_result"
    }
   ],
   "source": [
    "A = torch.arange(3, 11, 1).reshape(2, 4)\n",
    "A"
   ]
  },
  {
   "cell_type": "code",
   "execution_count": 111,
   "id": "a7cb3c68-c402-4b27-a20f-e238008f033d",
   "metadata": {},
   "outputs": [
    {
     "data": {
      "text/plain": [
       "tensor([[-0.6579],\n",
       "        [-1.2331],\n",
       "        [ 1.8107],\n",
       "        [ 0.4083]])"
      ]
     },
     "execution_count": 111,
     "metadata": {},
     "output_type": "execute_result"
    }
   ],
   "source": [
    "c = torch.sum(A, axis = 1).reshape(-1, 1) # mean : 평균\n",
    "c"
   ]
  },
  {
   "cell_type": "code",
   "execution_count": 115,
   "id": "2675e069-cad4-432b-bd5d-f778ffdd0261",
   "metadata": {},
   "outputs": [
    {
     "data": {
      "text/plain": [
       "tensor([[5., 6., 7., 8.]])"
      ]
     },
     "execution_count": 115,
     "metadata": {},
     "output_type": "execute_result"
    }
   ],
   "source": [
    "c = torch.mean(A.type(torch.float32), axis = 0).reshape(1, -1)\n",
    "c"
   ]
  },
  {
   "cell_type": "code",
   "execution_count": 116,
   "id": "88aed906-dd44-4a07-b1e6-8c0bb1cc0952",
   "metadata": {},
   "outputs": [
    {
     "data": {
      "text/plain": [
       "tensor([[5.],\n",
       "        [6.],\n",
       "        [7.],\n",
       "        [8.]])"
      ]
     },
     "execution_count": 116,
     "metadata": {},
     "output_type": "execute_result"
    }
   ],
   "source": [
    "c.T"
   ]
  },
  {
   "cell_type": "code",
   "execution_count": 117,
   "id": "bdc5c079-3196-480a-8c5c-f36e10e74962",
   "metadata": {},
   "outputs": [
    {
     "data": {
      "text/plain": [
       "tensor([[-0.8435, -1.2615,  0.0995],\n",
       "        [-0.7137, -1.4543, -1.8944],\n",
       "        [-0.7595, -0.1990,  0.4909],\n",
       "        [-0.0019,  0.4761, -0.0271]])"
      ]
     },
     "execution_count": 117,
     "metadata": {},
     "output_type": "execute_result"
    }
   ],
   "source": [
    "A = torch.randn(4, 3)\n",
    "A"
   ]
  },
  {
   "cell_type": "code",
   "execution_count": 118,
   "id": "1f7bbc9b-90f5-4ad9-b36d-2eb52daf71e4",
   "metadata": {},
   "outputs": [
    {
     "data": {
      "text/plain": [
       "tensor([[1.],\n",
       "        [1.],\n",
       "        [1.],\n",
       "        [1.]])"
      ]
     },
     "execution_count": 118,
     "metadata": {},
     "output_type": "execute_result"
    }
   ],
   "source": [
    "B = torch.ones((4, 1))\n",
    "B"
   ]
  },
  {
   "cell_type": "code",
   "execution_count": 119,
   "id": "e52beee8-a069-469e-a1ca-e1880cb03723",
   "metadata": {},
   "outputs": [
    {
     "data": {
      "text/plain": [
       "tensor([[ 0.1565, -0.2615,  1.0995],\n",
       "        [ 0.2863, -0.4543, -0.8944],\n",
       "        [ 0.2405,  0.8010,  1.4909],\n",
       "        [ 0.9981,  1.4761,  0.9729]])"
      ]
     },
     "execution_count": 119,
     "metadata": {},
     "output_type": "execute_result"
    }
   ],
   "source": [
    "A + B # 브로드 캐스팅"
   ]
  },
  {
   "cell_type": "code",
   "execution_count": null,
   "id": "eefd57bb-0fba-4142-8a57-792fb43f1fd2",
   "metadata": {},
   "outputs": [],
   "source": []
  }
 ],
 "metadata": {
  "kernelspec": {
   "display_name": "Python 3 (ipykernel)",
   "language": "python",
   "name": "python3"
  },
  "language_info": {
   "codemirror_mode": {
    "name": "ipython",
    "version": 3
   },
   "file_extension": ".py",
   "mimetype": "text/x-python",
   "name": "python",
   "nbconvert_exporter": "python",
   "pygments_lexer": "ipython3",
   "version": "3.9.12"
  }
 },
 "nbformat": 4,
 "nbformat_minor": 5
}
